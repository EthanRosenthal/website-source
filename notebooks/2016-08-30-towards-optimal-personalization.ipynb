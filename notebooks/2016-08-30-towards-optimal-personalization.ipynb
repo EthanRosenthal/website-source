{
 "cells": [
  {
   "cell_type": "markdown",
   "metadata": {},
   "source": [
    "<!-- PELICAN_BEGIN_SUMMARY -->\n",
    "\n",
    "Last [post]({filename}/2016-07-20-lets-talk-or.md) I talked about how data scientists probably ought to spend some time talking about optimization (but not too much time - I need topics for my blog posts!). While I provided a basic optimization example in that post, that may have not been so interesting, and there definitely wasn't any machine learning involved. \n",
    "\n",
    "<!-- PELICAN_END_SUMMARY -->\n",
    "\n",
    "Right now, I think that the most exciting industrial applications of optimization are those that synthesize machine learning and optimization in order to obtain optimal personalization at scale.\n",
    "\n",
    "Here, I'll talk about a more concrete use case of this synthesis that you might see at a company.\n",
    "\n",
    "## All the ML and nowhere to go\n",
    "\n",
    "Let's say you start working at a Software-As-A-Service (SAAS) company, and you end up in a meeting with the Marketing team. Everybody's talking about churn. Marketing has been trying all sorts of things - they've sent coupons, they've called customers, they've sent emails, and everything else in order to decrease churn. Some things work, some things are expensive, and there are lots of questions. Nobody knows SQL, so you offer to look at the data.\n",
    "\n",
    "It turns out that it seems like there might be some clear differences in customers who eventually churn and customers who do not. You offer to build an algorithm to predict customer churn broken out by intervention medium (e.g. email, phone call, no intervention, etc...). \n",
    "\n",
    "You get the greenlight to hack away. Of course, this takes much longer than you or Marketing expects (because pretty much all machine learning does), but in the end you're left with multiple classification models that are well-tuned with a bunch of features.\n",
    "\n",
    "*You're in a great place. You actually built machine learning models that work.*\n",
    "\n",
    "But what now?\n",
    "\n",
    "You can go the common route. You write a long script that will run the churn model every so often and populate a database with the results. You tell Marketing and everybody else that this information is now available, and you hope that they will use it. \n",
    "\n",
    "And they might. \n",
    "\n",
    "Or, those numbers will sit there.\n",
    "\n",
    "Or, Marketing will randomly target the top X% of people most likely to churn with their expensive intervention (say, phone call) and email the rest. \n",
    "\n",
    "None of this is optimal.\n",
    "\n",
    "## Optimization to the rescue\n",
    "\n",
    "When there's lots of decisions to make and there's a clear goal, then optimization is a great friend to have. The goal here is to prevent churn. We will have some constraints (mainly money). Let's make up some data and walk through how to solve this in python.\n",
    "\n",
    "## Defining (making up) the problem\n",
    "\n",
    "We'll assume that we have 4 different types of churn prevention messages at 4 different prices:\n",
    "\n",
    "| Media  | Price  |\n",
    "|---|---|\n",
    "| Email  | 0.25  |\n",
    "| Push notification  | 0.30  |\n",
    "| Text message  | 0.85  |\n",
    "| Phone Call  | 5.00  |\n",
    "\n",
    "Also, Marketing has a monthly budget of $2,000 to spend on messaging 2,000 customers. Let's optimize! We'll start by making up some fake outputs of your supposed machine learning model.\n",
    "\n",
    "*Author's note: There are probably more dimensions to this problem that you would care about in reality. For example, a customer lifetime value (LTV) model would help in order to decide which customers are more valuable post churn prevention.*"
   ]
  },
  {
   "cell_type": "code",
   "execution_count": 1,
   "metadata": {
    "collapsed": true
   },
   "outputs": [],
   "source": [
    "import numpy as np\n",
    "import pandas as pd\n",
    "np.random.seed(2016)"
   ]
  },
  {
   "cell_type": "code",
   "execution_count": 2,
   "metadata": {
    "collapsed": false
   },
   "outputs": [
    {
     "data": {
      "text/html": [
       "<div>\n",
       "<table border=\"1\" class=\"dataframe\">\n",
       "  <thead>\n",
       "    <tr style=\"text-align: right;\">\n",
       "      <th></th>\n",
       "      <th>email</th>\n",
       "      <th>push</th>\n",
       "      <th>text</th>\n",
       "      <th>phone</th>\n",
       "    </tr>\n",
       "  </thead>\n",
       "  <tbody>\n",
       "    <tr>\n",
       "      <th>1949099</th>\n",
       "      <td>0.028448</td>\n",
       "      <td>0.277781</td>\n",
       "      <td>0.171171</td>\n",
       "      <td>0.877097</td>\n",
       "    </tr>\n",
       "    <tr>\n",
       "      <th>1291518</th>\n",
       "      <td>0.143909</td>\n",
       "      <td>0.214208</td>\n",
       "      <td>0.281430</td>\n",
       "      <td>0.014325</td>\n",
       "    </tr>\n",
       "    <tr>\n",
       "      <th>1062730</th>\n",
       "      <td>0.137871</td>\n",
       "      <td>0.003360</td>\n",
       "      <td>0.016220</td>\n",
       "      <td>0.646562</td>\n",
       "    </tr>\n",
       "    <tr>\n",
       "      <th>1397907</th>\n",
       "      <td>0.143817</td>\n",
       "      <td>0.048553</td>\n",
       "      <td>0.140430</td>\n",
       "      <td>0.268116</td>\n",
       "    </tr>\n",
       "    <tr>\n",
       "      <th>1311949</th>\n",
       "      <td>0.045251</td>\n",
       "      <td>0.248514</td>\n",
       "      <td>0.112957</td>\n",
       "      <td>0.317091</td>\n",
       "    </tr>\n",
       "  </tbody>\n",
       "</table>\n",
       "</div>"
      ],
      "text/plain": [
       "            email      push      text     phone\n",
       "1949099  0.028448  0.277781  0.171171  0.877097\n",
       "1291518  0.143909  0.214208  0.281430  0.014325\n",
       "1062730  0.137871  0.003360  0.016220  0.646562\n",
       "1397907  0.143817  0.048553  0.140430  0.268116\n",
       "1311949  0.045251  0.248514  0.112957  0.317091"
      ]
     },
     "execution_count": 2,
     "metadata": {},
     "output_type": "execute_result"
    }
   ],
   "source": [
    "n_customers = 2000\n",
    "\n",
    "customer_ids = np.random.randint(1000000, 2000000, size=n_customers)\n",
    "\n",
    "# Define retention success probabilities.\n",
    "email_prob = np.random.random(size=n_customers) * 0.2\n",
    "push_prob = np.random.random(size=n_customers) * 0.3\n",
    "text_prob = np.random.random(size=n_customers) * 0.4\n",
    "phone_prob = np.random.random(size=n_customers) * 0.9\n",
    "\n",
    "prob_df = pd.DataFrame({'email': email_prob,\n",
    "                   'push': push_prob,\n",
    "                   'text': text_prob,\n",
    "                   'phone': phone_prob},\n",
    "                  index=customer_ids)\n",
    "# assure column order\n",
    "message_types = ['email', 'push', 'text', 'phone']\n",
    "prob_df = prob_df[message_types]\n",
    "prob_df.head()"
   ]
  },
  {
   "cell_type": "markdown",
   "metadata": {},
   "source": [
    "## Setting up the math: Objective + Constraints\n",
    "\n",
    "As with all optimization problems, you should start with what you want to optimize (this is your objective function, cost function, loss function, or whatever else you want to call it). Here, we want to minimize churn, or, conversely, maximize retention. Let us define a matrix $M$ consisting of element variables $m_{ij} \\in \\{0, 1\\}$ which indicate whether or not customer $i$ receives a message from intervention medium $j$.\n",
    "\n",
    "We can then use our retention probabilities as coeffecients to $M$ in order to create our objective function to maximize. We define $p_{ij}$ as the probability that customer $i$ is retained by intervention medium $j$. Our objective function is thus\n",
    "\n",
    "$$R = \\sum\\limits_{i,j}p_{ij}m_{ij}$$\n",
    "\n",
    "Let's reflect for a second on how cool this is. The *outputs* of a fancy machine learning model are being fed in as *inputs* to this new optimization problem.\n",
    "\n",
    "Okay enough reflection - we have our function to maximize. The next question is, say it with me class, \"What are the constraints?\"\n",
    "\n",
    "We only have two, and they're relatively simple:\n",
    "\n",
    "* Each customer can only get one message.\n",
    "$$\\forall i \\sum\\limits_{j}m_{ij} = 1$$\n",
    "\n",
    "* There's a limited budget of 2K. We'll take $c_{j}$ to be the price of sending a message of type $j$.\n",
    "$$\\sum\\limits_{ij}m_{ij} c_{j} \\leq 2,000$$\n",
    "\n",
    "## Math $\\Rightarrow$ Code\n",
    "\n",
    "For ease of translation, I will use the same variable names in the code as I used in the above math. Note: some people might get angry if you do this in production code.\n",
    "\n",
    "We start with defining index lists and the matrices for the constants in the problem."
   ]
  },
  {
   "cell_type": "code",
   "execution_count": 3,
   "metadata": {
    "collapsed": false
   },
   "outputs": [],
   "source": [
    "# Indices\n",
    "customer_index = range(prob_df.shape[0]) # i\n",
    "message_index = range(len(message_types)) # j\n",
    "tier_index = range(4) # k"
   ]
  },
  {
   "cell_type": "code",
   "execution_count": 4,
   "metadata": {
    "collapsed": false
   },
   "outputs": [],
   "source": [
    "# Matrices of constants\n",
    "\n",
    "# Retention probabilities\n",
    "p = prob_df.as_matrix()\n",
    "p.round(decimals=4)\n",
    "\n",
    "# Pricing\n",
    "c = [0.25, 0.30, 0.85, 5.00]\n",
    "\n",
    "budget = 2000"
   ]
  },
  {
   "cell_type": "markdown",
   "metadata": {},
   "source": [
    "With the constants defined, we can now build the variables to our optimization problem. Just like how we wrote out the math, we'll define our variables and objective function before adding the constraints. Similarly to my last post, I'll use the Python library [pulp](https://pythonhosted.org/PuLP/)."
   ]
  },
  {
   "cell_type": "code",
   "execution_count": 5,
   "metadata": {
    "collapsed": false
   },
   "outputs": [],
   "source": [
    "from pulp import *\n",
    "\n",
    "# Create variables\n",
    "prob = LpProblem('Churn Prevention Problem', LpMaximize)\n",
    "m = {}\n",
    "a = {}\n",
    "t = {}\n",
    "\n",
    "for i in customer_index:\n",
    "    for j in message_index:\n",
    "        m[i, j] = LpVariable('m_{}_{}'.format(i, j),\n",
    "                             lowBound=0,\n",
    "                             upBound=1,\n",
    "                             cat='Binary')      \n",
    "    \n",
    "# Add the objective functions\n",
    "prob += (lpSum([m[i, j] * p[i, j]\n",
    "               for i in customer_index\n",
    "               for j in message_index]),\n",
    "        'Total retention probability')"
   ]
  },
  {
   "cell_type": "code",
   "execution_count": 6,
   "metadata": {
    "collapsed": false
   },
   "outputs": [],
   "source": [
    "# Simple constraint\n",
    "for i in customer_index:\n",
    "    prob += (lpSum([m[i, j] for j in message_index]) == 1,\n",
    "             'One message for cust {}'.format(i))"
   ]
  },
  {
   "cell_type": "code",
   "execution_count": 7,
   "metadata": {
    "collapsed": false
   },
   "outputs": [],
   "source": [
    "# Max budget constraint\n",
    "prob += (lpSum([m[i, j] * c[j]\n",
    "               for i in customer_index\n",
    "               for j in message_index]) <= budget,\n",
    "        'Budget')"
   ]
  },
  {
   "cell_type": "markdown",
   "metadata": {},
   "source": [
    "Our problem is now fully defined, and we'll use [GLPK](https://www.gnu.org/software/glpk/) in order to solve it. I've also added a GLPK option to log the output so that we can view it in the Jupyter notebook."
   ]
  },
  {
   "cell_type": "code",
   "execution_count": 8,
   "metadata": {
    "collapsed": false
   },
   "outputs": [
    {
     "data": {
      "text/plain": [
       "1"
      ]
     },
     "execution_count": 8,
     "metadata": {},
     "output_type": "execute_result"
    }
   ],
   "source": [
    "prob.solve(GLPK_CMD(msg=3, options=['--log', 'glpk.log']))"
   ]
  },
  {
   "cell_type": "code",
   "execution_count": 9,
   "metadata": {
    "collapsed": false
   },
   "outputs": [
    {
     "name": "stdout",
     "output_type": "stream",
     "text": [
      "GLPSOL: GLPK LP/MIP Solver, v4.52\n",
      "Parameter(s) specified in the command line:\n",
      " --cpxlp /tmp/21270-pulp.lp -o /tmp/21270-pulp.sol --log glpk.log\n",
      "Reading problem data from '/tmp/21270-pulp.lp'...\n",
      "2001 rows, 8000 columns, 16000 non-zeros\n",
      "8000 integer variables, all of which are binary\n",
      "14597 lines were read\n",
      "GLPK Integer Optimizer, v4.52\n",
      "2001 rows, 8000 columns, 16000 non-zeros\n",
      "8000 integer variables, all of which are binary\n",
      "Preprocessing...\n",
      "2001 rows, 8000 columns, 16000 non-zeros\n",
      "8000 integer variables, all of which are binary\n",
      "Scaling...\n",
      " A: min|aij| =  2.500e-01  max|aij| =  5.000e+00  ratio =  2.000e+01\n",
      "Problem data seem to be well scaled\n",
      "Constructing initial basis...\n",
      "Size of triangular part is 2001\n",
      "Solving LP relaxation...\n",
      "GLPK Simplex Optimizer, v4.52\n",
      "2001 rows, 8000 columns, 16000 non-zeros\n",
      "      0: obj =   9.052573077e+02  infeas =  8.000e+03 (0)\n",
      "    500: obj =   7.312807825e+02  infeas =  5.625e+03 (0)\n",
      "   1000: obj =   5.524409426e+02  infeas =  3.250e+03 (0)\n",
      "   1500: obj =   3.750374626e+02  infeas =  8.750e+02 (0)\n",
      "*  1685: obj =   3.187530007e+02  infeas =  0.000e+00 (0)\n",
      "*  2000: obj =   3.600976718e+02  infeas =  5.568e-15 (0)\n",
      "*  2500: obj =   4.024145484e+02  infeas =  2.986e-14 (0)\n",
      "*  3000: obj =   4.352597569e+02  infeas =  9.182e-14 (0)\n",
      "*  3500: obj =   4.811161931e+02  infeas =  1.698e-13 (0)\n",
      "*  4000: obj =   5.376977102e+02  infeas =  3.274e-13 (0)\n",
      "*  4500: obj =   5.894224210e+02  infeas =  6.210e-13 (0)\n",
      "*  5000: obj =   6.144242918e+02  infeas =  7.468e-13 (0)\n",
      "*  5181: obj =   6.165775504e+02  infeas =  0.000e+00 (0)\n",
      "OPTIMAL LP SOLUTION FOUND\n",
      "Integer optimization begins...\n",
      "+  5181: mip =     not found yet <=              +inf        (1; 0)\n",
      "Solution found by heuristic: 616.329183066\n",
      "Solution found by heuristic: 616.397534532\n",
      "Solution found by heuristic: 616.450556569\n",
      "Solution found by heuristic: 616.487520962\n",
      "Solution found by heuristic: 616.560272941\n",
      "Solution found by heuristic: 616.565833175\n",
      "+  5734: >>>>>   6.165693049e+02 <=   6.165769339e+02 < 0.1% (205; 103)\n",
      "+  5830: >>>>>   6.165699159e+02 <=   6.165768357e+02 < 0.1% (190; 215)\n",
      "+  5898: >>>>>   6.165734196e+02 <=   6.165768069e+02 < 0.1% (206; 251)\n",
      "+  5957: >>>>>   6.165740306e+02 <=   6.165766934e+02 < 0.1% (124; 454)\n",
      "+  6063: >>>>>   6.165749676e+02 <=   6.165762775e+02 < 0.1% (125; 509)\n",
      "+  6110: >>>>>   6.165755786e+02 <=   6.165761893e+02 < 0.1% (65; 664)\n",
      "+  6174: mip =   6.165755786e+02 <=     tree is empty   0.0% (0; 853)\n",
      "INTEGER OPTIMAL SOLUTION FOUND\n",
      "Time used:   4.9 secs\n",
      "Memory used: 10.8 Mb (11354098 bytes)\n",
      "Writing MIP solution to `/tmp/21270-pulp.sol'...\n"
     ]
    }
   ],
   "source": [
    "with open('glpk.log', 'r') as f:\n",
    "    for line in f:\n",
    "        print(line.rstrip('\\n'))"
   ]
  },
  {
   "cell_type": "code",
   "execution_count": 10,
   "metadata": {
    "collapsed": false
   },
   "outputs": [
    {
     "name": "stdout",
     "output_type": "stream",
     "text": [
      "Status: Optimal\n"
     ]
    }
   ],
   "source": [
    "print(\"Status: {}\".format(LpStatus[prob.status]))"
   ]
  },
  {
   "cell_type": "markdown",
   "metadata": {},
   "source": [
    "Voil&aacute;! We now have a fully personalized strategy for churn prevention and can now explore the solution to our hearts' content."
   ]
  },
  {
   "cell_type": "code",
   "execution_count": 11,
   "metadata": {
    "collapsed": false
   },
   "outputs": [
    {
     "name": "stdout",
     "output_type": "stream",
     "text": [
      "Total email messages: 312\n",
      "Total push messages: 744\n",
      "Total text messages: 728\n",
      "Total phone messages: 216\n"
     ]
    }
   ],
   "source": [
    "for j, m_type in enumerate(message_types):\n",
    "    print('Total {} messages: {}'.format(\n",
    "            m_type, np.sum([m[i, j].varValue for i in customer_index])))"
   ]
  },
  {
   "cell_type": "code",
   "execution_count": 12,
   "metadata": {
    "collapsed": false
   },
   "outputs": [
    {
     "name": "stdout",
     "output_type": "stream",
     "text": [
      "Total cost: $2000.00\n"
     ]
    }
   ],
   "source": [
    "total_cost = np.sum([m[i, j].varValue * c[j]\n",
    "                     for i in customer_index\n",
    "                     for j in message_index])\n",
    "print('Total cost: ${:.2f}'.format(np.round(total_cost, 2)))"
   ]
  },
  {
   "cell_type": "code",
   "execution_count": 13,
   "metadata": {
    "collapsed": false
   },
   "outputs": [
    {
     "name": "stdout",
     "output_type": "stream",
     "text": [
      "Probability sum (i.e. the objective function): 616.575578582\n"
     ]
    }
   ],
   "source": [
    "obj = np.sum([m[i, j].varValue * p[i, j]\n",
    "              for i in customer_index\n",
    "              for j in message_index])\n",
    "print('Probability sum (i.e. the objective function): {}'.format(obj))"
   ]
  },
  {
   "cell_type": "markdown",
   "metadata": {},
   "source": [
    "## Tricks of the optimization trade\n",
    "\n",
    "That was fun, but now I'd like to complicate things (and make them more realistic) by assuming that there are pricing plans for each of these message types that change with number of messages sent:\n",
    "\n",
    "| Media  | <500  |  500-999  | 1,000-1,499  | >1,500  |\n",
    "|---|---|---|---|---|\n",
    "| Email  | 0.25  | 0.20  | 0.15  | 0.10  |\n",
    "| Push notification  | 0.30  | 0.25  | 0.225  | 0.20  |\n",
    "| Text message  | 0.85  | 0.65  | 0.50  | 0.30  |\n",
    "| Phone Call  | 5.00  | 5.00  | 5.00  | 5.00  |\n",
    "\n",
    "You employ your own employees for the phones, so this cost does not benefit from economies of scale.\n",
    "\n",
    "The budget constraint will now have to be rewritten, and it will be much more difficult. Seriously, it's pretty tricky.\n",
    "\n",
    "With the tiered pricing, we introduce step functions to the cost. What follows is the best method I could think up to solve this problem, but I would love to know if anybody has better ideas.\n",
    "\n",
    "To start, we'll consider $<$500 messages to be our *base* tier. We will then call each subsequent tier Tier 1, Tier 2, and Tier 3 (500-1,000, 1,000-1,499, and $>$1,500 messages, respectively). We must create two new types of variables. \n",
    "\n",
    "The first will be indicator variables which indicate whether or not we have \"activated\" a particular tier for a particular message type. Mathematically, let us define $a_{jk} \\in \\{0, 1\\}$ to indicate whether or not we have sold *at least* the minimum amount of messages of type $j$ in Tier $k$.\n",
    "\n",
    "The second type of variable will be integer variables $t_{jk} \\in \\mathbb{Z}_{\\geq 0}$ which tell us how many messages of type $j$ that we have sent above the minimum amount of messages for tier $k$. The way that we will calculate the price for sending $N$ messages of type $j$ will be to calculate the base cost and then subtract \"discounts\" from the total cost as we move up in tiers.\n",
    "\n",
    "Okay, to summarize, we need to define both $a_{jk}$, our tier activation indicators, and $t_{jk}$, our tier message counters. Let's let $l_{k}$ be the minimum (lower) amount of messages needed to be sent in order to move up in a Tier. With the following two constraints, the behavior of $a$ will be fully defined\n",
    "\n",
    "$$\\forall j, k \\geq 1 \\quad \\sum\\limits_{i}m_{ij} \\leq l_{k} - 1 + X a_{jk}$$\n",
    "$$\\forall j,k \\geq 1 \\quad \\sum\\limits_{i}m_{ij} \\geq l_{k} - X(1 - a_{jk})$$\n",
    "\n",
    "where $X$ is a sufficiently large number (like the maximum of $\\sum\\limits_{i}m_{ij}$). This technique of using this large number is called the [Big M method](https://en.wikipedia.org/wiki/Big_M_method) from the common nomenclature of using an $M$ instead of my choice of $X$ (I already used an $M$ earlier!). The two constraints above are quite confusing. I know this much is true because it took me a long time to make sure that I had them right. I would suggest walking through an example to make sure that you understand what's going on. You can pick a single $k$, like the first Tier where $l_{1} = 500$. Now, imagine if 499 messages of some type $j$ had been sent such that $\\sum\\limits_{i}m_{ij} = 499$. What do the constraints say that $a_{j1}$ must be? Now, perform the same test for 500 and 501 messages and assure yourself that the constraints never disagree with each other and that $a_{j1}$ flips from 0 to 1 when it is supposed to.\n",
    "\n",
    "With $a$ defined, it is one more set of mental gymnastics in order to define $t$:\n",
    "\n",
    "$$\\forall j,k \\geq 1 \\quad  t_{jk} \\leq Xa_{jk}$$\n",
    "$$\\forall j,k \\geq 1 \\quad  t_{jk} + l_{jk} \\geq \\sum\\limits_{i}m_{ij} - X (1 - a_{jk})$$\n",
    "$$\\forall j,k \\geq 1 \\quad  t_{jk} + l_{jk} \\leq \\sum\\limits_{i}m_{ij} + X (1 - a_{jk})$$\n",
    "\n",
    "The first constraint ensures that if $a$ is 0 then $t$ must be 0, as well. The other two constraints guarantee that when $a$ is 1, then $t_{jk} = \\sum\\limits_{i}m_{ij} - l_{jk}$ which is exactly the number of messages greater than the minimum threshold for Tier $k$.\n",
    "\n",
    "With all of these god forsaken constraints defined, we can finally write our budget constraint. We will take $c_{jk}$ to be the cost for sending a single message from Tier $k$ where $k=0$ is the base cost. For $k>0$, we will take $c_{jk}$ to be the extra discount obtained by reaching that tier (it is positive, and we subtract it from the base cost).\n",
    "\n",
    "$$\\sum\\limits_{j}\\Big(\\sum\\limits_{i}m_{ij}c_{j0} - \\sum\\limits_{k \\geq 1}t_{jk}c_{jk}\\Big) \\leq 2,000$$\n",
    "\n",
    "Phew!\n",
    "\n",
    "## Math $\\Rightarrow$ Code Redux\n",
    "\n",
    "Finally, we get back to the code. We can reuse some of the old variables, but we'll need to rewrite our cost matrix and add some tier information."
   ]
  },
  {
   "cell_type": "code",
   "execution_count": 14,
   "metadata": {
    "collapsed": false
   },
   "outputs": [],
   "source": [
    "# New Indices\n",
    "tier_index = range(4) # k\n",
    "\n",
    "# New matrices of constants\n",
    "\n",
    "# Tier pricing\n",
    "c = np.array([[0.25, 0.20, 0.15, 0.10],\n",
    "              [0.30, 0.25, 0.225, 0.20],\n",
    "              [0.85, 0.65, 0.50, 0.30],\n",
    "              [5.00, 5.00, 5.00, 5.00]])\n",
    "\n",
    "# Recall that we must transform c\n",
    "# to get the marginal discount.\n",
    "# There's probably a fancy numpy way to do this\n",
    "# but ain't nobody got time for that.\n",
    "\n",
    "# Note we must slice in reverse if we\n",
    "# want to do this in place.\n",
    "for j in range(c.shape[1] - 1, 0, -1):\n",
    "    c[:, j] -= c[:, j-1]\n",
    "\n",
    "c = np.abs(c)\n",
    "    \n",
    "# Tier thresholds\n",
    "l = [0, 500, 1000, 1500]"
   ]
  },
  {
   "cell_type": "markdown",
   "metadata": {},
   "source": [
    "We solve the problem similarly to before but need our two new variables along with their associated constraints."
   ]
  },
  {
   "cell_type": "code",
   "execution_count": 15,
   "metadata": {
    "collapsed": false
   },
   "outputs": [],
   "source": [
    "# Create variables\n",
    "prob = LpProblem('Tiered Churn Prevention Problem', LpMaximize)\n",
    "m = {}\n",
    "a = {}\n",
    "t = {}\n",
    "\n",
    "for i in customer_index:\n",
    "    for j in message_index:\n",
    "        m[i, j] = LpVariable('m_{}_{}'.format(i, j),\n",
    "                             lowBound=0,\n",
    "                             upBound=1,\n",
    "                             cat='Binary')\n",
    "for j in message_index:\n",
    "    for k in tier_index[1:]:\n",
    "        a[j, k] = LpVariable('a_{}_{}'.format(j, k),\n",
    "                             lowBound=0,\n",
    "                             upBound=1,\n",
    "                             cat='Binary')\n",
    "        \n",
    "        t[j, k] = LpVariable('t_{}_{}'.format(j, k),\n",
    "                             lowBound=0,\n",
    "                             upBound=len(customer_index) - l[k],\n",
    "                             cat='Integer')\n",
    "        \n",
    "    \n",
    "# Add the objective functions\n",
    "prob += (lpSum([m[i, j] * p[i, j]\n",
    "               for i in customer_index\n",
    "               for j in message_index]),\n",
    "        'Total retention probability')"
   ]
  },
  {
   "cell_type": "code",
   "execution_count": 16,
   "metadata": {
    "collapsed": false
   },
   "outputs": [],
   "source": [
    "# Simple constraint\n",
    "for i in customer_index:\n",
    "    prob += (lpSum([m[i, j] for j in message_index]) == 1,\n",
    "             'One message for cust {}'.format(i))"
   ]
  },
  {
   "cell_type": "code",
   "execution_count": 17,
   "metadata": {
    "collapsed": true
   },
   "outputs": [],
   "source": [
    "# Hard pricing tier constraints\n",
    "X = len(customer_index) # Max value of sum_{i}(m_{ij})\n",
    "\n",
    "for j in message_index:\n",
    "    m_sum = lpSum([m[i, j] for i in customer_index])\n",
    "    for k in tier_index[1:]:\n",
    "        prob += (m_sum <= l[k] - 1 + X*a[j, k],\n",
    "                 'hard constraint 1 {}_{}'.format(j, k))\n",
    "        prob += (m_sum >= l[k] - X*(1 - a[j, k]),\n",
    "                 'hard constraint 2 {}_{}'.format(j, k))\n",
    "        prob += (t[j, k] <= X * a[j, k],\n",
    "                 'hard constraint 3 {}_{}'.format(j, k))\n",
    "        prob += (t[j, k] + l[k] >= m_sum - X*(1 - a[j, k]),\n",
    "                 'hard constraint 4 {}_{}'.format(j, k))\n",
    "        prob += (t[j, k] + l[k] <= m_sum + X*(1 - a[j, k]),\n",
    "                 'hard constraint 5 {}_{}'.format(j, k))"
   ]
  },
  {
   "cell_type": "code",
   "execution_count": 18,
   "metadata": {
    "collapsed": false
   },
   "outputs": [],
   "source": [
    "# Max budget constraint\n",
    "prob += (lpSum([lpSum([m[i, j] * c[j, 0] for i in customer_index])\n",
    "               - lpSum([t[j, k] * c[j, k] for k in tier_index[1:]])\n",
    "               for j in message_index]) <= budget,\n",
    "        'Budget')"
   ]
  },
  {
   "cell_type": "markdown",
   "metadata": {},
   "source": [
    "Even with our relatively small problem of 2000 customers, GLPK has a bit of difficulty in converging when using the default optimization parameters. I'll add a slightly smaller ```mipgap``` (difference between upper bound and current feasible solution) in order to lower the tolerance for this example. Note that this is not necessarily GLPK's fault. There are other constraints that I could have written that do help the solver e.g.\n",
    "\n",
    "$$\\forall j, k \\geq 1 \\quad t_{j, k-1} \\geq t_{j, k} $$"
   ]
  },
  {
   "cell_type": "code",
   "execution_count": 19,
   "metadata": {
    "collapsed": false
   },
   "outputs": [
    {
     "data": {
      "text/plain": [
       "1"
      ]
     },
     "execution_count": 19,
     "metadata": {},
     "output_type": "execute_result"
    }
   ],
   "source": [
    "glpk_options = ['--log', 'glpk.log', '--mipgap', '0.0001']\n",
    "prob.solve(GLPK_CMD(msg=3, options=glpk_options))"
   ]
  },
  {
   "cell_type": "code",
   "execution_count": 20,
   "metadata": {
    "collapsed": false
   },
   "outputs": [
    {
     "name": "stdout",
     "output_type": "stream",
     "text": [
      "GLPSOL: GLPK LP/MIP Solver, v4.52\n",
      "Parameter(s) specified in the command line:\n",
      " --cpxlp /tmp/21270-pulp.lp -o /tmp/21270-pulp.sol --log glpk.log --mipgap\n",
      " 0.0001\n",
      "Reading problem data from '/tmp/21270-pulp.lp'...\n",
      "2061 rows, 8024 columns, 112105 non-zeros\n",
      "8024 integer variables, 8012 of which are binary\n",
      "28352 lines were read\n",
      "GLPK Integer Optimizer, v4.52\n",
      "2061 rows, 8024 columns, 112105 non-zeros\n",
      "8024 integer variables, 8012 of which are binary\n",
      "Preprocessing...\n",
      "48 constraint coefficient(s) were reduced\n",
      "2061 rows, 8024 columns, 112105 non-zeros\n",
      "8024 integer variables, 8012 of which are binary\n",
      "Scaling...\n",
      " A: min|aij| =  2.500e-02  max|aij| =  2.000e+03  ratio =  8.000e+04\n",
      "GM: min|aij| =  4.076e-01  max|aij| =  2.454e+00  ratio =  6.020e+00\n",
      "EQ: min|aij| =  1.662e-01  max|aij| =  1.000e+00  ratio =  6.016e+00\n",
      "2N: min|aij| =  1.250e-01  max|aij| =  1.466e+00  ratio =  1.173e+01\n",
      "Constructing initial basis...\n",
      "Size of triangular part is 2061\n",
      "Solving LP relaxation...\n",
      "GLPK Simplex Optimizer, v4.52\n",
      "2061 rows, 8024 columns, 112105 non-zeros\n",
      "      0: obj =   9.052573077e+02  infeas =  3.002e+04 (0)\n",
      "    500: obj =   7.318330422e+02  infeas =  1.729e+04 (0)\n",
      "   1000: obj =   7.313162448e+02  infeas =  1.727e+04 (0)\n",
      "   1500: obj =   5.770586355e+02  infeas =  8.593e+03 (0)\n",
      "   2000: obj =   5.768708977e+02  infeas =  8.558e+03 (0)\n",
      "   2500: obj =   4.002909225e+02  infeas =  1.818e+03 (0)\n",
      "   3000: obj =   4.002909225e+02  infeas =  1.818e+03 (0)\n",
      "*  3194: obj =   3.519623224e+02  infeas =  0.000e+00 (0)\n",
      "*  3500: obj =   4.194004898e+02  infeas =  1.628e-14 (0)\n",
      "*  4000: obj =   4.763028465e+02  infeas =  6.725e-15 (0)\n",
      "*  4500: obj =   5.312186300e+02  infeas =  9.320e-13 (0)\n",
      "*  5000: obj =   5.841207596e+02  infeas =  0.000e+00 (0)\n",
      "*  5500: obj =   6.213808386e+02  infeas =  1.005e-15 (0)\n",
      "*  6000: obj =   6.556284187e+02  infeas =  4.441e-16 (0)\n",
      "*  6291: obj =   6.722113467e+02  infeas =  4.686e-28 (0)\n",
      "OPTIMAL LP SOLUTION FOUND\n",
      "Integer optimization begins...\n",
      "+  6291: mip =     not found yet <=              +inf        (1; 0)\n",
      "Solution found by heuristic: 608.911217118\n",
      "+ 10112: mip =   6.089112171e+02 <=   6.672873502e+02   9.6% (60; 1)\n",
      "+ 10372: mip =   6.089112171e+02 <=   6.672873502e+02   9.6% (154; 1)\n",
      "+ 11536: mip =   6.089112171e+02 <=   6.633982957e+02   8.9% (202; 7)\n",
      "Solution found by heuristic: 612.579768421\n",
      "+ 11865: mip =   6.125797684e+02 <=   6.633982957e+02   8.3% (302; 7)\n",
      "+ 16301: mip =   6.125797684e+02 <=   6.518788965e+02   6.4% (184; 394)\n",
      "Solution found by heuristic: 613.936474108\n",
      "+ 16607: mip =   6.139364741e+02 <=   6.518788965e+02   6.2% (296; 394)\n",
      "+ 16787: mip =   6.139364741e+02 <=   6.518788965e+02   6.2% (418; 394)\n",
      "+ 18177: mip =   6.139364741e+02 <=   6.485283998e+02   5.6% (301; 740)\n",
      "+ 18567: mip =   6.139364741e+02 <=   6.485283998e+02   5.6% (427; 740)\n",
      "+ 18902: mip =   6.139364741e+02 <=   6.485283998e+02   5.6% (567; 740)\n",
      "+ 20030: mip =   6.139364741e+02 <=   6.485283998e+02   5.6% (688; 740)\n",
      "Solution found by heuristic: 622.714526489\n",
      "Time used: 60.0 secs.  Memory used: 20.9 Mb.\n",
      "+ 21481: mip =   6.227145265e+02 <=   6.366592257e+02   2.2% (795; 743)\n",
      "+ 21623: mip =   6.227145265e+02 <=   6.366592257e+02   2.2% (870; 743)\n",
      "Solution found by heuristic: 624.961551511\n",
      "Solution found by heuristic: 625.000663038\n",
      "Solution found by heuristic: 625.049770205\n",
      "Solution found by heuristic: 625.098838944\n",
      "Solution found by heuristic: 625.147751412\n",
      "+ 22462: mip =   6.251477514e+02 <=   6.251976645e+02 < 0.1% (52; 2498)\n",
      "RELATIVE MIP GAP TOLERANCE REACHED; SEARCH TERMINATED\n",
      "Time used:   71.6 secs\n",
      "Memory used: 24.5 Mb (25716666 bytes)\n",
      "Writing MIP solution to `/tmp/21270-pulp.sol'...\n"
     ]
    }
   ],
   "source": [
    "with open('glpk.log', 'r') as f:\n",
    "    for line in f:\n",
    "        print(line.rstrip('\\n'))"
   ]
  },
  {
   "cell_type": "code",
   "execution_count": 21,
   "metadata": {
    "collapsed": false
   },
   "outputs": [
    {
     "name": "stdout",
     "output_type": "stream",
     "text": [
      "Status: Optimal\n"
     ]
    }
   ],
   "source": [
    "print(\"Status: {}\".format(LpStatus[prob.status]))"
   ]
  },
  {
   "cell_type": "markdown",
   "metadata": {},
   "source": [
    "Took a little longer, huh?"
   ]
  },
  {
   "cell_type": "code",
   "execution_count": 22,
   "metadata": {
    "collapsed": false
   },
   "outputs": [
    {
     "name": "stdout",
     "output_type": "stream",
     "text": [
      "Total email messages: 243\n",
      "Total push messages: 691\n",
      "Total text messages: 848\n",
      "Total phone messages: 218\n"
     ]
    }
   ],
   "source": [
    "for j, m_type in enumerate(message_types):\n",
    "    print('Total {} messages: {}'.format(\n",
    "            m_type, np.sum([m[i, j].varValue for i in customer_index])))"
   ]
  },
  {
   "cell_type": "code",
   "execution_count": 23,
   "metadata": {
    "collapsed": false
   },
   "outputs": [
    {
     "name": "stdout",
     "output_type": "stream",
     "text": [
      "Total cost: $1999.70\n"
     ]
    }
   ],
   "source": [
    "total_cost = np.sum([np.sum([m[i, j].varValue * c[j, 0] for i in customer_index])\n",
    "                     - np.sum([t[j, k].varValue * c[j, k] for k in tier_index[1:]])\n",
    "                     for j in message_index])\n",
    "print('Total cost: ${:.2f}'.format(np.round(total_cost, 2)))"
   ]
  },
  {
   "cell_type": "code",
   "execution_count": 24,
   "metadata": {
    "collapsed": false
   },
   "outputs": [
    {
     "name": "stdout",
     "output_type": "stream",
     "text": [
      "Probability sum (i.e. the objective function): 625.147751412\n"
     ]
    }
   ],
   "source": [
    "obj = np.sum([m[i, j].varValue * p[i, j]\n",
    "              for i in customer_index\n",
    "              for j in message_index])\n",
    "print('Probability sum (i.e. the objective function): {}'.format(obj))"
   ]
  },
  {
   "cell_type": "markdown",
   "metadata": {},
   "source": [
    "Note that we get to a higher objective value with these pricing tier discounts."
   ]
  }
 ],
 "metadata": {
  "kernelspec": {
   "display_name": "Python 2",
   "language": "python",
   "name": "python2"
  },
  "language_info": {
   "codemirror_mode": {
    "name": "ipython",
    "version": 2
   },
   "file_extension": ".py",
   "mimetype": "text/x-python",
   "name": "python",
   "nbconvert_exporter": "python",
   "pygments_lexer": "ipython2",
   "version": "2.7.12"
  }
 },
 "nbformat": 4,
 "nbformat_minor": 0
}

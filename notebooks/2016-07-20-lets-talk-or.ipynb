{
 "cells": [
  {
   "cell_type": "markdown",
   "metadata": {},
   "source": [
    "<!-- PELICAN_BEGIN_SUMMARY -->\n",
    "\n",
    "You've studied machine learning, you're a dataframe master for massaging data, and you can easily pipe that data through a bunch of machine learning libraries. \n",
    "\n",
    "<!-- PELICAN_END_SUMMARY -->\n",
    "\n",
    "You go for a job interview at a SAAS company, you're given some raw data and labels and asked to predict churn, and come on - are these guys even trying? You generate the shit out of some features, you overfit the hell out of that multidimensional manifold just so you can back off and show off your knowledge of regularization, and then you put the icing on the cake by cross validating towards a better metric for the business problem than simple accuracy. \n",
    "\n",
    "Next.\n",
    "\n",
    "You roll up on an ecommerce company, and they trick you by basically giving you no features. Just users, products, and clicks? Ha! Nice try, but you know that's a classic recommender system. Boom! Out of nowhere, the ratings matrix is factorized, and you're serving up top-notch recommendations a-plenty.\n",
    "\n",
    "Next.\n",
    "\n",
    "Your uncle calls you and asks for a \"family favor\". He manufactures artisinal dog collars in a Brooklyn warehouse and sells directly to the consumer. He doesn't know what the word churn means. He needs to decide how many of his 5 types of dog collars he should build next month with his limited supplies. Each collar in the catlog has a different profit margin, a different minimum build quantity, and there's only a 10K budget. Uncle asks you, \"How many of each collar should we build to maximize profit?\"\n",
    "\n",
    "Uhhhhh.\n",
    "\n",
    "You panic and try to apply ML to everything. *Hmmm, profit is a not a label but more a continuous variable. Okay, not a classification problem. Maybe this is a regression problem? Do I even want to predict the profit? Wait, what are my features? Shit, there's like no data...*\n",
    "\n",
    "And so you write a program to enumerate all possible combinations of dog collar quantities along with the associated profit, and you find the maximum of the list of answers. Your uncle's happy, but you feel like an idiot because you know that this isn't scalable and god help you if you're ever asked this in an interview and there's just *got* to be a better way, right?\n",
    "\n",
    "Well, there's a better way.\n",
    "\n",
    "There's a better way! And I feel like nobody talks about it because the Data's not Big, you're not Learning Deep things, and there's nary a chatbot in sight. It's boring, old operations research which was something that I guess your university offered but nobody really knew what it meant. Full disclosure: I still don't really know what it means. I *do* know that the job of the data scientist is to bring value to the company, and having some operations and optimization in your toolbelt is quite valuable!\n",
    "\n",
    "## Problem formulation\n",
    "\n",
    "Let's try to solve Uncle's problem to get a feel for how we think about these things. I am not going to in any way cover how programs actually solve these problems (because I still don't know) but instead how one sets up this problem and asks a solver to solve this in Python.\n",
    "\n",
    "What was the original question? \"How many of each collar should we build to maximize profit?\" Maximize profit is the key phrase here. The way to think of optimization problems like this are in terms of the objective function and the constraints. We want to maximize profit, so our objective function will be the total profit from all collars produced (assuming all get sold). If we say that we have a variable, $c_{j}$, which says how many of collar $j$ we will produce, and $p_{j}$ is a constant denoting the profit that we will make on that collar, then our objective function is simply\n",
    "\n",
    "$$\\sum\\limits_{j}p_{j}c_{j}$$\n",
    "\n",
    "We want to maximize this function subject to specific constraints. One constraint is that we only have a 10K budget. The simplest method of solving these types of problems is to keep all constraints linear. If we have a known constant $w_{j}$ which is the cost in dollars of producing collar $j$, then the constraint could be expressed in mathematical form as\n",
    "\n",
    "$$\\sum\\limits_{j}w_{j}c_{j} \\leq 10000$$\n",
    "\n",
    "Isn't this fun? All of these optimization problems consist of figuring out how to define your constraints in terms of *math* which is basically like the ultimate nerd-puzzle. The constraint on figuring out your constraints (see what I did there?) is that you should keep your constraints linear. This can get fairly tricky (read: fun).\n",
    "\n",
    "Alright, let's figure out the last two constraints, and then we can start coding this thing up. If $r_{j}$ is the minimimum run size for each collar, then this is relatively simple:\n",
    "\n",
    "$$\\forall\\, j,\\, c_{j} \\geq r_{j} $$\n",
    "\n",
    "By the way, that means \"for all $j$, $c_{j}$ is greater than or equal to $r_{j}$\". We can lastly deal with the limited \"supplies\" for building collars by assuming that $m_{i}$ is the max quantity of supply $i$. If each collar $j$ requires $s_{ji}$ quantity of supply $i$, then the limited supplies constraint is written\n",
    "\n",
    "$$\\forall\\, i,\\, \\sum\\limits_{j}s_{ij} \\leq m_{i}$$\n",
    "\n",
    "## Math $\\Rightarrow$ Code\n",
    "\n",
    "At Birchbox, I programmed and solved a number of optimization problems, and I had the luxury to use [Gurobi](http://www.gurobi.com/), a state of the art mixed-integer programming solver with API's in many languages. What does that mean? That means you can build your problem in the language of your choice, the API's will translate your code into whatever Gurobi likes as input (C?), and then the Gurobi solver will solve the problem. Gurobi is most definitely not free, so I won't use it in this blog post on the off chance that you want to program along. Instead, we'll use [GLPK](https://www.gnu.org/software/glpk/) as our solver and [pulp](https://pythonhosted.org/PuLP/) as the Python API. I've included instructions for installing both libraries on Linux at the bottom of this post.\n",
    "\n",
    "We'll start by importing our libraries and placing some made up data into two dataframes to get an idea of how the data's organized. The columns with material names are assumed to denote the \"quantity\" that the collar requires. For the sake of just trying to learn something, let's ignore what \"0.70 metal\" might mean and move along."
   ]
  },
  {
   "cell_type": "code",
   "execution_count": 1,
   "metadata": {
    "collapsed": false
   },
   "outputs": [],
   "source": [
    "from pulp import *\n",
    "import numpy as np\n",
    "import pandas as pd"
   ]
  },
  {
   "cell_type": "code",
   "execution_count": 2,
   "metadata": {
    "collapsed": false
   },
   "outputs": [
    {
     "data": {
      "text/html": [
       "<div>\n",
       "<table border=\"1\" class=\"dataframe\">\n",
       "  <thead>\n",
       "    <tr style=\"text-align: right;\">\n",
       "      <th></th>\n",
       "      <th>leather</th>\n",
       "      <th>metal</th>\n",
       "      <th>canvas</th>\n",
       "      <th>cost</th>\n",
       "      <th>profit</th>\n",
       "      <th>min_run_size</th>\n",
       "    </tr>\n",
       "    <tr>\n",
       "      <th>Dog collar type</th>\n",
       "      <th></th>\n",
       "      <th></th>\n",
       "      <th></th>\n",
       "      <th></th>\n",
       "      <th></th>\n",
       "      <th></th>\n",
       "    </tr>\n",
       "  </thead>\n",
       "  <tbody>\n",
       "    <tr>\n",
       "      <th>0</th>\n",
       "      <td>0.50</td>\n",
       "      <td>0.25</td>\n",
       "      <td>0.30</td>\n",
       "      <td>26.0</td>\n",
       "      <td>10.5</td>\n",
       "      <td>30</td>\n",
       "    </tr>\n",
       "    <tr>\n",
       "      <th>1</th>\n",
       "      <td>0.30</td>\n",
       "      <td>0.70</td>\n",
       "      <td>1.20</td>\n",
       "      <td>29.0</td>\n",
       "      <td>12.0</td>\n",
       "      <td>40</td>\n",
       "    </tr>\n",
       "    <tr>\n",
       "      <th>2</th>\n",
       "      <td>0.90</td>\n",
       "      <td>0.60</td>\n",
       "      <td>0.57</td>\n",
       "      <td>22.0</td>\n",
       "      <td>9.0</td>\n",
       "      <td>25</td>\n",
       "    </tr>\n",
       "    <tr>\n",
       "      <th>3</th>\n",
       "      <td>1.10</td>\n",
       "      <td>0.45</td>\n",
       "      <td>0.98</td>\n",
       "      <td>26.5</td>\n",
       "      <td>11.5</td>\n",
       "      <td>60</td>\n",
       "    </tr>\n",
       "    <tr>\n",
       "      <th>4</th>\n",
       "      <td>0.75</td>\n",
       "      <td>0.95</td>\n",
       "      <td>0.55</td>\n",
       "      <td>20.0</td>\n",
       "      <td>8.5</td>\n",
       "      <td>50</td>\n",
       "    </tr>\n",
       "  </tbody>\n",
       "</table>\n",
       "</div>"
      ],
      "text/plain": [
       "                 leather  metal  canvas  cost  profit  min_run_size\n",
       "Dog collar type                                                    \n",
       "0                   0.50   0.25    0.30  26.0    10.5            30\n",
       "1                   0.30   0.70    1.20  29.0    12.0            40\n",
       "2                   0.90   0.60    0.57  22.0     9.0            25\n",
       "3                   1.10   0.45    0.98  26.5    11.5            60\n",
       "4                   0.75   0.95    0.55  20.0     8.5            50"
      ]
     },
     "execution_count": 2,
     "metadata": {},
     "output_type": "execute_result"
    }
   ],
   "source": [
    "names = ['leather', 'metal', 'canvas', 'cost', 'profit', 'min_run_size']\n",
    "collars = pd.DataFrame([(0.50, 0.25, 0.30, 26.00, 10.50, 30),\n",
    "                        (0.30, 0.70, 1.20, 29.00, 12.00, 40),\n",
    "                        (0.90, 0.60, 0.57, 22.00, 09.00, 25),\n",
    "                        (1.10, 0.45, 0.98, 26.50, 11.50, 60),\n",
    "                        (0.75, 0.95, 0.55, 20.00, 08.50, 50)],\n",
    "                      columns=names)\n",
    "collars.index.name = 'Dog collar type'\n",
    "collars"
   ]
  },
  {
   "cell_type": "code",
   "execution_count": 3,
   "metadata": {
    "collapsed": false
   },
   "outputs": [
    {
     "data": {
      "text/html": [
       "<div>\n",
       "<table border=\"1\" class=\"dataframe\">\n",
       "  <thead>\n",
       "    <tr style=\"text-align: right;\">\n",
       "      <th></th>\n",
       "      <th>max_quantity</th>\n",
       "    </tr>\n",
       "  </thead>\n",
       "  <tbody>\n",
       "    <tr>\n",
       "      <th>leather</th>\n",
       "      <td>400</td>\n",
       "    </tr>\n",
       "    <tr>\n",
       "      <th>metal</th>\n",
       "      <td>250</td>\n",
       "    </tr>\n",
       "    <tr>\n",
       "      <th>canvas</th>\n",
       "      <td>300</td>\n",
       "    </tr>\n",
       "  </tbody>\n",
       "</table>\n",
       "</div>"
      ],
      "text/plain": [
       "         max_quantity\n",
       "leather           400\n",
       "metal             250\n",
       "canvas            300"
      ]
     },
     "execution_count": 3,
     "metadata": {},
     "output_type": "execute_result"
    }
   ],
   "source": [
    "quants = pd.DataFrame([400, 250, 300],\n",
    "                      index=['leather', 'metal', 'canvas'],\n",
    "                      columns=['max_quantity'])\n",
    "quants"
   ]
  },
  {
   "cell_type": "markdown",
   "metadata": {},
   "source": [
    "We now define variables from the dataframes that match the math from above."
   ]
  },
  {
   "cell_type": "code",
   "execution_count": 4,
   "metadata": {
    "collapsed": true
   },
   "outputs": [],
   "source": [
    "p = collars.profit\n",
    "w = collars.cost\n",
    "r = collars.min_run_size\n",
    "m = quants.max_quantity\n",
    "s = collars[['leather', 'metal', 'canvas']]\n",
    "collar_index = range(collars.shape[0]) # j\n",
    "material_index = range(s.shape[1]) # i\n",
    "budget = 10000.0"
   ]
  },
  {
   "cell_type": "markdown",
   "metadata": {},
   "source": [
    "The rest of the code follows exactly as we thought of the original math. We first think of the objective function. We know that we want to maximize profit, so we instantiate a maximization ```LpProblem```. We then build the *variables* in our problem. I always confuse the term \"variable\" with any of the letters/symbols in our math problem, but we really mean a quantity that is variable (changes value, not the constants). The only variable is $c_{j}$, the number of collar $j$ to build. Using pulp, we can create $c_{j}$ variables with some pre-provided domain knowledge: We know that $c_{j}$ must be an integer. We also know that we cannot build more collars than our budget allows, so let's save our solver some time by passing an upper bound. Lastly, we add the objective function to the problem using the newly created variable. For taking sums in pulp, you should use the ```lpSum``` function."
   ]
  },
  {
   "cell_type": "code",
   "execution_count": 5,
   "metadata": {
    "collapsed": true
   },
   "outputs": [],
   "source": [
    "prob = LpProblem('Dog Collar Problem', LpMaximize)\n",
    "# Collar counts (the variable in our problem)\n",
    "c = []\n",
    "\n",
    "for j in collar_index:\n",
    "    max_count = np.floor(budget / w[j])\n",
    "    c.append(LpVariable('c_{}'.format(j),\n",
    "                        lowBound=0,\n",
    "                        upBound=max_count,\n",
    "                        cat='Integer'))\n",
    "    \n",
    "# For pulp, add objective function first\n",
    "prob += lpSum([i * j for i, j in zip(p, c)]), 'Total profit'"
   ]
  },
  {
   "cell_type": "markdown",
   "metadata": {},
   "source": [
    "The constraints can now be added to the problem. The inequalities are written just as they would in math. A good rule of thumb is to use an explicit for loop any time we have a $\\forall$ in our math."
   ]
  },
  {
   "cell_type": "code",
   "execution_count": 6,
   "metadata": {
    "collapsed": false
   },
   "outputs": [],
   "source": [
    "# Budget constraint\n",
    "prob += lpSum([w[j] * c[j] for j in collar_index]) <= budget, 'Budget'\n",
    "\n",
    "# Min run size constraint\n",
    "for j in collar_index:\n",
    "    prob += c[j] >= r[j], 'MinBatchSize_{}'.format(j)\n",
    "\n",
    "# Max supplies quantity\n",
    "for i in material_index:\n",
    "    prob += lpSum([s.iloc[j, i] * c[j] for j in collar_index]) <= m[i]"
   ]
  },
  {
   "cell_type": "markdown",
   "metadata": {},
   "source": [
    "Our variables are created, our objective is defined, and all constraints have been added. What's left? Solve!"
   ]
  },
  {
   "cell_type": "code",
   "execution_count": 7,
   "metadata": {
    "collapsed": false
   },
   "outputs": [
    {
     "data": {
      "text/plain": [
       "1"
      ]
     },
     "execution_count": 7,
     "metadata": {},
     "output_type": "execute_result"
    }
   ],
   "source": [
    "prob.solve()"
   ]
  },
  {
   "cell_type": "markdown",
   "metadata": {},
   "source": [
    "We returned a 1 which means that the problem solved. The pulp documentation provides some [examples](https://pythonhosted.org/PuLP/CaseStudies/index.html) of how to inspect the solved model which I've repurposed below"
   ]
  },
  {
   "cell_type": "code",
   "execution_count": 8,
   "metadata": {
    "collapsed": false
   },
   "outputs": [
    {
     "name": "stdout",
     "output_type": "stream",
     "text": [
      "Status: Optimal\n",
      "c_0 = 68.0 \n",
      "c_1 = 40.0 \n",
      "c_2 = 25.0 \n",
      "c_3 = 151.0 \n",
      "c_4 = 126.0 \n",
      "Total profit = $4226.50\n",
      "Total cost = $9999.50\n"
     ]
    }
   ],
   "source": [
    "print(\"Status: {}\".format(LpStatus[prob.status]))\n",
    "\n",
    "# Each of the variables is printed with it's resolved optimum value\n",
    "for v in prob.variables():\n",
    "    print(\"{} = {} \".format(v.name, v.varValue))\n",
    "\n",
    "# The optimised objective function value is printed to the screen\n",
    "print('Total profit = ${:6.2f}'.format(value(prob.objective)))\n",
    "print('Total cost = ${:6.2f}'.format(np.sum(x * v.varValue for x, v in zip(w, prob.variables()))))"
   ]
  },
  {
   "cell_type": "markdown",
   "metadata": {},
   "source": [
    "Awesome! You now know how to solve simple optimization problems in Python. There are many more details that could be covered (constraints on the max of an array, if-else statement constraints, etc...), but hopefully this whet your appetite to play a little on your own."
   ]
  },
  {
   "cell_type": "markdown",
   "metadata": {},
   "source": [
    "## INSTALLATION NOTES\n",
    "\n",
    "You will need to install GLPK and pulp The following instructions worked for me on Ubuntu 14.04 using Anaconda.\n",
    "\n",
    "#### GLPK\n",
    "```bash\n",
    "sudo apt-get install glpk-utils\n",
    "```\n",
    "\n",
    "#### pulp\n",
    "There is no default conda channel. I used the following channel which seemed to work fine. Note: this did not work with python 3.\n",
    "\n",
    "```bash\n",
    "conda install --channel https://conda.anaconda.org/timcera pulp\n",
    "```\n",
    "You can test the installation by opening python and running the following test\n",
    "\n",
    "```python\n",
    "import pulp\n",
    "pulp.pulpTestAll()\n",
    "```\n",
    "You should expect to fail some of the tests if you don't have CPLEX, COIN, Gurobi, etc... However, the GLPK tests should work. I saw the following printout (I only have GLPK installed on my home computer)\n",
    "```\n",
    "\t Testing zero subtraction\n",
    "\t Testing inconsistant lp solution\n",
    "\t Testing continuous LP solution\n",
    "\t Testing maximize continuous LP solution\n",
    "\t Testing unbounded continuous LP solution\n",
    "\t Testing Long Names\n",
    "\t Testing repeated Names\n",
    "\t Testing zero constraint\n",
    "\t Testing zero objective\n",
    "\t Testing LpVariable (not LpAffineExpression) objective\n",
    "\t Testing Long lines in LP\n",
    "\t Testing LpAffineExpression divide\n",
    "\t Testing MIP solution\n",
    "\t Testing MIP solution with floats in objective\n",
    "\t Testing MIP relaxation\n",
    "\t Testing feasibility problem (no objective)\n",
    "\t Testing an infeasible problem\n",
    "\t Testing an integer infeasible problem\n",
    "\t Testing column based modelling\n",
    "\t Testing dual variables and slacks reporting\n",
    "\t Testing fractional constraints\n",
    "\t Testing elastic constraints (no change)\n",
    "\t Testing elastic constraints (freebound)\n",
    "\t Testing elastic constraints (penalty unchanged)\n",
    "\t Testing elastic constraints (penalty unbounded)\n",
    "* Solver pulp.solvers.PULP_CBC_CMD passed.\n",
    "Solver pulp.solvers.CPLEX_DLL unavailable\n",
    "Solver pulp.solvers.CPLEX_CMD unavailable\n",
    "Solver pulp.solvers.CPLEX_PY unavailable\n",
    "Solver pulp.solvers.COIN_CMD unavailable\n",
    "Solver pulp.solvers.COINMP_DLL unavailable\n",
    "\t Testing zero subtraction\n",
    "\t Testing inconsistant lp solution\n",
    "\t Testing continuous LP solution\n",
    "\t Testing maximize continuous LP solution\n",
    "\t Testing unbounded continuous LP solution\n",
    "\t Testing Long Names\n",
    "\t Testing repeated Names\n",
    "\t Testing zero constraint\n",
    "\t Testing zero objective\n",
    "\t Testing LpVariable (not LpAffineExpression) objective\n",
    "\t Testing LpAffineExpression divide\n",
    "\t Testing MIP solution\n",
    "\t Testing MIP solution with floats in objective\n",
    "\t Testing MIP relaxation\n",
    "\t Testing feasibility problem (no objective)\n",
    "\t Testing an infeasible problem\n",
    "\t Testing an integer infeasible problem\n",
    "\t Testing column based modelling\n",
    "\t Testing fractional constraints\n",
    "\t Testing elastic constraints (no change)\n",
    "\t Testing elastic constraints (freebound)\n",
    "\t Testing elastic constraints (penalty unchanged)\n",
    "\t Testing elastic constraints (penalty unbounded)\n",
    "* Solver pulp.solvers.GLPK_CMD passed.\n",
    "Solver pulp.solvers.XPRESS unavailable\n",
    "Solver pulp.solvers.GUROBI unavailable\n",
    "Solver pulp.solvers.GUROBI_CMD unavailable\n",
    "Solver pulp.solvers.PYGLPK unavailable\n",
    "Solver pulp.solvers.YAPOSIB unavailable\n",
    "```"
   ]
  }
 ],
 "metadata": {
  "kernelspec": {
   "display_name": "Python 2",
   "language": "python",
   "name": "python2"
  },
  "language_info": {
   "codemirror_mode": {
    "name": "ipython",
    "version": 2
   },
   "file_extension": ".py",
   "mimetype": "text/x-python",
   "name": "python",
   "nbconvert_exporter": "python",
   "pygments_lexer": "ipython2",
   "version": "2.7.12"
  }
 },
 "nbformat": 4,
 "nbformat_minor": 0
}

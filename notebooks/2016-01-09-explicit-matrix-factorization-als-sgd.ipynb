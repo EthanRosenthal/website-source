{
 "cells": [
  {
   "cell_type": "markdown",
   "metadata": {},
   "source": [
    "<!-- PELICAN_BEGIN_SUMMARY -->\n",
    "\n",
    "In my last [post]({filename}/2015-11-02-intro-to-collaborative-filtering.md), I described user- and item-based collaborative filtering which are some of the simplest recommendation algorithms. For someone who is used to conventional machine learning classification and regression algorithms, collaborative filtering may have felt a bit *off*. To me, machine learning almost always deals with some function which we are trying to maximize or minimize. In simple linear regression, we minimize the mean squared distance between our predictions and the true values. Logistic regression involves maximizing a likelihood function. However, in my post on collaborative filtering, we randomly tried a bunch of different parameters (distance function, top-k cutoff) and watched what happened to the mean squared error. This sure doesn't feel like machine *learning*. \n",
    "\n",
    "<!-- PELICAN_END_SUMMARY -->\n",
    "\n",
    "To bring some technical rigor to recommender systems, I would like to talk about matrix factorization where we do, in fact, *learn* parameters to a model in order to directly minimize a function. Explanations of matrix factorization often start with talks of \"low-rank matrices\" and \"singular value decomposition\". While these are important for a fundamental understanding of this topic, I don't find math-speak to be too helpful in understanding the basic concepts of various algorithms. Let me simply state the assumptions that basic matrix factorization makes. \n",
    "\n",
    "## Initial assumptions\n",
    "\n",
    "We will use the same example data from the previous post, so recall that we had a user-by-item matrix where nonzero elements of the matrix are ratings that a user has given an item. Matrix factorization *assumes* that:\n",
    "\n",
    "- Each user can be described by *k* *attributes* or *features*. For example, feature 1 might be a number that says how much each user likes sci-fi movies.\n",
    "- Each item (movie) can be described by an analagous set of *k* attributes or features. To correspond to the above example, feature 1 for the movie might be a number that says how close the movie is to pure sci-fi.\n",
    "- If we multiply each feature of the user by the corresponding feature of the movie and add everything together, this will be a good approximation for the rating the user would give that movie.\n",
    "\n",
    "That's it. The beauty is that we do not know what these features are. Nor do we know how many (*k*) features are relevant. We simply pick a number for *k* and learn the relevant values for all the features for all the users and items. How do we learn? By minimizing a loss function, of course!\n",
    "\n",
    "We can turn our matrix factorization approximation of a *k*-attribute user into math by letting a user *u* take the form of a *k*-dimensional vector $\\textbf{x}_{u}$. Similarly, an item *i* can be represented by a *k*-dimensional vector $\\textbf{y}_{i}$. User *u*'s predicted rating for item *i* is just the dot product of their two vectors\n",
    "\n",
    "$$\\hat r_{ui} = \\textbf{x}_{u}^{\\intercal} \\cdot{} \\textbf{y}_{i} = \\sum\\limits_{k} x_{uk}y_{ki}$$\n",
    "\n",
    "where $\\hat r_{ui}$ represents our prediction for the true rating $r_{ui}$, and $\\textbf{y}_{i}$ ($\\textbf{x}_{u}^{\\intercal}$) is assumed to be a column (row) vector. These user and item vectors are often called latent vectors or low-dimensional embeddings in the literature. The *k* attributes are often called the latent factors. We will choose to minimize the square of the difference between all ratings in our dataset ($S$) and our predictions. This produces a loss function of the form\n",
    "\n",
    "$$L = \\sum\\limits_{u,i \\in S}(r_{ui} - \\textbf{x}_{u}^{\\intercal} \\cdot{} \\textbf{y}_{i})^{2} + \\lambda_{x} \\sum\\limits_{u} \\left\\Vert \\textbf{x}_{u} \\right\\Vert^{2} + \\lambda_{y} \\sum\\limits_{u} \\left\\Vert \\textbf{y}_{i} \\right\\Vert^{2}$$\n",
    "\n",
    "Note that we've added on two $L_{2}$ regularization terms at the end to prevent overfitting of the user and item vectors. Our goal now is to minimize this loss function. Derivatives are an obvious tool for minimizing functions, so I'll cover the two most popular derivative-based methods. We'll start with Alternating Least Squares (ALS).\n",
    "\n",
    "## Alternating Least Squares\n",
    "\n",
    "For ALS minimiztion, we hold one set of latent vectors constant. For this example, we'll pick the item vectors. We then take the derivative of the loss function with respect to the other set of vectors (the user vectors). We set the derivative equal to zero (we're searching for a minimum) and solve for the non-constant vectors (the user vectors). Now comes the alternating part: With these new, solved-for user vectors in hand, we hold *them* constant, instead, and take the derivative of the loss function with respect to the previously constant vectors (the item vectors). We alternate back and forth and carry out this two-step dance until convergence.\n",
    "\n",
    "### Derivation\n",
    "\n",
    "To explain things with math, let's hold the item vectors ($\\textbf{y}_{i}$) constant and take the derivative of the loss function with respect to the user vectors ($\\textbf{x}_{u}$)\n",
    "\n",
    "$$\\frac{\\partial L}{\\partial \\textbf{x}_{u}} = - 2 \\sum\\limits_{i}(r_{ui} - \\textbf{x}_{u}^{\\intercal} \\cdot{} \\textbf{y}_{i}) \\textbf{y}_{i}^{\\intercal} + 2 \\lambda_{x} \\textbf{x}_{u}^{\\intercal}$$\n",
    "\n",
    "$$0 = -(\\textbf{r}_{u} - \\textbf{x}_{u}^{\\intercal} Y^{\\intercal})Y + \\lambda_{x} \\textbf{x}_{u}^{\\intercal}$$\n",
    "\n",
    "$$\\textbf{x}_{u}^{\\intercal}(Y^{\\intercal}Y + \\lambda_{x}I) = \\textbf{r}_{u}Y$$\n",
    "\n",
    "$$\\textbf{x}_{u}^{\\intercal} = \\textbf{r}_{u}Y(Y^{\\intercal}Y + \\lambda_{x}I)^{-1}$$\n",
    "\n",
    "A couple things happen above: let us assume that we have $n$ users and $m$ items, so our ratings matrix is $n \\times m$. We introduce the symbol $Y$ (with dimensioins $m \\times k$) to represent all item row vectors vertically stacked on each other. Also, the row vector $\\textbf{r}_{u}$ just represents users *u*'s row from the ratings matrix with all the ratings for all the items (so it has dimension $1 \\times m$). Lastly, $I$ is just the identity matrix which has dimension $k \\times k$ here.\n",
    "\n",
    "Just to make sure that everything works, let's check our dimensions. I like doing this with [Einstein notation](https://en.wikipedia.org/wiki/Einstein_notation). Although this seems like an esoteric physics thing, there was a reason it was invented - it makes life really simple! The basic tenant is that if one observes a variable for a matrix index more than once, then it is implicitly assumed that you should sum over that index. Including the indices in the last statement from the derivation above, this appears as the following for a single user's dimension *k*\n",
    "\n",
    "$$x_{uk} = r_{ui}Y_{ik}(Y_{ki}Y_{ik} + \\lambda_{x}I_{kk})^{-1}$$\n",
    "\n",
    "When you carry out all the summations over all the indices on the right hand side of the above statement, all that's left are *u*'s as the rows and *k*'s as the columns. Good to go!\n",
    "\n",
    "The derivation for the item vectors is quite similar\n",
    "\n",
    "$$\\frac{\\partial L}{\\partial \\textbf{y}_{i}} = - 2 \\sum\\limits_{i}(r_{iu} - \\textbf{y}_{i}^{\\intercal} \\cdot{} \\textbf{x}_{u}) \\textbf{x}_{u}^{\\intercal} + 2 \\lambda_{y} \\textbf{y}_{i}^{\\intercal}$$\n",
    "\n",
    "$$0 = -(\\textbf{r}_{i} - \\textbf{y}_{i}^{\\intercal} X^{\\intercal})X + \\lambda_{y} \\textbf{y}_{i}^{\\intercal}$$\n",
    "\n",
    "$$ \\textbf{y}_{i}^{\\intercal} ( X^{\\intercal}X +  \\lambda_{y}I) =  \\textbf{r}_{i} X$$\n",
    "\n",
    "$$ \\textbf{y}_{i}^{\\intercal} =  \\textbf{r}_{i} X  ( X^{\\intercal}X +  \\lambda_{y}I) ^{-1}$$\n",
    "\n",
    "Now that we have our equations, let's program this thing up!\n",
    "\n",
    "### Computation\n",
    "\n",
    "Just like the last post, we'll use the MovieLens dataset. I'll gloss over this part because it's been previously covered. Below, I import libraries, load the dataset into memory, and split it into train and test sets. I'll also create a helper function in order to easily calculate our mean squared error (which is the metric we're trying to optimize).\n"
   ]
  },
  {
   "cell_type": "code",
   "execution_count": 1,
   "metadata": {
    "collapsed": true
   },
   "outputs": [],
   "source": [
    "import numpy as np\n",
    "import pandas as pd\n",
    "np.random.seed(0)"
   ]
  },
  {
   "cell_type": "code",
   "execution_count": null,
   "metadata": {
    "collapsed": false
   },
   "outputs": [],
   "source": [
    "cd ml-100k/"
   ]
  },
  {
   "cell_type": "code",
   "execution_count": 3,
   "metadata": {
    "collapsed": false
   },
   "outputs": [],
   "source": [
    "# Load data from disk\n",
    "names = ['user_id', 'item_id', 'rating', 'timestamp']\n",
    "df = pd.read_csv('u.data', sep='\\t', names=names)\n",
    "n_users = df.user_id.unique().shape[0]\n",
    "n_items = df.item_id.unique().shape[0]\n",
    "\n",
    "# Create r_{ui}, our ratings matrix\n",
    "ratings = np.zeros((n_users, n_items))\n",
    "for row in df.itertuples():\n",
    "    ratings[row[1]-1, row[2]-1] = row[3]\n",
    "\n",
    "# Split into training and test sets. \n",
    "# Remove 10 ratings for each user \n",
    "# and assign them to the test set\n",
    "def train_test_split(ratings):\n",
    "    test = np.zeros(ratings.shape)\n",
    "    train = ratings.copy()\n",
    "    for user in xrange(ratings.shape[0]):\n",
    "        test_ratings = np.random.choice(ratings[user, :].nonzero()[0], \n",
    "                                        size=10, \n",
    "                                        replace=False)\n",
    "        train[user, test_ratings] = 0.\n",
    "        test[user, test_ratings] = ratings[user, test_ratings]\n",
    "        \n",
    "    # Test and training are truly disjoint\n",
    "    assert(np.all((train * test) == 0)) \n",
    "    return train, test\n",
    "\n",
    "train, test = train_test_split(ratings)"
   ]
  },
  {
   "cell_type": "code",
   "execution_count": 4,
   "metadata": {
    "collapsed": true
   },
   "outputs": [],
   "source": [
    "from sklearn.metrics import mean_squared_error\n",
    "\n",
    "def get_mse(pred, actual):\n",
    "    # Ignore nonzero terms.\n",
    "    pred = pred[actual.nonzero()].flatten()\n",
    "    actual = actual[actual.nonzero()].flatten()\n",
    "    return mean_squared_error(pred, actual)"
   ]
  },
  {
   "cell_type": "markdown",
   "metadata": {
    "collapsed": true
   },
   "source": [
    "With the data loaded and massaged into good form, I've written a class below to carryout the ALS training. It should be noted that this class is heavily inspired by Chris Johnson's [implicit-mf](https://github.com/MrChrisJohnson/implicit-mf) repo."
   ]
  },
  {
   "cell_type": "code",
   "execution_count": 5,
   "metadata": {
    "collapsed": false
   },
   "outputs": [],
   "source": [
    "from numpy.linalg import solve\n",
    "\n",
    "class ExplicitMF():\n",
    "    def __init__(self, \n",
    "                 ratings, \n",
    "                 n_factors=40, \n",
    "                 item_reg=0.0, \n",
    "                 user_reg=0.0,\n",
    "                 verbose=False):\n",
    "        \"\"\"\n",
    "        Train a matrix factorization model to predict empty \n",
    "        entries in a matrix. The terminology assumes a \n",
    "        ratings matrix which is ~ user x item\n",
    "        \n",
    "        Params\n",
    "        ======\n",
    "        ratings : (ndarray)\n",
    "            User x Item matrix with corresponding ratings\n",
    "        \n",
    "        n_factors : (int)\n",
    "            Number of latent factors to use in matrix \n",
    "            factorization model\n",
    "        \n",
    "        item_reg : (float)\n",
    "            Regularization term for item latent factors\n",
    "        \n",
    "        user_reg : (float)\n",
    "            Regularization term for user latent factors\n",
    "        \n",
    "        verbose : (bool)\n",
    "            Whether or not to printout training progress\n",
    "        \"\"\"\n",
    "        \n",
    "        self.ratings = ratings\n",
    "        self.n_users, self.n_items = ratings.shape\n",
    "        self.n_factors = n_factors\n",
    "        self.item_reg = item_reg\n",
    "        self.user_reg = user_reg\n",
    "        self._v = verbose\n",
    "\n",
    "    def als_step(self,\n",
    "                 latent_vectors,\n",
    "                 fixed_vecs,\n",
    "                 ratings,\n",
    "                 _lambda,\n",
    "                 type='user'):\n",
    "        \"\"\"\n",
    "        One of the two ALS steps. Solve for the latent vectors\n",
    "        specified by type.\n",
    "        \"\"\"\n",
    "        if type == 'user':\n",
    "            # Precompute\n",
    "            YTY = fixed_vecs.T.dot(fixed_vecs)\n",
    "            lambdaI = np.eye(YTY.shape[0]) * _lambda\n",
    "\n",
    "            for u in xrange(latent_vectors.shape[0]):\n",
    "                latent_vectors[u, :] = solve((YTY + lambdaI), \n",
    "                                             ratings[u, :].dot(fixed_vecs))\n",
    "        elif type == 'item':\n",
    "            # Precompute\n",
    "            XTX = fixed_vecs.T.dot(fixed_vecs)\n",
    "            lambdaI = np.eye(XTX.shape[0]) * _lambda\n",
    "            \n",
    "            for i in xrange(latent_vectors.shape[0]):\n",
    "                latent_vectors[i, :] = solve((XTX + lambdaI), \n",
    "                                             ratings[:, i].T.dot(fixed_vecs))\n",
    "        return latent_vectors\n",
    "\n",
    "    def train(self, n_iter=10):\n",
    "        \"\"\" Train model for n_iter iterations from scratch.\"\"\"\n",
    "        # initialize latent vectors\n",
    "        self.user_vecs = np.random.random((self.n_users, self.n_factors))\n",
    "        self.item_vecs = np.random.random((self.n_items, self.n_factors))\n",
    "        \n",
    "        self.partial_train(n_iter)\n",
    "    \n",
    "    def partial_train(self, n_iter):\n",
    "        \"\"\" \n",
    "        Train model for n_iter iterations. Can be \n",
    "        called multiple times for further training.\n",
    "        \"\"\"\n",
    "        ctr = 1\n",
    "        while ctr <= n_iter:\n",
    "            if ctr % 10 == 0 and self._v:\n",
    "                print '\\tcurrent iteration: {}'.format(ctr)\n",
    "            self.user_vecs = self.als_step(self.user_vecs, \n",
    "                                           self.item_vecs, \n",
    "                                           self.ratings, \n",
    "                                           self.user_reg, \n",
    "                                           type='user')\n",
    "            self.item_vecs = self.als_step(self.item_vecs, \n",
    "                                           self.user_vecs, \n",
    "                                           self.ratings, \n",
    "                                           self.item_reg, \n",
    "                                           type='item')\n",
    "            ctr += 1\n",
    "    \n",
    "    def predict_all(self):\n",
    "        \"\"\" Predict ratings for every user and item. \"\"\"\n",
    "        predictions = np.zeros((self.user_vecs.shape[0], \n",
    "                                self.item_vecs.shape[0]))\n",
    "        for u in xrange(self.user_vecs.shape[0]):\n",
    "            for i in xrange(self.item_vecs.shape[0]):\n",
    "                predictions[u, i] = self.predict(u, i)\n",
    "                \n",
    "        return predictions\n",
    "    def predict(self, u, i):\n",
    "        \"\"\" Single user and item prediction. \"\"\"\n",
    "        return self.user_vecs[u, :].dot(self.item_vecs[i, :].T)\n",
    "    \n",
    "    def calculate_learning_curve(self, iter_array, test):\n",
    "        \"\"\"\n",
    "        Keep track of MSE as a function of training iterations.\n",
    "        \n",
    "        Params\n",
    "        ======\n",
    "        iter_array : (list)\n",
    "            List of numbers of iterations to train for each step of \n",
    "            the learning curve. e.g. [1, 5, 10, 20]\n",
    "        test : (2D ndarray)\n",
    "            Testing dataset (assumed to be user x item).\n",
    "        \n",
    "        The function creates two new class attributes:\n",
    "        \n",
    "        train_mse : (list)\n",
    "            Training data MSE values for each value of iter_array\n",
    "        test_mse : (list)\n",
    "            Test data MSE values for each value of iter_array\n",
    "        \"\"\"\n",
    "        iter_array.sort()\n",
    "        self.train_mse =[]\n",
    "        self.test_mse = []\n",
    "        iter_diff = 0\n",
    "        for (i, n_iter) in enumerate(iter_array):\n",
    "            if self._v:\n",
    "                print 'Iteration: {}'.format(n_iter)\n",
    "            if i == 0:\n",
    "                self.train(n_iter - iter_diff)\n",
    "            else:\n",
    "                self.partial_train(n_iter - iter_diff)\n",
    "\n",
    "            predictions = self.predict_all()\n",
    "\n",
    "            self.train_mse += [get_mse(predictions, self.ratings)]\n",
    "            self.test_mse += [get_mse(predictions, test)]\n",
    "            if self._v:\n",
    "                print 'Train mse: ' + str(self.train_mse[-1])\n",
    "                print 'Test mse: ' + str(self.test_mse[-1])\n",
    "            iter_diff = n_iter"
   ]
  },
  {
   "cell_type": "markdown",
   "metadata": {},
   "source": [
    "Let's try an intial training with 40 latent factors and no regularization. We'll calculate a learning curve tracking the MSE as a function of training iterations and then plot the result."
   ]
  },
  {
   "cell_type": "code",
   "execution_count": 6,
   "metadata": {
    "collapsed": false
   },
   "outputs": [],
   "source": [
    "MF_ALS = ExplicitMF(train, n_factors=40, \\\n",
    "                    user_reg=0.0, item_reg=0.0)\n",
    "iter_array = [1, 2, 5, 10, 25, 50, 100]\n",
    "MF_ALS.calculate_learning_curve(iter_array, test)"
   ]
  },
  {
   "cell_type": "code",
   "execution_count": 7,
   "metadata": {
    "collapsed": true
   },
   "outputs": [],
   "source": [
    "%matplotlib inline\n",
    "import matplotlib.pyplot as plt\n",
    "import seaborn as sns\n",
    "sns.set()\n",
    "\n",
    "def plot_learning_curve(iter_array, model):\n",
    "    plt.plot(iter_array, model.train_mse, \\\n",
    "             label='Training', linewidth=5)\n",
    "    plt.plot(iter_array, model.test_mse, \\\n",
    "             label='Test', linewidth=5)\n",
    "\n",
    "\n",
    "    plt.xticks(fontsize=16);\n",
    "    plt.yticks(fontsize=16);\n",
    "    plt.xlabel('iterations', fontsize=30);\n",
    "    plt.ylabel('MSE', fontsize=30);\n",
    "    plt.legend(loc='best', fontsize=20);"
   ]
  },
  {
   "cell_type": "code",
   "execution_count": 8,
   "metadata": {
    "collapsed": false
   },
   "outputs": [
    {
     "data": {
      "image/png": "[encoded data removed]",
      "text/plain": [
       "<matplotlib.figure.Figure at 0x7f3e1d2f8050>"
      ]
     },
     "metadata": {},
     "output_type": "display_data"
    }
   ],
   "source": [
    "plot_learning_curve(iter_array, MF_ALS)"
   ]
  },
  {
   "cell_type": "markdown",
   "metadata": {},
   "source": [
    "### Evaluation and Tuning\n",
    "\n",
    "Looks like we have a reasonable amount of overfitting (our test MSE is ~ 50% greater than our training MSE). Also, the test MSE bottoms out around 5 iterations then actually increases after that (even more overfitting). We can try adding some regularization to see if this helps to alleviate some of the overfitting."
   ]
  },
  {
   "cell_type": "code",
   "execution_count": 9,
   "metadata": {
    "collapsed": false
   },
   "outputs": [],
   "source": [
    "MF_ALS = ExplicitMF(train, n_factors=40, \\\n",
    "                    user_reg=1., item_reg=1.)\n",
    "\n",
    "iter_array = [1, 2, 5, 10, 25, 50, 100]\n",
    "MF_ALS.calculate_learning_curve(iter_array, test)"
   ]
  },
  {
   "cell_type": "code",
   "execution_count": 10,
   "metadata": {
    "collapsed": false
   },
   "outputs": [
    {
     "data": {
      "image/png": "[encoded data removed]",
      "text/plain": [
       "<matplotlib.figure.Figure at 0x7f3e128f3c10>"
      ]
     },
     "metadata": {},
     "output_type": "display_data"
    }
   ],
   "source": [
    "plot_learning_curve(iter_array, MF_ALS)"
   ]
  },
  {
   "cell_type": "markdown",
   "metadata": {},
   "source": [
    "Hmmm, the regularization narrowed the gap between our training and test MSE, but it did not decrease the test MSE too much. We could spend all day searching for optimal hyperparameters. We'll just setup a small grid search and tune both the regularization terms and number of latent factors. The item and user regularization terms will be restricted to be equal to each other."
   ]
  },
  {
   "cell_type": "code",
   "execution_count": 11,
   "metadata": {
    "collapsed": false
   },
   "outputs": [
    {
     "name": "stdout",
     "output_type": "stream",
     "text": [
      "Factors: 5\n",
      "Regularization: 0.01\n",
      "New optimal hyperparameters\n",
      "model        <__main__.ExplicitMF instance at 0x7f3e0bd37fc8>\n",
      "n_factors                                                   5\n",
      "n_iter                                                      5\n",
      "reg                                                      0.01\n",
      "test_mse                                               8.8536\n",
      "train_mse                                             6.13852\n",
      "dtype: object\n",
      "Regularization: 0.1\n",
      "New optimal hyperparameters\n",
      "model        <__main__.ExplicitMF instance at 0x7f3e0be0e248>\n",
      "n_factors                                                   5\n",
      "n_iter                                                     10\n",
      "reg                                                       0.1\n",
      "test_mse                                              8.82131\n",
      "train_mse                                             6.13235\n",
      "dtype: object\n",
      "Regularization: 1.0\n",
      "New optimal hyperparameters\n",
      "model        <__main__.ExplicitMF instance at 0x7f3e1267e128>\n",
      "n_factors                                                   5\n",
      "n_iter                                                     10\n",
      "reg                                                         1\n",
      "test_mse                                              8.74613\n",
      "train_mse                                             6.19465\n",
      "dtype: object\n",
      "Regularization: 10.0\n",
      "Regularization: 100.0\n",
      "Factors: 10\n",
      "Regularization: 0.01\n",
      "New optimal hyperparameters\n",
      "model        <__main__.ExplicitMF instance at 0x7f3e0be30fc8>\n",
      "n_factors                                                  10\n",
      "n_iter                                                    100\n",
      "reg                                                      0.01\n",
      "test_mse                                              8.20374\n",
      "train_mse                                             5.39429\n",
      "dtype: object\n",
      "Regularization: 0.1\n",
      "Regularization: 1.0\n",
      "Regularization: 10.0\n",
      "Regularization: 100.0\n",
      "Factors: 20\n",
      "Regularization: 0.01\n",
      "New optimal hyperparameters\n",
      "model        <__main__.ExplicitMF instance at 0x7f3e0bdabfc8>\n",
      "n_factors                                                  20\n",
      "n_iter                                                     50\n",
      "reg                                                      0.01\n",
      "test_mse                                              8.07322\n",
      "train_mse                                             4.75437\n",
      "dtype: object\n",
      "Regularization: 0.1\n",
      "Regularization: 1.0\n",
      "Regularization: 10.0\n",
      "Regularization: 100.0\n",
      "Factors: 40\n",
      "Regularization: 0.01\n",
      "Regularization: 0.1\n",
      "Regularization: 1.0\n",
      "Regularization: 10.0\n",
      "Regularization: 100.0\n",
      "Factors: 80\n",
      "Regularization: 0.01\n",
      "Regularization: 0.1\n",
      "Regularization: 1.0\n",
      "Regularization: 10.0\n",
      "Regularization: 100.0\n"
     ]
    }
   ],
   "source": [
    "latent_factors = [5, 10, 20, 40, 80]\n",
    "regularizations = [0.01, 0.1, 1., 10., 100.]\n",
    "regularizations.sort()\n",
    "iter_array = [1, 2, 5, 10, 25, 50, 100]\n",
    "\n",
    "best_params = {}\n",
    "best_params['n_factors'] = latent_factors[0]\n",
    "best_params['reg'] = regularizations[0]\n",
    "best_params['n_iter'] = 0\n",
    "best_params['train_mse'] = np.inf\n",
    "best_params['test_mse'] = np.inf\n",
    "best_params['model'] = None\n",
    "\n",
    "for fact in latent_factors:\n",
    "    print 'Factors: {}'.format(fact)\n",
    "    for reg in regularizations:\n",
    "        print 'Regularization: {}'.format(reg)\n",
    "        MF_ALS = ExplicitMF(train, n_factors=fact, \\\n",
    "                            user_reg=reg, item_reg=reg)\n",
    "        MF_ALS.calculate_learning_curve(iter_array, test)\n",
    "        min_idx = np.argmin(MF_ALS.test_mse)\n",
    "        if MF_ALS.test_mse[min_idx] < best_params['test_mse']:\n",
    "            best_params['n_factors'] = fact\n",
    "            best_params['reg'] = reg\n",
    "            best_params['n_iter'] = iter_array[min_idx]\n",
    "            best_params['train_mse'] = MF_ALS.train_mse[min_idx]\n",
    "            best_params['test_mse'] = MF_ALS.test_mse[min_idx]\n",
    "            best_params['model'] = MF_ALS\n",
    "            print 'New optimal hyperparameters'\n",
    "            print pd.Series(best_params)"
   ]
  },
  {
   "cell_type": "code",
   "execution_count": 12,
   "metadata": {
    "collapsed": false
   },
   "outputs": [
    {
     "data": {
      "image/png": "[encoded data removed]",
      "text/plain": [
       "<matplotlib.figure.Figure at 0x7f3e0bd3ba90>"
      ]
     },
     "metadata": {},
     "output_type": "display_data"
    }
   ],
   "source": [
    "best_als_model = best_params['model']\n",
    "plot_learning_curve(iter_array, best_als_model)"
   ]
  },
  {
   "cell_type": "markdown",
   "metadata": {},
   "source": [
    "So it looks like the best performing parameters were 20 factors and a regularization value of 0.01. I would like to again look at the movie-to-movie similarity like my previous [post]({filename}/2015-11-02-intro-to-collaborative-filtering.md), but let's first explore the other minimization algorithm: stochastic gradient descent (SGD).\n",
    "\n",
    "## Stochastic Gradient Descent\n",
    "\n",
    "With SGD, we again take derivatives of the loss function, but we take the derivative with respect to each variable in the model. The \"stochastic\" aspect of the algorithm involves taking the derivative and updating feature weights one individual sample at a time. So, for each sample, we take the derivative of each variable, set them all equal to zero, solve for the feature weights, and update each feature. Somehow this method actually converges.\n",
    "\n",
    "We will use a similar loss function to before, but I am going to add some more details to the model. Instead of assuming that a user *u*'s rating for item *i* can be described simply by the dot product of the user and item latent vectors, we will consider that each user and item can have a bias term associated with them. The rational is that certan users might tend to rate all movies highly, or certain movies may tend to always have low ratings. The way that I think about it is that the bias term takes care of the \"DC\" part of the signal which allows the latent factors to account for the more detailed variance in signal (kind of like the AC part). We will also include a global bias term as well. With all things combined, our predicted rating becomes \n",
    "\n",
    "$$ \\hat r_{ui} = \\mu + b_{u} + b_{i} + \\textbf{x}_{u}^{\\intercal} \\cdot{} \\textbf{y}_{i} $$\n",
    "\n",
    "where $\\mu$ is the global bias, and $b_{u}$ ($b_{i}$) is the user (item) bias. Our loss function now becomes\n",
    "\n",
    "$$L = \\sum\\limits_{u,i}(r_{ui} - (\\mu + b_{u} + b_{i} + \\textbf{x}_{u}^{\\intercal} \\cdot{} \\textbf{y}_{i}))^{2} + \n",
    "\\lambda_{xb} \\sum\\limits_{u} \\left\\Vert b_{u} \\right\\Vert^{2} + \\lambda_{yb} \\sum\\limits_{i} \\left\\Vert b_{i} \\right\\Vert^{2} + \\lambda_{xf} \\sum\\limits_{u} \\left\\Vert \\textbf{x}_{u} \\right\\Vert^{2} + \\lambda_{yf} \\sum\\limits_{u} \\left\\Vert \\textbf{y}_{i} \\right\\Vert^{2}$$\n",
    "\n",
    "where we have added on extra bias regularization terms. We want to update each feature (user and item latent factors and bias terms) with each sample. The update for the user bias is given by \n",
    "\n",
    "$$ b_{u} \\leftarrow b_{u} - \\eta \\frac{\\partial L}{\\partial b_{u}} $$\n",
    "\n",
    "where $\\eta$ is the *learning rate* which weights how much our update modifies the feature weights. The derivative term is given by\n",
    "\n",
    "$$ \\frac{\\partial L}{\\partial b_{u}} = 2(r_{ui} - (\\mu + b_{u} + b_{i} + \\textbf{x}_{u}^{\\intercal} \\cdot{} \\textbf{y}_{i}))(-1) + 2\\lambda_{xb} b_{u} $$\n",
    "$$ \\frac{\\partial L}{\\partial b_{u}} = 2(e_{ui})(-1) + 2\\lambda_{xb} b_{u} $$\n",
    "$$ \\frac{\\partial L}{\\partial b_{u}} = - e_{ui} + \\lambda_{xb} b_{u} $$\n",
    "\n",
    "where $e_{ui}$ represents the error in our prediction, and we have dropped the factor of 2 (we can assume it gets rolled up in the learning rate). For all of our features, the updates end up being\n",
    "\n",
    "$$ b_{u} \\leftarrow b_{u} + \\eta \\, (e_{ui} - \\lambda_{xb} b_{u}) $$\n",
    "$$ b_{i} \\leftarrow b_{i} + \\eta \\, (e_{ui} - \\lambda_{yb} b_{i}) $$\n",
    "$$ \\textbf{x}_{u} \\leftarrow \\textbf{x}_{u} + \\eta \\, (e_{ui}\\textbf{y}_{i} - \\lambda_{xf} \\textbf{x}_{u}) $$\n",
    "$$ \\textbf{y}_{i} \\leftarrow \\textbf{y}_{i} + \\eta \\, (e_{ui}\\textbf{x}_{u} - \\lambda_{yf} \\textbf{y}_{i}) $$\n",
    "\n",
    "### Computation\n",
    "\n",
    "I've modified the original ```ExplicitMF``` class to allow for either ```sgd``` or ```als``` learning."
   ]
  },
  {
   "cell_type": "code",
   "execution_count": 13,
   "metadata": {
    "collapsed": false
   },
   "outputs": [],
   "source": [
    "class ExplicitMF():\n",
    "    def __init__(self, \n",
    "                 ratings,\n",
    "                 n_factors=40,\n",
    "                 learning='sgd',\n",
    "                 item_fact_reg=0.0, \n",
    "                 user_fact_reg=0.0,\n",
    "                 item_bias_reg=0.0,\n",
    "                 user_bias_reg=0.0,\n",
    "                 verbose=False):\n",
    "        \"\"\"\n",
    "        Train a matrix factorization model to predict empty \n",
    "        entries in a matrix. The terminology assumes a \n",
    "        ratings matrix which is ~ user x item\n",
    "        \n",
    "        Params\n",
    "        ======\n",
    "        ratings : (ndarray)\n",
    "            User x Item matrix with corresponding ratings\n",
    "        \n",
    "        n_factors : (int)\n",
    "            Number of latent factors to use in matrix \n",
    "            factorization model\n",
    "        learning : (str)\n",
    "            Method of optimization. Options include \n",
    "            'sgd' or 'als'.\n",
    "        \n",
    "        item_fact_reg : (float)\n",
    "            Regularization term for item latent factors\n",
    "        \n",
    "        user_fact_reg : (float)\n",
    "            Regularization term for user latent factors\n",
    "            \n",
    "        item_bias_reg : (float)\n",
    "            Regularization term for item biases\n",
    "        \n",
    "        user_bias_reg : (float)\n",
    "            Regularization term for user biases\n",
    "        \n",
    "        verbose : (bool)\n",
    "            Whether or not to printout training progress\n",
    "        \"\"\"\n",
    "        \n",
    "        self.ratings = ratings\n",
    "        self.n_users, self.n_items = ratings.shape\n",
    "        self.n_factors = n_factors\n",
    "        self.item_fact_reg = item_fact_reg\n",
    "        self.user_fact_reg = user_fact_reg\n",
    "        self.item_bias_reg = item_bias_reg\n",
    "        self.user_bias_reg = user_bias_reg\n",
    "        self.learning = learning\n",
    "        if self.learning == 'sgd':\n",
    "            self.sample_row, self.sample_col = self.ratings.nonzero()\n",
    "            self.n_samples = len(self.sample_row)\n",
    "        self._v = verbose\n",
    "\n",
    "    def als_step(self,\n",
    "                 latent_vectors,\n",
    "                 fixed_vecs,\n",
    "                 ratings,\n",
    "                 _lambda,\n",
    "                 type='user'):\n",
    "        \"\"\"\n",
    "        One of the two ALS steps. Solve for the latent vectors\n",
    "        specified by type.\n",
    "        \"\"\"\n",
    "        if type == 'user':\n",
    "            # Precompute\n",
    "            YTY = fixed_vecs.T.dot(fixed_vecs)\n",
    "            lambdaI = np.eye(YTY.shape[0]) * _lambda\n",
    "\n",
    "            for u in xrange(latent_vectors.shape[0]):\n",
    "                latent_vectors[u, :] = solve((YTY + lambdaI), \n",
    "                                             ratings[u, :].dot(fixed_vecs))\n",
    "        elif type == 'item':\n",
    "            # Precompute\n",
    "            XTX = fixed_vecs.T.dot(fixed_vecs)\n",
    "            lambdaI = np.eye(XTX.shape[0]) * _lambda\n",
    "            \n",
    "            for i in xrange(latent_vectors.shape[0]):\n",
    "                latent_vectors[i, :] = solve((XTX + lambdaI), \n",
    "                                             ratings[:, i].T.dot(fixed_vecs))\n",
    "        return latent_vectors\n",
    "\n",
    "    def train(self, n_iter=10, learning_rate=0.1):\n",
    "        \"\"\" Train model for n_iter iterations from scratch.\"\"\"\n",
    "        # initialize latent vectors        \n",
    "        self.user_vecs = np.random.normal(scale=1./self.n_factors,\\\n",
    "                                          size=(self.n_users, self.n_factors))\n",
    "        self.item_vecs = np.random.normal(scale=1./self.n_factors,\n",
    "                                          size=(self.n_items, self.n_factors))\n",
    "        \n",
    "        if self.learning == 'als':\n",
    "            self.partial_train(n_iter)\n",
    "        elif self.learning == 'sgd':\n",
    "            self.learning_rate = learning_rate\n",
    "            self.user_bias = np.zeros(self.n_users)\n",
    "            self.item_bias = np.zeros(self.n_items)\n",
    "            self.global_bias = np.mean(self.ratings[np.where(self.ratings != 0)])\n",
    "            self.partial_train(n_iter)\n",
    "    \n",
    "    \n",
    "    def partial_train(self, n_iter):\n",
    "        \"\"\" \n",
    "        Train model for n_iter iterations. Can be \n",
    "        called multiple times for further training.\n",
    "        \"\"\"\n",
    "        ctr = 1\n",
    "        while ctr <= n_iter:\n",
    "            if ctr % 10 == 0 and self._v:\n",
    "                print '\\tcurrent iteration: {}'.format(ctr)\n",
    "            if self.learning == 'als':\n",
    "                self.user_vecs = self.als_step(self.user_vecs, \n",
    "                                               self.item_vecs, \n",
    "                                               self.ratings, \n",
    "                                               self.user_fact_reg, \n",
    "                                               type='user')\n",
    "                self.item_vecs = self.als_step(self.item_vecs, \n",
    "                                               self.user_vecs, \n",
    "                                               self.ratings, \n",
    "                                               self.item_fact_reg, \n",
    "                                               type='item')\n",
    "            elif self.learning == 'sgd':\n",
    "                self.training_indices = np.arange(self.n_samples)\n",
    "                np.random.shuffle(self.training_indices)\n",
    "                self.sgd()\n",
    "            ctr += 1\n",
    "\n",
    "    def sgd(self):\n",
    "        for idx in self.training_indices:\n",
    "            u = self.sample_row[idx]\n",
    "            i = self.sample_col[idx]\n",
    "            prediction = self.predict(u, i)\n",
    "            e = (self.ratings[u,i] - prediction) # error\n",
    "            \n",
    "            # Update biases\n",
    "            self.user_bias[u] += self.learning_rate * \\\n",
    "                                (e - self.user_bias_reg * self.user_bias[u])\n",
    "            self.item_bias[i] += self.learning_rate * \\\n",
    "                                (e - self.item_bias_reg * self.item_bias[i])\n",
    "            \n",
    "            #Update latent factors\n",
    "            self.user_vecs[u, :] += self.learning_rate * \\\n",
    "                                    (e * self.item_vecs[i, :] - \\\n",
    "                                     self.user_fact_reg * self.user_vecs[u,:])\n",
    "            self.item_vecs[i, :] += self.learning_rate * \\\n",
    "                                    (e * self.user_vecs[u, :] - \\\n",
    "                                     self.item_fact_reg * self.item_vecs[i,:])\n",
    "    def predict(self, u, i):\n",
    "        \"\"\" Single user and item prediction.\"\"\"\n",
    "        if self.learning == 'als':\n",
    "            return self.user_vecs[u, :].dot(self.item_vecs[i, :].T)\n",
    "        elif self.learning == 'sgd':\n",
    "            prediction = self.global_bias + self.user_bias[u] + self.item_bias[i]\n",
    "            prediction += self.user_vecs[u, :].dot(self.item_vecs[i, :].T)\n",
    "            return prediction\n",
    "    \n",
    "    def predict_all(self):\n",
    "        \"\"\" Predict ratings for every user and item.\"\"\"\n",
    "        predictions = np.zeros((self.user_vecs.shape[0], \n",
    "                                self.item_vecs.shape[0]))\n",
    "        for u in xrange(self.user_vecs.shape[0]):\n",
    "            for i in xrange(self.item_vecs.shape[0]):\n",
    "                predictions[u, i] = self.predict(u, i)\n",
    "                \n",
    "        return predictions\n",
    "    \n",
    "    def calculate_learning_curve(self, iter_array, test, learning_rate=0.1):\n",
    "        \"\"\"\n",
    "        Keep track of MSE as a function of training iterations.\n",
    "        \n",
    "        Params\n",
    "        ======\n",
    "        iter_array : (list)\n",
    "            List of numbers of iterations to train for each step of \n",
    "            the learning curve. e.g. [1, 5, 10, 20]\n",
    "        test : (2D ndarray)\n",
    "            Testing dataset (assumed to be user x item).\n",
    "        \n",
    "        The function creates two new class attributes:\n",
    "        \n",
    "        train_mse : (list)\n",
    "            Training data MSE values for each value of iter_array\n",
    "        test_mse : (list)\n",
    "            Test data MSE values for each value of iter_array\n",
    "        \"\"\"\n",
    "        iter_array.sort()\n",
    "        self.train_mse =[]\n",
    "        self.test_mse = []\n",
    "        iter_diff = 0\n",
    "        for (i, n_iter) in enumerate(iter_array):\n",
    "            if self._v:\n",
    "                print 'Iteration: {}'.format(n_iter)\n",
    "            if i == 0:\n",
    "                self.train(n_iter - iter_diff, learning_rate)\n",
    "            else:\n",
    "                self.partial_train(n_iter - iter_diff)\n",
    "\n",
    "            predictions = self.predict_all()\n",
    "\n",
    "            self.train_mse += [get_mse(predictions, self.ratings)]\n",
    "            self.test_mse += [get_mse(predictions, test)]\n",
    "            if self._v:\n",
    "                print 'Train mse: ' + str(self.train_mse[-1])\n",
    "                print 'Test mse: ' + str(self.test_mse[-1])\n",
    "            iter_diff = n_iter"
   ]
  },
  {
   "cell_type": "markdown",
   "metadata": {},
   "source": [
    "Similar to the ALS section above, let's try looking at the learning curve for 40 latent factors, no regularizaton, and a learning rate of 0.001."
   ]
  },
  {
   "cell_type": "code",
   "execution_count": 14,
   "metadata": {
    "collapsed": false
   },
   "outputs": [
    {
     "name": "stdout",
     "output_type": "stream",
     "text": [
      "Iteration: 1\n",
      "Train mse: 1.14177869865\n",
      "Test mse: 1.18835604452\n",
      "Iteration: 2\n",
      "Train mse: 1.07185141375\n",
      "Test mse: 1.1384050219\n",
      "Iteration: 5\n",
      "Train mse: 0.975472334851\n",
      "Test mse: 1.06177445752\n",
      "Iteration: 10\n",
      "Train mse: 0.917930429855\n",
      "Test mse: 1.01129117946\n",
      "Iteration: 25\n",
      "\tcurrent iteration: 10\n",
      "Train mse: 0.866100381526\n",
      "Test mse: 0.963769980492\n",
      "Iteration: 50\n",
      "\tcurrent iteration: 10\n",
      "\tcurrent iteration: 20\n",
      "Train mse: 0.838103967224\n",
      "Test mse: 0.943193798801\n",
      "Iteration: 100\n",
      "\tcurrent iteration: 10\n",
      "\tcurrent iteration: 20\n",
      "\tcurrent iteration: 30\n",
      "\tcurrent iteration: 40\n",
      "\tcurrent iteration: 50\n",
      "Train mse: 0.747444200503\n",
      "Test mse: 0.924721070559\n",
      "Iteration: 200\n",
      "\tcurrent iteration: 10\n",
      "\tcurrent iteration: 20\n",
      "\tcurrent iteration: 30\n",
      "\tcurrent iteration: 40\n",
      "\tcurrent iteration: 50\n",
      "\tcurrent iteration: 60\n",
      "\tcurrent iteration: 70\n",
      "\tcurrent iteration: 80\n",
      "\tcurrent iteration: 90\n",
      "\tcurrent iteration: 100\n",
      "Train mse: 0.401711968464\n",
      "Test mse: 0.922782112511\n"
     ]
    }
   ],
   "source": [
    "MF_SGD = ExplicitMF(train, 40, learning='sgd', verbose=True)\n",
    "iter_array = [1, 2, 5, 10, 25, 50, 100, 200]\n",
    "MF_SGD.calculate_learning_curve(iter_array, test, learning_rate=0.001)"
   ]
  },
  {
   "cell_type": "code",
   "execution_count": 15,
   "metadata": {
    "collapsed": false
   },
   "outputs": [
    {
     "data": {
      "image/png": "[encoded data removed]",
      "text/plain": [
       "<matplotlib.figure.Figure at 0x7f3e0bc9f9d0>"
      ]
     },
     "metadata": {},
     "output_type": "display_data"
    }
   ],
   "source": [
    "plot_learning_curve(iter_array, MF_SGD)"
   ]
  },
  {
   "cell_type": "markdown",
   "metadata": {},
   "source": [
    "Wow, quite a bit better than before! I assume that this is likely due to the inclusion of bias terms (especially because the ratings are not normalized). \n",
    "\n",
    "### Evaluation and tuning\n",
    "\n",
    "Let's try to optimize some hyperparameters. We'll start with a grid search of the learning rate."
   ]
  },
  {
   "cell_type": "code",
   "execution_count": 16,
   "metadata": {
    "collapsed": false
   },
   "outputs": [
    {
     "name": "stdout",
     "output_type": "stream",
     "text": [
      "Rate: 1e-05\n",
      "New optimal hyperparameters\n",
      "learning_rate                                               1e-05\n",
      "model            <__main__.ExplicitMF instance at 0x7f3e0bc192d8>\n",
      "n_iter                                                        200\n",
      "test_mse                                                  1.13841\n",
      "train_mse                                                 1.07205\n",
      "dtype: object\n",
      "Rate: 0.0001\n",
      "New optimal hyperparameters\n",
      "learning_rate                                              0.0001\n",
      "model            <__main__.ExplicitMF instance at 0x7f3e0be9f3f8>\n",
      "n_iter                                                        200\n",
      "test_mse                                                 0.972998\n",
      "train_mse                                                0.876805\n",
      "dtype: object\n",
      "Rate: 0.001\n",
      "New optimal hyperparameters\n",
      "learning_rate                                               0.001\n",
      "model            <__main__.ExplicitMF instance at 0x7f3e0bcf7bd8>\n",
      "n_iter                                                        200\n",
      "test_mse                                                 0.914752\n",
      "train_mse                                                0.403944\n",
      "dtype: object\n",
      "Rate: 0.01\n"
     ]
    }
   ],
   "source": [
    "iter_array = [1, 2, 5, 10, 25, 50, 100, 200]\n",
    "learning_rates = [1e-5, 1e-4, 1e-3, 1e-2]\n",
    "\n",
    "best_params = {}\n",
    "best_params['learning_rate'] = None\n",
    "best_params['n_iter'] = 0\n",
    "best_params['train_mse'] = np.inf\n",
    "best_params['test_mse'] = np.inf\n",
    "best_params['model'] = None\n",
    "\n",
    "\n",
    "for rate in learning_rates:\n",
    "    print 'Rate: {}'.format(rate)\n",
    "    MF_SGD = ExplicitMF(train, n_factors=40, learning='sgd')\n",
    "    MF_SGD.calculate_learning_curve(iter_array, test, learning_rate=rate)\n",
    "    min_idx = np.argmin(MF_SGD.test_mse)\n",
    "    if MF_SGD.test_mse[min_idx] < best_params['test_mse']:\n",
    "        best_params['n_iter'] = iter_array[min_idx]\n",
    "        best_params['learning_rate'] = rate\n",
    "        best_params['train_mse'] = MF_SGD.train_mse[min_idx]\n",
    "        best_params['test_mse'] = MF_SGD.test_mse[min_idx]\n",
    "        best_params['model'] = MF_SGD\n",
    "        print 'New optimal hyperparameters'\n",
    "        print pd.Series(best_params)"
   ]
  },
  {
   "cell_type": "markdown",
   "metadata": {},
   "source": [
    "Looks like a learning rate 0.001 was the best value. We'll now complete the hyperparameter optimization with a grid search through regularization terms and latent factors. This takes a while and could easily be parallelized, but that's beyond the scope of this post. Maybe next post I'll look into optimizing some of these algorithms."
   ]
  },
  {
   "cell_type": "code",
   "execution_count": 17,
   "metadata": {
    "collapsed": false
   },
   "outputs": [
    {
     "name": "stdout",
     "output_type": "stream",
     "text": [
      "Factors: 5\n",
      "Regularization: 0.001\n",
      "New optimal hyperparameters\n",
      "model        <__main__.ExplicitMF instance at 0x7f3e0bd15758>\n",
      "n_factors                                                   5\n",
      "n_iter                                                    100\n",
      "reg                                                     0.001\n",
      "test_mse                                             0.935368\n",
      "train_mse                                            0.750861\n",
      "dtype: object\n",
      "Regularization: 0.01\n",
      "New optimal hyperparameters\n",
      "model        <__main__.ExplicitMF instance at 0x7f3e0bd682d8>\n",
      "n_factors                                                   5\n",
      "n_iter                                                    200\n",
      "reg                                                      0.01\n",
      "test_mse                                             0.933326\n",
      "train_mse                                             0.67293\n",
      "dtype: object\n",
      "Regularization: 0.1\n",
      "New optimal hyperparameters\n",
      "model        <__main__.ExplicitMF instance at 0x7f3e0bd68dd0>\n",
      "n_factors                                                   5\n",
      "n_iter                                                    200\n",
      "reg                                                       0.1\n",
      "test_mse                                             0.914926\n",
      "train_mse                                            0.769424\n",
      "dtype: object\n",
      "Regularization: 1.0\n",
      "Factors: 10\n",
      "Regularization: 0.001\n",
      "Regularization: 0.01\n",
      "Regularization: 0.1\n",
      "New optimal hyperparameters\n",
      "model        <__main__.ExplicitMF instance at 0x7f3e0bb72f38>\n",
      "n_factors                                                  10\n",
      "n_iter                                                    200\n",
      "reg                                                       0.1\n",
      "test_mse                                             0.910528\n",
      "train_mse                                            0.765306\n",
      "dtype: object\n",
      "Regularization: 1.0\n",
      "Factors: 20\n",
      "Regularization: 0.001\n",
      "Regularization: 0.01\n",
      "Regularization: 0.1\n",
      "Regularization: 1.0\n",
      "Factors: 40\n",
      "Regularization: 0.001\n",
      "Regularization: 0.01\n",
      "New optimal hyperparameters\n",
      "model        <__main__.ExplicitMF instance at 0x7f3e0bb72f80>\n",
      "n_factors                                                  40\n",
      "n_iter                                                    200\n",
      "reg                                                      0.01\n",
      "test_mse                                              0.89187\n",
      "train_mse                                            0.459506\n",
      "dtype: object\n",
      "Regularization: 0.1\n",
      "Regularization: 1.0\n",
      "Factors: 80\n",
      "Regularization: 0.001\n",
      "New optimal hyperparameters\n",
      "model        <__main__.ExplicitMF instance at 0x7f3e0bb72680>\n",
      "n_factors                                                  80\n",
      "n_iter                                                    200\n",
      "reg                                                     0.001\n",
      "test_mse                                             0.891822\n",
      "train_mse                                            0.408462\n",
      "dtype: object\n",
      "Regularization: 0.01\n",
      "New optimal hyperparameters\n",
      "model        <__main__.ExplicitMF instance at 0x7f3e0bb72f38>\n",
      "n_factors                                                  80\n",
      "n_iter                                                    200\n",
      "reg                                                      0.01\n",
      "test_mse                                             0.884726\n",
      "train_mse                                            0.471539\n",
      "dtype: object\n",
      "Regularization: 0.1\n",
      "Regularization: 1.0\n"
     ]
    }
   ],
   "source": [
    "iter_array = [1, 2, 5, 10, 25, 50, 100, 200]\n",
    "latent_factors = [5, 10, 20, 40, 80]\n",
    "regularizations = [0.001, 0.01, 0.1, 1.]\n",
    "regularizations.sort()\n",
    "\n",
    "best_params = {}\n",
    "best_params['n_factors'] = latent_factors[0]\n",
    "best_params['reg'] = regularizations[0]\n",
    "best_params['n_iter'] = 0\n",
    "best_params['train_mse'] = np.inf\n",
    "best_params['test_mse'] = np.inf\n",
    "best_params['model'] = None\n",
    "\n",
    "for fact in latent_factors:\n",
    "    print 'Factors: {}'.format(fact)\n",
    "    for reg in regularizations:\n",
    "        print 'Regularization: {}'.format(reg)\n",
    "        MF_SGD = ExplicitMF(train, n_factors=fact, learning='sgd',\\\n",
    "                            user_fact_reg=reg, item_fact_reg=reg, \\\n",
    "                            user_bias_reg=reg, item_bias_reg=reg)\n",
    "        MF_SGD.calculate_learning_curve(iter_array, test, learning_rate=0.001)\n",
    "        min_idx = np.argmin(MF_SGD.test_mse)\n",
    "        if MF_SGD.test_mse[min_idx] < best_params['test_mse']:\n",
    "            best_params['n_factors'] = fact\n",
    "            best_params['reg'] = reg\n",
    "            best_params['n_iter'] = iter_array[min_idx]\n",
    "            best_params['train_mse'] = MF_SGD.train_mse[min_idx]\n",
    "            best_params['test_mse'] = MF_SGD.test_mse[min_idx]\n",
    "            best_params['model'] = MF_SGD\n",
    "            print 'New optimal hyperparameters'\n",
    "            print pd.Series(best_params)"
   ]
  },
  {
   "cell_type": "code",
   "execution_count": 18,
   "metadata": {
    "collapsed": false
   },
   "outputs": [
    {
     "data": {
      "image/png": "[encoded data removed]",
      "text/plain": [
       "<matplotlib.figure.Figure at 0x7f3e0bc2b210>"
      ]
     },
     "metadata": {},
     "output_type": "display_data"
    }
   ],
   "source": [
    "plot_learning_curve(iter_array, best_params['model'])"
   ]
  },
  {
   "cell_type": "code",
   "execution_count": 19,
   "metadata": {
    "collapsed": false
   },
   "outputs": [
    {
     "name": "stdout",
     "output_type": "stream",
     "text": [
      "Best regularization: 0.01\n",
      "Best latent factors: 80\n",
      "Best iterations: 200\n"
     ]
    }
   ],
   "source": [
    "print 'Best regularization: {}'.format(best_params['reg'])\n",
    "print 'Best latent factors: {}'.format(best_params['n_factors'])\n",
    "print 'Best iterations: {}'.format(best_params['n_iter'])"
   ]
  },
  {
   "cell_type": "markdown",
   "metadata": {},
   "source": [
    "It should be noted that both our best latent factors and best iteration count were at the maximums of their respective grid searches. In hindsight, we should have set the grid search to a wider range. In practice, I am going to just go with these parameters. We could spend all day optimizing, but this is just a blog post on extensively studied data.\n",
    "\n",
    "## Eye tests\n",
    "\n",
    "To wrap up this post, let's again look at movie-to-movie similarity using by using [themoviedb.org](http://www.themoviedb.org)'s API to grab the movie posters and visualize the top 5 most similar movies to an input movie. We'll use the cosine similarity of the item latent vectors to calculate the similarity. Let's go for gold and use the entire dataset to train the latent vectors and calculate similarity. We'll do this for both ALS and SGD models and compare the results.\n",
    "\n",
    "We start by training both models with the best parameters we found."
   ]
  },
  {
   "cell_type": "code",
   "execution_count": 20,
   "metadata": {
    "collapsed": false
   },
   "outputs": [],
   "source": [
    "best_als_model = ExplicitMF(ratings, n_factors=20, learning='als', \\\n",
    "                            item_fact_reg=0.01, user_fact_reg=0.01)\n",
    "best_als_model.train(50)"
   ]
  },
  {
   "cell_type": "code",
   "execution_count": 21,
   "metadata": {
    "collapsed": false
   },
   "outputs": [],
   "source": [
    "best_sgd_model = ExplicitMF(ratings, n_factors=80, learning='sgd', \\\n",
    "                            item_fact_reg=0.01, user_fact_reg=0.01, \\\n",
    "                            user_bias_reg=0.01, item_bias_reg=0.01)\n",
    "best_sgd_model.train(200, learning_rate=0.001)"
   ]
  },
  {
   "cell_type": "markdown",
   "metadata": {},
   "source": [
    "I'll use this small function to calculate both the ALS and the SGD movie-to-movie similarity matrices."
   ]
  },
  {
   "cell_type": "code",
   "execution_count": 22,
   "metadata": {
    "collapsed": true
   },
   "outputs": [],
   "source": [
    "def cosine_similarity(model):\n",
    "    sim = model.item_vecs.dot(model.item_vecs.T)\n",
    "    norms = np.array([np.sqrt(np.diagonal(sim))])\n",
    "    return sim / norms / norms.T\n",
    "\n",
    "als_sim = cosine_similarity(best_als_model)\n",
    "sgd_sim = cosine_similarity(best_sgd_model)"
   ]
  },
  {
   "cell_type": "markdown",
   "metadata": {},
   "source": [
    "Lastly, just like before, let's read in the movie's IMDB urls and use those to query the themoviedb.org API."
   ]
  },
  {
   "cell_type": "code",
   "execution_count": 23,
   "metadata": {
    "collapsed": true
   },
   "outputs": [],
   "source": [
    "# Load in movie data\n",
    "idx_to_movie = {}\n",
    "with open('u.item', 'r') as f:\n",
    "    for line in f.readlines():\n",
    "        info = line.split('|')\n",
    "        idx_to_movie[int(info[0])-1] = info[4]"
   ]
  },
  {
   "cell_type": "code",
   "execution_count": 24,
   "metadata": {
    "collapsed": true
   },
   "outputs": [],
   "source": [
    "# Build function to query themoviedb.org's API\n",
    "import requests\n",
    "import json\n",
    "\n",
    "# Get base url filepath structure. w185 corresponds to size of movie poster.\n",
    "api_key = 'INSERT API KEY HERE'\n",
    "headers = {'Accept': 'application/json'}\n",
    "payload = {'api_key': api_key} \n",
    "response = requests.get(\"http://api.themoviedb.org/3/configuration\",\\\n",
    "                        params=payload,\\\n",
    "                        headers=headers)\n",
    "response = json.loads(response.text)\n",
    "base_url = response['images']['base_url'] + 'w185'\n",
    "\n",
    "def get_poster(imdb_url, base_url, api_key):\n",
    "    # Get IMDB movie ID\n",
    "    response = requests.get(imdb_url)\n",
    "    movie_id = response.url.split('/')[-2]\n",
    "    \n",
    "    # Query themoviedb.org API for movie poster path.\n",
    "    movie_url = 'http://api.themoviedb.org/3/movie/{:}/images'.format(movie_id)\n",
    "    headers = {'Accept': 'application/json'}\n",
    "    payload = {'api_key': api_key} \n",
    "    response = requests.get(movie_url, params=payload, headers=headers)\n",
    "    try:\n",
    "        file_path = json.loads(response.text)['posters'][0]['file_path']\n",
    "    except:\n",
    "        # IMDB movie ID is sometimes no good. Need to get correct one.\n",
    "        movie_title = imdb_url.split('?')[-1].split('(')[0]\n",
    "        payload['query'] = movie_title\n",
    "        response = requests.get('http://api.themoviedb.org/3/search/movie',\\\n",
    "                                params=payload,\\\n",
    "                                headers=headers)\n",
    "        try:\n",
    "            movie_id = json.loads(response.text)['results'][0]['id']\n",
    "            payload.pop('query', None)\n",
    "            movie_url = 'http://api.themoviedb.org/3/movie/{:}/images'\\\n",
    "                        .format(movie_id)\n",
    "            response = requests.get(movie_url, params=payload, headers=headers)\n",
    "            file_path = json.loads(response.text)['posters'][0]['file_path']\n",
    "        except:\n",
    "            # Sometimes the url just doesn't work.\n",
    "            # Return '' so that it does not mess up Image()\n",
    "            return ''\n",
    "        \n",
    "    return base_url + file_path"
   ]
  },
  {
   "cell_type": "markdown",
   "metadata": {},
   "source": [
    "To visualize the posters in the Jupyter notebook's cells, we can use the IPython.display method. I've modified things slightly from last time so that the movie posters appear horizontally. Special thanks to [this](http://stackoverflow.com/a/27795087) Stack Overflow answer for the idea to use straight HTML."
   ]
  },
  {
   "cell_type": "code",
   "execution_count": 25,
   "metadata": {
    "collapsed": false
   },
   "outputs": [],
   "source": [
    "from IPython.display import HTML\n",
    "from IPython.display import display\n",
    "\n",
    "def display_top_k_movies(similarity, mapper, movie_idx, base_url, api_key, k=5):\n",
    "    movie_indices = np.argsort(similarity[movie_idx,:])[::-1]\n",
    "    images = ''\n",
    "    k_ctr = 0\n",
    "    # Start i at 1 to not grab the input movie\n",
    "    i = 1\n",
    "    while k_ctr < 5:\n",
    "        movie = mapper[movie_indices[i]]\n",
    "        poster = get_poster(movie, base_url, api_key)\n",
    "        if poster != '':\n",
    "            images += \"<img style='width: 120px; margin: 0px; \\\n",
    "                      float: left; border: 1px solid black;' src='%s' />\"\\\n",
    "                      % poster\n",
    "            k_ctr += 1\n",
    "        i += 1\n",
    "    display(HTML(images))\n",
    "\n",
    "def compare_recs(als_similarity, sgd_similarity, mapper,\\\n",
    "                 movie_idx, base_url, api_key, k=5):\n",
    "    # Display input\n",
    "    display(HTML('<font size=5>'+'Input'+'</font>'))\n",
    "    input_poster = get_poster(mapper[movie_idx], base_url, api_key)\n",
    "    input_image = \"<img style='width: 120px; margin: 0px; \\\n",
    "                      float: left; border: 1px solid black;' src='%s' />\" \\\n",
    "                  % input_poster\n",
    "    display(HTML(input_image))\n",
    "    # Display ALS Recs\n",
    "    display(HTML('<font size=5>'+'ALS Recs'+'</font>'))\n",
    "    display_top_k_movies(als_similarity, idx_to_movie,\\\n",
    "                         movie_idx, base_url, api_key)\n",
    "    # Display SGD Recs\n",
    "    display(HTML('<font size=5>'+'SGD Recs'+'</font>'))\n",
    "    display_top_k_movies(sgd_similarity, idx_to_movie,\\\n",
    "                         movie_idx, base_url, api_key)"
   ]
  },
  {
   "cell_type": "markdown",
   "metadata": {},
   "source": [
    "I'll let you look through 5 different movie-to-movie recommendations below."
   ]
  },
  {
   "cell_type": "code",
   "execution_count": 26,
   "metadata": {
    "collapsed": false
   },
   "outputs": [
    {
     "data": {
      "text/html": [
       "<font size=5>Input</font>"
      ],
      "text/plain": [
       "<IPython.core.display.HTML object>"
      ]
     },
     "metadata": {},
     "output_type": "display_data"
    },
    {
     "data": {
      "text/html": [
       "<img style='width: 120px; margin: 0px;                       float: left; border: 1px solid black;' src='http://image.tmdb.org/t/p/w185/uMZqKhT4YA6mqo2yczoznv7IDmv.jpg' />"
      ],
      "text/plain": [
       "<IPython.core.display.HTML object>"
      ]
     },
     "metadata": {},
     "output_type": "display_data"
    },
    {
     "data": {
      "text/html": [
       "<font size=5>ALS Recs</font>"
      ],
      "text/plain": [
       "<IPython.core.display.HTML object>"
      ]
     },
     "metadata": {},
     "output_type": "display_data"
    },
    {
     "data": {
      "text/html": [
       "<img style='width: 120px; margin: 0px;                       float: left; border: 1px solid black;' src='http://image.tmdb.org/t/p/w185/b94qXd1FcIwgzv0NYMUe2bjrzJR.jpg' /><img style='width: 120px; margin: 0px;                       float: left; border: 1px solid black;' src='http://image.tmdb.org/t/p/w185/jYEKdpVvRV3KdyHMUVYyg0KTVSY.jpg' /><img style='width: 120px; margin: 0px;                       float: left; border: 1px solid black;' src='http://image.tmdb.org/t/p/w185/gGRmzbST3TAXwWoMKHDu6Vkn0kZ.jpg' /><img style='width: 120px; margin: 0px;                       float: left; border: 1px solid black;' src='http://image.tmdb.org/t/p/w185/qhVB8eUGwkdVvd8Fezk0AgcMPDH.jpg' /><img style='width: 120px; margin: 0px;                       float: left; border: 1px solid black;' src='http://image.tmdb.org/t/p/w185/tvSlBzAdRE29bZe5yYWrJ2ds137.jpg' />"
      ],
      "text/plain": [
       "<IPython.core.display.HTML object>"
      ]
     },
     "metadata": {},
     "output_type": "display_data"
    },
    {
     "data": {
      "text/html": [
       "<font size=5>SGD Recs</font>"
      ],
      "text/plain": [
       "<IPython.core.display.HTML object>"
      ]
     },
     "metadata": {},
     "output_type": "display_data"
    },
    {
     "data": {
      "text/html": [
       "<img style='width: 120px; margin: 0px;                       float: left; border: 1px solid black;' src='http://image.tmdb.org/t/p/w185/b9QJr2oblOu1grgOMUZF1xkUJdh.jpg' /><img style='width: 120px; margin: 0px;                       float: left; border: 1px solid black;' src='http://image.tmdb.org/t/p/w185/4p1N2Qrt8j0H8xMHMHvtRxv9weZ.jpg' /><img style='width: 120px; margin: 0px;                       float: left; border: 1px solid black;' src='http://image.tmdb.org/t/p/w185/c414cDeQ9b6qLPLeKmiJuLDUREJ.jpg' /><img style='width: 120px; margin: 0px;                       float: left; border: 1px solid black;' src='http://image.tmdb.org/t/p/w185/7f53XAE4nPiGe9XprpGAeWHuKPw.jpg' /><img style='width: 120px; margin: 0px;                       float: left; border: 1px solid black;' src='http://image.tmdb.org/t/p/w185/kJHws0p3sQHgmENHFk9pfhgxOnf.jpg' />"
      ],
      "text/plain": [
       "<IPython.core.display.HTML object>"
      ]
     },
     "metadata": {},
     "output_type": "display_data"
    }
   ],
   "source": [
    "idx = 0 # Toy Story\n",
    "compare_recs(als_sim, sgd_sim, idx_to_movie, idx, base_url, api_key)"
   ]
  },
  {
   "cell_type": "code",
   "execution_count": 27,
   "metadata": {
    "collapsed": false
   },
   "outputs": [
    {
     "data": {
      "text/html": [
       "<font size=5>Input</font>"
      ],
      "text/plain": [
       "<IPython.core.display.HTML object>"
      ]
     },
     "metadata": {},
     "output_type": "display_data"
    },
    {
     "data": {
      "text/html": [
       "<img style='width: 120px; margin: 0px;                       float: left; border: 1px solid black;' src='http://image.tmdb.org/t/p/w185/trtANqAEy9dxRCeIe7YEDVeGkLw.jpg' />"
      ],
      "text/plain": [
       "<IPython.core.display.HTML object>"
      ]
     },
     "metadata": {},
     "output_type": "display_data"
    },
    {
     "data": {
      "text/html": [
       "<font size=5>ALS Recs</font>"
      ],
      "text/plain": [
       "<IPython.core.display.HTML object>"
      ]
     },
     "metadata": {},
     "output_type": "display_data"
    },
    {
     "data": {
      "text/html": [
       "<img style='width: 120px; margin: 0px;                       float: left; border: 1px solid black;' src='http://image.tmdb.org/t/p/w185/k0PN3Ho12cGGIVJW7SCS7apLYaP.jpg' /><img style='width: 120px; margin: 0px;                       float: left; border: 1px solid black;' src='http://image.tmdb.org/t/p/w185/6WEu60V7EzncuFJSVmGJzhFvs4I.jpg' /><img style='width: 120px; margin: 0px;                       float: left; border: 1px solid black;' src='http://image.tmdb.org/t/p/w185/8XefYka77ypAnPJvaVlfUGBBs4a.jpg' /><img style='width: 120px; margin: 0px;                       float: left; border: 1px solid black;' src='http://image.tmdb.org/t/p/w185/nkRagoJbx9H3zVSEDyH5ldfgwyR.jpg' /><img style='width: 120px; margin: 0px;                       float: left; border: 1px solid black;' src='http://image.tmdb.org/t/p/w185/6Z1p71nkm45cYuIZWOx5JSCYc0o.jpg' />"
      ],
      "text/plain": [
       "<IPython.core.display.HTML object>"
      ]
     },
     "metadata": {},
     "output_type": "display_data"
    },
    {
     "data": {
      "text/html": [
       "<font size=5>SGD Recs</font>"
      ],
      "text/plain": [
       "<IPython.core.display.HTML object>"
      ]
     },
     "metadata": {},
     "output_type": "display_data"
    },
    {
     "data": {
      "text/html": [
       "<img style='width: 120px; margin: 0px;                       float: left; border: 1px solid black;' src='http://image.tmdb.org/t/p/w185/rSVIp8WwHRDhQjmdihDoSezsNDC.jpg' /><img style='width: 120px; margin: 0px;                       float: left; border: 1px solid black;' src='http://image.tmdb.org/t/p/w185/mTAHr5h5i64hTLqo0cW2X2083Cx.jpg' /><img style='width: 120px; margin: 0px;                       float: left; border: 1px solid black;' src='http://image.tmdb.org/t/p/w185/iXjrnw3dspqP5EhgqI0pUBcFO0g.jpg' /><img style='width: 120px; margin: 0px;                       float: left; border: 1px solid black;' src='http://image.tmdb.org/t/p/w185/oDJyDX11HW4j565vUjmFagKxDTQ.jpg' /><img style='width: 120px; margin: 0px;                       float: left; border: 1px solid black;' src='http://image.tmdb.org/t/p/w185/q6JEjedx4LoZRig8U1R5sJqBfti.jpg' />"
      ],
      "text/plain": [
       "<IPython.core.display.HTML object>"
      ]
     },
     "metadata": {},
     "output_type": "display_data"
    }
   ],
   "source": [
    "idx = 1 # GoldenEye\n",
    "compare_recs(als_sim, sgd_sim, idx_to_movie, idx, base_url, api_key)"
   ]
  },
  {
   "cell_type": "code",
   "execution_count": 28,
   "metadata": {
    "collapsed": false
   },
   "outputs": [
    {
     "data": {
      "text/html": [
       "<font size=5>Input</font>"
      ],
      "text/plain": [
       "<IPython.core.display.HTML object>"
      ]
     },
     "metadata": {},
     "output_type": "display_data"
    },
    {
     "data": {
      "text/html": [
       "<img style='width: 120px; margin: 0px;                       float: left; border: 1px solid black;' src='http://image.tmdb.org/t/p/w185/5A8gKzOrF9Z7tSUX6xd5dEx4NXf.jpg' />"
      ],
      "text/plain": [
       "<IPython.core.display.HTML object>"
      ]
     },
     "metadata": {},
     "output_type": "display_data"
    },
    {
     "data": {
      "text/html": [
       "<font size=5>ALS Recs</font>"
      ],
      "text/plain": [
       "<IPython.core.display.HTML object>"
      ]
     },
     "metadata": {},
     "output_type": "display_data"
    },
    {
     "data": {
      "text/html": [
       "<img style='width: 120px; margin: 0px;                       float: left; border: 1px solid black;' src='http://image.tmdb.org/t/p/w185/vddUwPL3L8MBH4FrEDCAZM9T6sj.jpg' /><img style='width: 120px; margin: 0px;                       float: left; border: 1px solid black;' src='http://image.tmdb.org/t/p/w185/erYGaztkz1tJbmyiB8uLMa9e4ZG.jpg' /><img style='width: 120px; margin: 0px;                       float: left; border: 1px solid black;' src='http://image.tmdb.org/t/p/w185/oJc4DICMlyowwc45j0SQBmvGdTe.jpg' /><img style='width: 120px; margin: 0px;                       float: left; border: 1px solid black;' src='http://image.tmdb.org/t/p/w185/ikfLM0qpyBtMJG0H9JwIxZC1egG.jpg' /><img style='width: 120px; margin: 0px;                       float: left; border: 1px solid black;' src='http://image.tmdb.org/t/p/w185/wZyRYmYrAWNiFhXohp4Ly8svpJH.jpg' />"
      ],
      "text/plain": [
       "<IPython.core.display.HTML object>"
      ]
     },
     "metadata": {},
     "output_type": "display_data"
    },
    {
     "data": {
      "text/html": [
       "<font size=5>SGD Recs</font>"
      ],
      "text/plain": [
       "<IPython.core.display.HTML object>"
      ]
     },
     "metadata": {},
     "output_type": "display_data"
    },
    {
     "data": {
      "text/html": [
       "<img style='width: 120px; margin: 0px;                       float: left; border: 1px solid black;' src='http://image.tmdb.org/t/p/w185/3pd3sdot0HfQTFzqgTUzaF4kcxP.jpg' /><img style='width: 120px; margin: 0px;                       float: left; border: 1px solid black;' src='http://image.tmdb.org/t/p/w185/79AYCcxw3kSKbhGpx1LiqaCAbwo.jpg' /><img style='width: 120px; margin: 0px;                       float: left; border: 1px solid black;' src='http://image.tmdb.org/t/p/w185/zVnzFkQqcPC1uxhAuIaWx4H0kEO.jpg' /><img style='width: 120px; margin: 0px;                       float: left; border: 1px solid black;' src='http://image.tmdb.org/t/p/w185/rYIqre2VJvykvXuQSVC0D3Hs4LU.jpg' /><img style='width: 120px; margin: 0px;                       float: left; border: 1px solid black;' src='http://image.tmdb.org/t/p/w185/bdXWixjWVA7Y03PvW74xufrROiJ.jpg' />"
      ],
      "text/plain": [
       "<IPython.core.display.HTML object>"
      ]
     },
     "metadata": {},
     "output_type": "display_data"
    }
   ],
   "source": [
    "idx = 20 # Muppet Treasure Island\n",
    "compare_recs(als_sim, sgd_sim, idx_to_movie, idx, base_url, api_key)"
   ]
  },
  {
   "cell_type": "code",
   "execution_count": 29,
   "metadata": {
    "collapsed": false
   },
   "outputs": [
    {
     "data": {
      "text/html": [
       "<font size=5>Input</font>"
      ],
      "text/plain": [
       "<IPython.core.display.HTML object>"
      ]
     },
     "metadata": {},
     "output_type": "display_data"
    },
    {
     "data": {
      "text/html": [
       "<img style='width: 120px; margin: 0px;                       float: left; border: 1px solid black;' src='http://image.tmdb.org/t/p/w185/5mP8F0NYSVrwrlWRCSD4uywMNnX.jpg' />"
      ],
      "text/plain": [
       "<IPython.core.display.HTML object>"
      ]
     },
     "metadata": {},
     "output_type": "display_data"
    },
    {
     "data": {
      "text/html": [
       "<font size=5>ALS Recs</font>"
      ],
      "text/plain": [
       "<IPython.core.display.HTML object>"
      ]
     },
     "metadata": {},
     "output_type": "display_data"
    },
    {
     "data": {
      "text/html": [
       "<img style='width: 120px; margin: 0px;                       float: left; border: 1px solid black;' src='http://image.tmdb.org/t/p/w185/sIoe4gjgDk35Ml7857gYSe6P9tG.jpg' /><img style='width: 120px; margin: 0px;                       float: left; border: 1px solid black;' src='http://image.tmdb.org/t/p/w185/6HyFhz2RutIuOAeVOtAXN4cDHbO.jpg' /><img style='width: 120px; margin: 0px;                       float: left; border: 1px solid black;' src='http://image.tmdb.org/t/p/w185/4PHKqg4kv39m6RGP2QTwTo2dbiY.jpg' /><img style='width: 120px; margin: 0px;                       float: left; border: 1px solid black;' src='http://image.tmdb.org/t/p/w185/st4P2TtPrAfNwu8HLXoPsPPii42.jpg' /><img style='width: 120px; margin: 0px;                       float: left; border: 1px solid black;' src='http://image.tmdb.org/t/p/w185/w4d8TFSUFVI0W8IRUTGrQVvFFdz.jpg' />"
      ],
      "text/plain": [
       "<IPython.core.display.HTML object>"
      ]
     },
     "metadata": {},
     "output_type": "display_data"
    },
    {
     "data": {
      "text/html": [
       "<font size=5>SGD Recs</font>"
      ],
      "text/plain": [
       "<IPython.core.display.HTML object>"
      ]
     },
     "metadata": {},
     "output_type": "display_data"
    },
    {
     "data": {
      "text/html": [
       "<img style='width: 120px; margin: 0px;                       float: left; border: 1px solid black;' src='http://image.tmdb.org/t/p/w185/pG5edeKkntnt5A799Y0UNI5hi9W.jpg' /><img style='width: 120px; margin: 0px;                       float: left; border: 1px solid black;' src='http://image.tmdb.org/t/p/w185/nZirljb8XYbKTWsRQTplDGhx39Q.jpg' /><img style='width: 120px; margin: 0px;                       float: left; border: 1px solid black;' src='http://image.tmdb.org/t/p/w185/dwWAr8T0q0KHv5rTu0eVaqpCJ2C.jpg' /><img style='width: 120px; margin: 0px;                       float: left; border: 1px solid black;' src='http://image.tmdb.org/t/p/w185/st4P2TtPrAfNwu8HLXoPsPPii42.jpg' /><img style='width: 120px; margin: 0px;                       float: left; border: 1px solid black;' src='http://image.tmdb.org/t/p/w185/c414cDeQ9b6qLPLeKmiJuLDUREJ.jpg' />"
      ],
      "text/plain": [
       "<IPython.core.display.HTML object>"
      ]
     },
     "metadata": {},
     "output_type": "display_data"
    }
   ],
   "source": [
    "idx = 40 # Billy Madison\n",
    "compare_recs(als_sim, sgd_sim, idx_to_movie, idx, base_url, api_key)"
   ]
  },
  {
   "cell_type": "code",
   "execution_count": 29,
   "metadata": {
    "collapsed": false
   },
   "outputs": [
    {
     "data": {
      "text/html": [
       "<font size=5>Input</font>"
      ],
      "text/plain": [
       "<IPython.core.display.HTML object>"
      ]
     },
     "metadata": {},
     "output_type": "display_data"
    },
    {
     "data": {
      "text/html": [
       "<img style='width: 120px; margin: 0px;                       float: left; border: 1px solid black;' src='http://image.tmdb.org/t/p/w185/r5IqhwZ61OuKlsyDwvXWyWQZK30.jpg' />"
      ],
      "text/plain": [
       "<IPython.core.display.HTML object>"
      ]
     },
     "metadata": {},
     "output_type": "display_data"
    },
    {
     "data": {
      "text/html": [
       "<font size=5>ALS Recs</font>"
      ],
      "text/plain": [
       "<IPython.core.display.HTML object>"
      ]
     },
     "metadata": {},
     "output_type": "display_data"
    },
    {
     "data": {
      "text/html": [
       "<img style='width: 120px; margin: 0px;                       float: left; border: 1px solid black;' src='http://image.tmdb.org/t/p/w185/vGV35HBCMhQl2phhGaQ29P08ZgM.jpg' /><img style='width: 120px; margin: 0px;                       float: left; border: 1px solid black;' src='http://image.tmdb.org/t/p/w185/scNoXmnYdZKh1ccQzXBWWGVloes.jpg' /><img style='width: 120px; margin: 0px;                       float: left; border: 1px solid black;' src='http://image.tmdb.org/t/p/w185/7HI8FD4glaWdYqCF0kReT1N56Bi.jpg' /><img style='width: 120px; margin: 0px;                       float: left; border: 1px solid black;' src='http://image.tmdb.org/t/p/w185/9gJa2B6M8jt85aDkb0MF98MLZ9T.jpg' /><img style='width: 120px; margin: 0px;                       float: left; border: 1px solid black;' src='http://image.tmdb.org/t/p/w185/oPXf92g2gjlPqduj6vRH9yvh0Yb.jpg' />"
      ],
      "text/plain": [
       "<IPython.core.display.HTML object>"
      ]
     },
     "metadata": {},
     "output_type": "display_data"
    },
    {
     "data": {
      "text/html": [
       "<font size=5>SGD Recs</font>"
      ],
      "text/plain": [
       "<IPython.core.display.HTML object>"
      ]
     },
     "metadata": {},
     "output_type": "display_data"
    },
    {
     "data": {
      "text/html": [
       "<img style='width: 120px; margin: 0px;                       float: left; border: 1px solid black;' src='http://image.tmdb.org/t/p/w185/7HI8FD4glaWdYqCF0kReT1N56Bi.jpg' /><img style='width: 120px; margin: 0px;                       float: left; border: 1px solid black;' src='http://image.tmdb.org/t/p/w185/vGV35HBCMhQl2phhGaQ29P08ZgM.jpg' /><img style='width: 120px; margin: 0px;                       float: left; border: 1px solid black;' src='http://image.tmdb.org/t/p/w185/979h64nflLlbtvrQ03tUWpexu0M.jpg' /><img style='width: 120px; margin: 0px;                       float: left; border: 1px solid black;' src='http://image.tmdb.org/t/p/w185/iuI31j8DM4TOxJTZeumG0S4npPU.jpg' /><img style='width: 120px; margin: 0px;                       float: left; border: 1px solid black;' src='http://image.tmdb.org/t/p/w185/teFvLNdppclC01dZodBTyaP3lGK.jpg' />"
      ],
      "text/plain": [
       "<IPython.core.display.HTML object>"
      ]
     },
     "metadata": {},
     "output_type": "display_data"
    }
   ],
   "source": [
    "idx = 500 # Dumbo\n",
    "compare_recs(als_sim, sgd_sim, idx_to_movie, idx, base_url, api_key)"
   ]
  },
  {
   "cell_type": "markdown",
   "metadata": {
    "collapsed": true
   },
   "source": [
    "So how do we think we did? I find it very interesting that the best test MSE for our ALS model was 8.07 compared to 0.88 for SGD. That's a giant difference, and yet I think the ALS recommendations might actually beat out the SGD ones; particularly, the GoldenEye and Dumbo recommendations.\n",
    "\n",
    "I have found similar behavior in some of my own work, as well. I have a vague hunch that SGD tends to overfit more than ALS and is more susceptible to popularity bias. Unfortunately, I have zero math to back this up, so it'll remain purely anecdotal for now. An alternative explanation could be that the SGD movie-to-movie recommendations are actually better than the ALS ones even if they seem like less similar movies. In a recent Netflix [paper](http://dl.acm.org/citation.cfm?id=2843948), they show a similar comparison of two different models' movie-to-movie recommendations. It turns out that the model with movies that look less similar by eye (but are generally more popular movies) performs better on A/B tests. And really, A/B tests are a much better way of truly benchmarking recommendation systems compared to this offline data modeling.\n",
    "\n",
    "And on a final note, maybe we would want to just combine both models into an ensemble which seems to be what [everbody does](https://medium.com/@xamat/10-more-lessons-learned-from-building-real-life-ml-systems-part-i-b309cafc7b5e) nowadays.\n",
    "\n",
    "*[Link](https://github.com/EthanRosenthal/DataPiques_source/blob/master/content/notebooks/2016-01-09-explicit-matrix-factorization-als-sgd.ipynb) to Jupyter notebook of this post.*"
   ]
  }
 ],
 "metadata": {
  "kernelspec": {
   "display_name": "Python 2",
   "language": "python",
   "name": "python2"
  },
  "language_info": {
   "codemirror_mode": {
    "name": "ipython",
    "version": 2
   },
   "file_extension": ".py",
   "mimetype": "text/x-python",
   "name": "python",
   "nbconvert_exporter": "python",
   "pygments_lexer": "ipython2",
   "version": "2.7.11"
  }
 },
 "nbformat": 4,
 "nbformat_minor": 0
}

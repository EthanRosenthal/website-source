{
 "cells": [
  {
   "cell_type": "markdown",
   "metadata": {},
   "source": [
    "I'm super excited about the [latest release](http://scikit-learn.org/stable/whats_new.html#version-0-20) of scikit-learn (`0.20`) because it contains a new [ColumnTransformer](http://scikit-learn.org/stable/modules/generated/sklearn.compose.ColumnTransformer.html#sklearn.compose.ColumnTransformer) class. This class solves an extremely common real world use-case: \n",
    "\n",
    ">You have heterogeneous data (e.g. a mix of categorical, real, and integer valued data), and you would like to generate features out of your data using different logic for the different types of data.\n",
    "\n",
    "Often, people employ a bunch of `apply()` functions on their pandas dataframes in order to handle this scenario. While this may work, it's clunky, a pain to test, and difficult to serialize. Beside, we have scikit-learn [Pipelines](http://scikit-learn.org/stable/modules/generated/sklearn.pipeline.Pipeline.html) now. And if you haven't realized, _everything_ in data science is a pipeline.\n",
    "\n",
    "This post is quick. I'll walk through a simple case study around using the `ColumnTransformer`. Then, I'll demonstrate how the `ColumnTransformer` allows us to dynamically generate Pipelines from configuration files."
   ]
  },
  {
   "cell_type": "markdown",
   "metadata": {},
   "source": [
    "## Case Study\n",
    "\n",
    "We start by grabbing a generic dataset of bank marketing data from the UCI repository. The actual data isn't really important for this post- all I know is that this is a classification problem with heterogenous data."
   ]
  },
  {
   "cell_type": "code",
   "execution_count": 35,
   "metadata": {},
   "outputs": [],
   "source": [
    "import io\n",
    "import warnings\n",
    "import zipfile\n",
    "\n",
    "import altair as alt\n",
    "import numpy as np\n",
    "import pandas as pd\n",
    "import requests\n",
    "import yaml"
   ]
  },
  {
   "cell_type": "code",
   "execution_count": 36,
   "metadata": {},
   "outputs": [],
   "source": [
    "def download_extract_zip(url):\n",
    "    \"\"\"\n",
    "    Taken from here https://techoverflow.net/2018/01/16/downloading-reading-a-zip-file-in-memory-using-python/\n",
    "    \n",
    "    Download a ZIP file and extract its contents in memory\n",
    "    yields (filename, file-like object) pairs\n",
    "    \"\"\"\n",
    "    response = requests.get(url)\n",
    "    with zipfile.ZipFile(io.BytesIO(response.content)) as thezip:\n",
    "        for zipinfo in thezip.infolist():\n",
    "            with thezip.open(zipinfo) as thefile:\n",
    "                yield zipinfo.filename, thefile"
   ]
  },
  {
   "cell_type": "code",
   "execution_count": 37,
   "metadata": {},
   "outputs": [],
   "source": [
    "url = ('https://archive.ics.uci.edu/ml/'\n",
    "       'machine-learning-databases/00222/bank.zip')\n",
    "files = download_extract_zip(url)\n",
    "\n",
    "for filename, file_ in files:\n",
    "    if filename == 'bank-full.csv':\n",
    "        df = pd.read_csv(file_, sep=';')"
   ]
  },
  {
   "cell_type": "code",
   "execution_count": 38,
   "metadata": {},
   "outputs": [
    {
     "data": {
      "text/html": [
       "<div>\n",
       "<style scoped>\n",
       "    .dataframe tbody tr th:only-of-type {\n",
       "        vertical-align: middle;\n",
       "    }\n",
       "\n",
       "    .dataframe tbody tr th {\n",
       "        vertical-align: top;\n",
       "    }\n",
       "\n",
       "    .dataframe thead th {\n",
       "        text-align: right;\n",
       "    }\n",
       "</style>\n",
       "<table border=\"1\" class=\"dataframe\">\n",
       "  <thead>\n",
       "    <tr style=\"text-align: right;\">\n",
       "      <th></th>\n",
       "      <th>age</th>\n",
       "      <th>job</th>\n",
       "      <th>marital</th>\n",
       "      <th>education</th>\n",
       "      <th>default</th>\n",
       "      <th>balance</th>\n",
       "      <th>housing</th>\n",
       "      <th>loan</th>\n",
       "      <th>contact</th>\n",
       "      <th>day</th>\n",
       "      <th>month</th>\n",
       "      <th>duration</th>\n",
       "      <th>campaign</th>\n",
       "      <th>pdays</th>\n",
       "      <th>previous</th>\n",
       "      <th>poutcome</th>\n",
       "      <th>y</th>\n",
       "    </tr>\n",
       "  </thead>\n",
       "  <tbody>\n",
       "    <tr>\n",
       "      <th>0</th>\n",
       "      <td>58</td>\n",
       "      <td>management</td>\n",
       "      <td>married</td>\n",
       "      <td>tertiary</td>\n",
       "      <td>no</td>\n",
       "      <td>2143</td>\n",
       "      <td>yes</td>\n",
       "      <td>no</td>\n",
       "      <td>unknown</td>\n",
       "      <td>5</td>\n",
       "      <td>may</td>\n",
       "      <td>261</td>\n",
       "      <td>1</td>\n",
       "      <td>-1</td>\n",
       "      <td>0</td>\n",
       "      <td>unknown</td>\n",
       "      <td>no</td>\n",
       "    </tr>\n",
       "    <tr>\n",
       "      <th>1</th>\n",
       "      <td>44</td>\n",
       "      <td>technician</td>\n",
       "      <td>single</td>\n",
       "      <td>secondary</td>\n",
       "      <td>no</td>\n",
       "      <td>29</td>\n",
       "      <td>yes</td>\n",
       "      <td>no</td>\n",
       "      <td>unknown</td>\n",
       "      <td>5</td>\n",
       "      <td>may</td>\n",
       "      <td>151</td>\n",
       "      <td>1</td>\n",
       "      <td>-1</td>\n",
       "      <td>0</td>\n",
       "      <td>unknown</td>\n",
       "      <td>no</td>\n",
       "    </tr>\n",
       "    <tr>\n",
       "      <th>2</th>\n",
       "      <td>33</td>\n",
       "      <td>entrepreneur</td>\n",
       "      <td>married</td>\n",
       "      <td>secondary</td>\n",
       "      <td>no</td>\n",
       "      <td>2</td>\n",
       "      <td>yes</td>\n",
       "      <td>yes</td>\n",
       "      <td>unknown</td>\n",
       "      <td>5</td>\n",
       "      <td>may</td>\n",
       "      <td>76</td>\n",
       "      <td>1</td>\n",
       "      <td>-1</td>\n",
       "      <td>0</td>\n",
       "      <td>unknown</td>\n",
       "      <td>no</td>\n",
       "    </tr>\n",
       "    <tr>\n",
       "      <th>3</th>\n",
       "      <td>47</td>\n",
       "      <td>blue-collar</td>\n",
       "      <td>married</td>\n",
       "      <td>unknown</td>\n",
       "      <td>no</td>\n",
       "      <td>1506</td>\n",
       "      <td>yes</td>\n",
       "      <td>no</td>\n",
       "      <td>unknown</td>\n",
       "      <td>5</td>\n",
       "      <td>may</td>\n",
       "      <td>92</td>\n",
       "      <td>1</td>\n",
       "      <td>-1</td>\n",
       "      <td>0</td>\n",
       "      <td>unknown</td>\n",
       "      <td>no</td>\n",
       "    </tr>\n",
       "    <tr>\n",
       "      <th>4</th>\n",
       "      <td>33</td>\n",
       "      <td>unknown</td>\n",
       "      <td>single</td>\n",
       "      <td>unknown</td>\n",
       "      <td>no</td>\n",
       "      <td>1</td>\n",
       "      <td>no</td>\n",
       "      <td>no</td>\n",
       "      <td>unknown</td>\n",
       "      <td>5</td>\n",
       "      <td>may</td>\n",
       "      <td>198</td>\n",
       "      <td>1</td>\n",
       "      <td>-1</td>\n",
       "      <td>0</td>\n",
       "      <td>unknown</td>\n",
       "      <td>no</td>\n",
       "    </tr>\n",
       "  </tbody>\n",
       "</table>\n",
       "</div>"
      ],
      "text/plain": [
       "   age           job  marital  education default  balance housing loan  \\\n",
       "0   58    management  married   tertiary      no     2143     yes   no   \n",
       "1   44    technician   single  secondary      no       29     yes   no   \n",
       "2   33  entrepreneur  married  secondary      no        2     yes  yes   \n",
       "3   47   blue-collar  married    unknown      no     1506     yes   no   \n",
       "4   33       unknown   single    unknown      no        1      no   no   \n",
       "\n",
       "   contact  day month  duration  campaign  pdays  previous poutcome   y  \n",
       "0  unknown    5   may       261         1     -1         0  unknown  no  \n",
       "1  unknown    5   may       151         1     -1         0  unknown  no  \n",
       "2  unknown    5   may        76         1     -1         0  unknown  no  \n",
       "3  unknown    5   may        92         1     -1         0  unknown  no  \n",
       "4  unknown    5   may       198         1     -1         0  unknown  no  "
      ]
     },
     "execution_count": 38,
     "metadata": {},
     "output_type": "execute_result"
    }
   ],
   "source": [
    "df.head()"
   ]
  },
  {
   "cell_type": "markdown",
   "metadata": {},
   "source": [
    "As you can see, we have categorical data (like `job`) and real-valued data (like `balance`). As well, the real-valued columns have different distributions."
   ]
  },
  {
   "cell_type": "code",
   "execution_count": 69,
   "metadata": {},
   "outputs": [],
   "source": [
    "from sklearn.compose import make_column_transformer\n",
    "from sklearn.linear_model import LogisticRegression\n",
    "from sklearn.preprocessing import (OneHotEncoder, StandardScaler, \n",
    "                                   PowerTransformer)\n",
    "from sklearn.pipeline import Pipeline, make_pipeline\n",
    "from sklearn.model_selection import GridSearchCV"
   ]
  },
  {
   "cell_type": "code",
   "execution_count": 40,
   "metadata": {},
   "outputs": [],
   "source": [
    "y = df.pop('y')"
   ]
  },
  {
   "cell_type": "code",
   "execution_count": 144,
   "metadata": {},
   "outputs": [],
   "source": [
    "one_hot_cols = ['job', 'marital', 'education', 'housing', 'loan',\n",
    "                'contact', 'month', 'day']\n",
    "std_cols = ['age']\n",
    "pow_cols = ['balance', 'duration']\n",
    "column_transformer = make_column_transformer(\n",
    "    (one_hot_cols, OneHotEncoder()),\n",
    "    (std_cols, StandardScaler()),\n",
    "    (pow_cols, PowerTransformer())\n",
    ")\n",
    "\n",
    "pipeline = Pipeline([\n",
    "    ('col_trans', column_transformer),\n",
    "    ('log_reg', LogisticRegression())\n",
    "])\n"
   ]
  },
  {
   "cell_type": "code",
   "execution_count": 145,
   "metadata": {},
   "outputs": [],
   "source": [
    "param_grid = {'log_reg__C': [1, 0.1, 0.01, 0.001, 0.0001],\n",
    "              'log_reg__penalty': ['l1', 'l2']}\n",
    "\n",
    "search = GridSearchCV(pipeline, param_grid, cv=5,\n",
    "                      n_jobs=-1, scoring='roc_auc',\n",
    "                      return_train_score=False)\n",
    "\n",
    "with warnings.catch_warnings():\n",
    "    warnings.simplefilter(action='ignore')\n",
    "    search.fit(df, y)"
   ]
  },
  {
   "cell_type": "code",
   "execution_count": 147,
   "metadata": {},
   "outputs": [
    {
     "data": {
      "application/vnd.vegalite.v2+json": {
       "$schema": "https://vega.github.io/schema/vega-lite/v2.6.0.json",
       "config": {
        "view": {
         "height": 300,
         "width": 400
        }
       },
       "data": {
        "name": "data-fbad703e7cfa574f5218110417c54f49"
       },
       "datasets": {
        "data-fbad703e7cfa574f5218110417c54f49": [
         {
          "mean_fit_time": 6.349855422973633,
          "mean_score_time": 0.12497520446777344,
          "mean_test_score": 0.6250359804699982,
          "param_log_reg__C": 1,
          "param_log_reg__penalty": "l1",
          "params": {
           "log_reg__C": 1,
           "log_reg__penalty": "l1"
          },
          "rank_test_score": 9,
          "split0_test_score": 0.9769274383798545,
          "split1_test_score": 0.6258582668590564,
          "split2_test_score": 0.4828983344761356,
          "split3_test_score": 0.46355139390311817,
          "split4_test_score": 0.5759000261639646,
          "std_fit_time": 0.9834699307942824,
          "std_score_time": 0.0025553179573775298,
          "std_test_score": 0.18575931198348394
         },
         {
          "mean_fit_time": 1.1348156452178955,
          "mean_score_time": 0.1626368522644043,
          "mean_test_score": 0.6279635304805279,
          "param_log_reg__C": 1,
          "param_log_reg__penalty": "l2",
          "params": {
           "log_reg__C": 1,
           "log_reg__penalty": "l2"
          },
          "rank_test_score": 8,
          "split0_test_score": 0.976732247254718,
          "split1_test_score": 0.6262115994900647,
          "split2_test_score": 0.4841224272742082,
          "split3_test_score": 0.4728524866367897,
          "split4_test_score": 0.5798551928834016,
          "std_fit_time": 0.1622113808225391,
          "std_score_time": 0.01071744469065172,
          "std_test_score": 0.18369336590002602
         },
         {
          "mean_fit_time": 1.8823778629302979,
          "mean_score_time": 0.15755419731140136,
          "mean_test_score": 0.6423230660178247,
          "param_log_reg__C": 0.1,
          "param_log_reg__penalty": "l1",
          "params": {
           "log_reg__C": 0.1,
           "log_reg__penalty": "l1"
          },
          "rank_test_score": 7,
          "split0_test_score": 0.9773379434265335,
          "split1_test_score": 0.6458154644874072,
          "split2_test_score": 0.5026841253395259,
          "split3_test_score": 0.48955768341976963,
          "split4_test_score": 0.5961775727424575,
          "std_fit_time": 0.5902093472833625,
          "std_score_time": 0.008063678728236202,
          "std_test_score": 0.1773254455771446
         },
         {
          "mean_fit_time": 1.0596468925476075,
          "mean_score_time": 0.1560283660888672,
          "mean_test_score": 0.6496596401464324,
          "param_log_reg__C": 0.1,
          "param_log_reg__penalty": "l2",
          "params": {
           "log_reg__C": 0.1,
           "log_reg__penalty": "l2"
          },
          "rank_test_score": 6,
          "split0_test_score": 0.9755899826352104,
          "split1_test_score": 0.6431913334666962,
          "split2_test_score": 0.507624890612984,
          "split3_test_score": 0.5070701421747086,
          "split4_test_score": 0.6147826637191128,
          "std_fit_time": 0.09963363761817483,
          "std_score_time": 0.015313410119449804,
          "std_test_score": 0.172048138981261
         },
         {
          "mean_fit_time": 0.9238977432250977,
          "mean_score_time": 0.1659289836883545,
          "mean_test_score": 0.7145919442447183,
          "param_log_reg__C": 0.01,
          "param_log_reg__penalty": "l1",
          "params": {
           "log_reg__C": 0.01,
           "log_reg__penalty": "l1"
          },
          "rank_test_score": 5,
          "split0_test_score": 0.9696343451154278,
          "split1_test_score": 0.7420435054858294,
          "split2_test_score": 0.5854024921298173,
          "split3_test_score": 0.5659700781525243,
          "split4_test_score": 0.7098775365300136,
          "std_fit_time": 0.08380877072781245,
          "std_score_time": 0.010814845131188387,
          "std_test_score": 0.14464147030270266
         },
         {
          "mean_fit_time": 0.856987714767456,
          "mean_score_time": 0.1587059497833252,
          "mean_test_score": 0.7155484287643882,
          "param_log_reg__C": 0.01,
          "param_log_reg__penalty": "l2",
          "params": {
           "log_reg__C": 0.01,
           "log_reg__penalty": "l2"
          },
          "rank_test_score": 4,
          "split0_test_score": 0.9656631704294323,
          "split1_test_score": 0.7048132545308844,
          "split2_test_score": 0.5955618704327369,
          "split3_test_score": 0.5881462831144331,
          "split4_test_score": 0.7235319740711318,
          "std_fit_time": 0.012181805146629301,
          "std_score_time": 0.012327267042356885,
          "std_test_score": 0.13665233613139485
         },
         {
          "mean_fit_time": 0.6684288501739502,
          "mean_score_time": 0.17196927070617676,
          "mean_test_score": 0.8097844778574177,
          "param_log_reg__C": 0.001,
          "param_log_reg__penalty": "l1",
          "params": {
           "log_reg__C": 0.001,
           "log_reg__penalty": "l1"
          },
          "rank_test_score": 1,
          "split0_test_score": 0.9630837830383765,
          "split1_test_score": 0.7813016016562245,
          "split2_test_score": 0.8020093234673505,
          "split3_test_score": 0.7137799938250793,
          "split4_test_score": 0.7887315548789158,
          "std_fit_time": 0.04559626475524465,
          "std_score_time": 0.009851884788259792,
          "std_test_score": 0.08250379107293357
         },
         {
          "mean_fit_time": 0.6919020652770996,
          "mean_score_time": 0.15671439170837403,
          "mean_test_score": 0.779147788930884,
          "param_log_reg__C": 0.001,
          "param_log_reg__penalty": "l2",
          "params": {
           "log_reg__C": 0.001,
           "log_reg__penalty": "l2"
          },
          "rank_test_score": 2,
          "split0_test_score": 0.9497396465253256,
          "split1_test_score": 0.7579253633644368,
          "split2_test_score": 0.6978442944490113,
          "split3_test_score": 0.6805982001810805,
          "split4_test_score": 0.8096182905072207,
          "std_fit_time": 0.05312308091272762,
          "std_score_time": 0.016591880353069476,
          "std_test_score": 0.09675209009706208
         },
         {
          "mean_fit_time": 0.5751158714294433,
          "mean_score_time": 0.154646635055542,
          "mean_test_score": 0.5,
          "param_log_reg__C": 0.0001,
          "param_log_reg__penalty": "l1",
          "params": {
           "log_reg__C": 0.0001,
           "log_reg__penalty": "l1"
          },
          "rank_test_score": 10,
          "split0_test_score": 0.5,
          "split1_test_score": 0.5,
          "split2_test_score": 0.5,
          "split3_test_score": 0.5,
          "split4_test_score": 0.5,
          "std_fit_time": 0.012666050111411515,
          "std_score_time": 0.014702237440478242,
          "std_test_score": 0
         },
         {
          "mean_fit_time": 0.47557907104492186,
          "mean_score_time": 0.13212275505065918,
          "mean_test_score": 0.7593170043187445,
          "param_log_reg__C": 0.0001,
          "param_log_reg__penalty": "l2",
          "params": {
           "log_reg__C": 0.0001,
           "log_reg__penalty": "l2"
          },
          "rank_test_score": 3,
          "split0_test_score": 0.8972345359268855,
          "split1_test_score": 0.7190804355520097,
          "split2_test_score": 0.6786160932450913,
          "split3_test_score": 0.6923370606998497,
          "split4_test_score": 0.8093116222985233,
          "std_fit_time": 0.039940850628252596,
          "std_score_time": 0.006044661608851168,
          "std_test_score": 0.08263157973918567
         }
        ]
       },
       "encoding": {
        "color": {
         "field": "param_log_reg__penalty",
         "title": "Penalty",
         "type": "nominal"
        },
        "x": {
         "field": "param_log_reg__C",
         "scale": {
          "base": 10,
          "type": "log"
         },
         "title": "C",
         "type": "quantitative"
        },
        "y": {
         "field": "mean_test_score",
         "scale": {
          "domain": [
           0.5,
           1
          ]
         },
         "title": "AUC",
         "type": "quantitative"
        }
       },
       "mark": {
        "size": 150,
        "type": "circle"
       }
      },
      "image/png": "[encoded data removed]",
      "text/plain": [
       "<VegaLite 2 object>\n",
       "\n",
       "If you see this message, it means the renderer has not been properly enabled\n",
       "for the frontend that you are using. For more information, see\n",
       "https://altair-viz.github.io/user_guide/troubleshooting.html\n"
      ]
     },
     "execution_count": 147,
     "metadata": {},
     "output_type": "execute_result"
    }
   ],
   "source": [
    "results = pd.DataFrame(search.cv_results_)\n",
    "\n",
    "chart = alt.Chart(results).mark_circle(size=150).encode(\n",
    "    alt.X('param_log_reg__C', title='C', scale=alt.Scale(type='log', base=10)),\n",
    "    alt.Y('mean_test_score', title='AUC', scale=alt.Scale(domain=(0.5, 1.0))),\n",
    "    alt.Color('param_log_reg__penalty', title='Penalty'),\n",
    ")\n",
    "chart"
   ]
  },
  {
   "cell_type": "code",
   "execution_count": 110,
   "metadata": {},
   "outputs": [],
   "source": [
    "config_file = \"\"\"\n",
    "pipeline:\n",
    "  - path: column_transformer\n",
    "    args:\n",
    "      - path: sklearn.preprocessing.OneHotEncoder\n",
    "        columns: [job, education, housing, loan, contact, month, day]\n",
    "      - path: sklearn.preprocessing.StandardScaler\n",
    "        columns: [age]\n",
    "      - path: sklearn.preprocessing.PowerTransformer\n",
    "        columns: [balance, duration]\n",
    "  - path: sklearn.linear_model.LogisticRegression\n",
    "    kwargs:\n",
    "      C: 0.001\n",
    "      penalty: l2\n",
    "\"\"\"\n",
    "config = yaml.load(io.StringIO(config_file))"
   ]
  },
  {
   "cell_type": "code",
   "execution_count": 111,
   "metadata": {},
   "outputs": [],
   "source": [
    "import sklearn.preprocessing\n",
    "import importlib\n",
    "\n",
    "\n",
    "class PipelineConstructor:\n",
    "    \n",
    "    def __init__(self):\n",
    "        pass\n",
    "    \n",
    "    def _instantiate(self, path, *args, **kwargs):\n",
    "        \"\"\"\n",
    "        Import module and instantiate class, given a full path to the class.\n",
    "        \"\"\"\n",
    "        module, klass = path.rsplit('.', maxsplit=1)\n",
    "        module = importlib.import_module(module)\n",
    "        return getattr(module, klass)(*args, **kwargs)\n",
    "    \n",
    "    def _column_transformer(self, transformers):\n",
    "        \"\"\"Create an sklearn ColumnTransformer\"\"\"\n",
    "        transforms = []\n",
    "        for transformer in transformers:\n",
    "            transforms.append((transformer['columns'], \n",
    "                               self._instantiate(transformer['path'])))\n",
    "        return make_column_transformer(*transforms)\n",
    "    \n",
    "    def construct(self, config):\n",
    "        \"\"\"Create an sklearn Pipeline from a configuration file.\"\"\"\n",
    "        steps = []\n",
    "        for step in config['pipeline']:\n",
    "            if step['path'] == 'column_transformer':\n",
    "                step = self._column_transformer(step['args'])\n",
    "            else:\n",
    "                step = self._instantiate(step['path'], \n",
    "                                         *step.get('args', tuple()),\n",
    "                                         **step.get('kwargs', {}))\n",
    "            steps.append(step)\n",
    "        return make_pipeline(*steps)\n",
    "    \n",
    "pipeline = PipelineConstructor().construct(config)    "
   ]
  },
  {
   "cell_type": "code",
   "execution_count": 109,
   "metadata": {},
   "outputs": [
    {
     "name": "stderr",
     "output_type": "stream",
     "text": [
      "/home/er/anaconda3/lib/python3.6/site-packages/sklearn/preprocessing/data.py:617: DataConversionWarning: Data with input dtype int64 were all converted to float64 by StandardScaler.\n",
      "  return self.partial_fit(X, y)\n",
      "/home/er/anaconda3/lib/python3.6/site-packages/sklearn/base.py:465: DataConversionWarning: Data with input dtype int64 were all converted to float64 by StandardScaler.\n",
      "  return self.fit(X, y, **fit_params).transform(X)\n",
      "/home/er/anaconda3/lib/python3.6/site-packages/sklearn/linear_model/logistic.py:432: FutureWarning: Default solver will be changed to 'lbfgs' in 0.22. Specify a solver to silence this warning.\n",
      "  FutureWarning)\n"
     ]
    },
    {
     "data": {
      "text/plain": [
       "Pipeline(memory=None,\n",
       "     steps=[('columntransformer', ColumnTransformer(n_jobs=None, remainder='drop', sparse_threshold=0.3,\n",
       "         transformer_weights=None,\n",
       "         transformers=[('onehotencoder', OneHotEncoder(categorical_features=None, categories=None,\n",
       "       dtype=<class 'numpy.float64'>, handle_unknown='error',\n",
       "    ...penalty='l2', random_state=None, solver='warn',\n",
       "          tol=0.0001, verbose=0, warm_start=False))])"
      ]
     },
     "execution_count": 109,
     "metadata": {},
     "output_type": "execute_result"
    }
   ],
   "source": [
    "pipeline.fit(df, y)"
   ]
  },
  {
   "cell_type": "code",
   "execution_count": null,
   "metadata": {},
   "outputs": [],
   "source": []
  }
 ],
 "metadata": {
  "kernelspec": {
   "display_name": "Python 3",
   "language": "python",
   "name": "python3"
  },
  "language_info": {
   "codemirror_mode": {
    "name": "ipython",
    "version": 3
   },
   "file_extension": ".py",
   "mimetype": "text/x-python",
   "name": "python",
   "nbconvert_exporter": "python",
   "pygments_lexer": "ipython3",
   "version": "3.6.3"
  }
 },
 "nbformat": 4,
 "nbformat_minor": 2
}

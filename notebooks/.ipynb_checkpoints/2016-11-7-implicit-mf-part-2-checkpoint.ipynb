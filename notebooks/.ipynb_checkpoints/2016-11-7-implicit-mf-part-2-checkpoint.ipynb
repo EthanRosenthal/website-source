{
 "cells": [
  {
   "cell_type": "markdown",
   "metadata": {},
   "source": [
    "<!-- PELICAN_BEGIN_SUMMARY -->\n",
    "\n",
    "In this post we're going to do a bunch of cool things following up on the last [post]({filename}/2016-10-19-implicit-mf-part-1.md) introducing implicit matrix factorization. We're going to explore Learning to Rank, a different method for implicit matrix factorization, and then use the library [LightFM](http://lyst.github.io/lightfm/docs/home.html) to incorporate side information into our recommender. Next, we'll use [scikit-optimize](https://scikit-optimize.github.io/) to be smarter than grid search for cross validating hyperparameters. Lastly, we'll see that we can move beyond simple user-to-item and item-to-item recommendations now that we have side information embedded in the same space as our users and items. Let's go!\n",
    "\n",
    "<!-- PELICAN_END_SUMMARY -->\n",
    "\n",
    "## History lesson\n",
    "\n",
    "When I started working at Birchbox, I was tasked with finding a way to incorporate our rich customer information into the implicit feedback matrix factorization recommendation system. I had no idea what I was doing, so I did a lot of google searching. This proved a difficult problem because there are commonly two paradigms of recommender systems - content-based approaches, like when one has demographic customer data and uses this data to find other similar customers, and \"ratings-based\" approaches, like when one has data on what each user rated each item they interacted with. The desire was for me to marry these two approaches.\n",
    "\n",
    "Reading through the classic survey article, [Matrix Factorization Techniques for Recommender Systems](http://www.columbia.edu/~jwp2128/Teaching/W4721/papers/ieeecomputer.pdf) (pdf link), revealed a section titled \"Additional Input Sources\". This contains one such approach to incorporating so-called \"side information\" into a recommender system. The idea was relatively simple (well, simple relative to the initial hurdle of wrapping one's head around matrix factorization). Let's say that in a regular matrix factorization model, a user $u$ is represented by a single vector $\\textbf{x}_{u}$ containing that user's latent factors (see previous posts for more background on this). Now, let's say that we have some demographic information about that user like \n",
    "\n",
    "| Feature        | Value           |\n",
    "|:-------------|:-------------|\n",
    "| gender      | Female |\n",
    "| age_bucket      | 25-34      |\n",
    "| income_bucket | $65-79K      |\n",
    "\n",
    "We can one-hot-encode each of these features into an \"attribute-space\" $A$ and assume that each each attribute $a$ has its own latent vector $\\textbf{s}_{a}$. Lastly, we make the assumption that our \"total\" user vector is the original user vector $\\textbf{x}_{u}$ plus each of the relevant attribute vectors. If $N(u)$ represents the set of attributes that pertain to user $u$, then the total user vector is\n",
    "\n",
    "$$\\textbf{x}_{u} + \\sum\\limits_{a \\in N(u)}\\textbf{s}_{a}$$\n",
    "\n",
    "One can make the same set of assumptions for side information about the items, and now you can not only achieve better results with your recommendations, but you can also learn vectors and consequently similarities between the side information vectors. For a general overview of this, see a [post](https://making.dia.com/embedding-everything-for-anything2anything-recommendations-fca7f58f53ff) I wrote for Dia&Co's [tech blog](https://making.dia.com/).\n",
    "\n",
    "Ok, the approach is clear, so presumably we just add this to last post's implicit feedback objective function and solve, right? Well, I ran the math, and unfortunately this is not scalable. With the extra set of side information vectors, last post's Alternating Least Squares (ALS) becomes a three-way alternating problem. There was a special trick in that ALS optimization that exploited the sparsity of the data to scale the computation. Alas, this trick cannot be used during the stage of ALS where one is solving for the side information vectors.\n",
    "\n",
    "So what to do now?\n",
    "\n",
    "## Learning to Rank - BPR\n",
    "\n",
    "It turns out that there is another method of optimizing implicit feedback matrix factorization problems which is neither ALS nor conventional stochastic gradient descent (SGD) on last post's objective function. This method of optimization typically goes by the name [Learning to Rank](https://en.wikipedia.org/wiki/Learning_to_rank) and originated in information retrieval theory.\n",
    "\n",
    "A classic method of using Learning to Rank with implicit feedback was in the paper [BPR: Bayesian Personalized Ranking from Implicit Feedback](https://arxiv.org/pdf/1205.2618.pdf) (pdf link) first-authored by Steffen Rendle who is kind of a badass in all things implicit and factorized. The idea is centered around sampling *positive* and *negative* items and running pairwise comparisons. Let's assume that for this example our dataset consists of the number of times users have clicked on various items on a website. BPR proceeds as follows (in simplified form):\n",
    "\n",
    "1. Randomly select a user $u$ and then select a random item $i$ which the user has clicked on. This is our *positive* item.\n",
    "2. Randomly select an item $j$ which the user has clicked on $fewer$ times than item $i$ (this includes items that they have never clicked). This is our *negative* item.\n",
    "3. Use whatever equation you want to predict the \"score\", $p_{ui}$, for user $u$ and positive item $i$. For matrix factorization, this may be $\\textbf{x}_{u} \\cdot \\textbf{y}_{i}$.\n",
    "4. Predict the score for user $u$ and negative item $j$, $p_{uj}$.\n",
    "5. Find the difference between the positive and negative scores $x_{uij} = p_{ui} - p_{uj}$.\n",
    "6. Pass this difference through a sigmoid and use it as a weighting for updating all of the model parameters via stochastic gradient descent (SGD).\n",
    "\n",
    "This method seemed kind of radical to me when I first read it. Notably, we do not care about the actual value of the score that we are predicting. All we care about is that we rank items which the user has clicked on more frequently higher than items which the user has clicked on fewer times. And thus, our model \"learns to rank\" :)\n",
    "\n",
    "Because this model employs a sampling-based approach, the authors show that it can be quite fast and scalable relative to other, slower methods. Additionally, the authors argue that BPR directly optimizes the area under the ROC curve (AUC) which could be a desirable characteristic. Most importantly for me, it allows one to easily add in side information without blowing up the computational speed.\n",
    "\n",
    "## Learning to Rank - WARP\n",
    "\n",
    "A close relative of BPR is Weighted Approximate-Rank Pairwise loss (WARP loss) first introduced in [WSABIE: Scaling Up To Large Vocabulary Image Annotation](http://www.thespermwhale.com/jaseweston/papers/wsabie-ijcai.pdf) by Weston et. al. WARP is quite similar to BPR: you sample a positive and negative item for a user, predict for both, and take the difference. In BPR you then make the SGD update with this difference as a weight. In WARP, you only run the SGD update if you predict *wrong*, i.e. you predict the negative item has a higher score than the positive item. If you do not predict wrong, then you keep drawing negative items until you either get the prediction wrong or reach some cutoff value. \n",
    "\n",
    "The authors of the WARP paper claim that this process shifts from optimizing AUC in BPR to optimizing the precision @ k. The seems likely more relevant for most recommender systems, and I usually have better luck optimizing WARP loss over BPR loss. WARP does introduce two hyperparameters, though. One is the margin which determines how wrong your prediction must be to implement the SGD update. In the paper, the margin is 1 meaning you must guess $p_{uj} \\gt p_{ui} + 1$ to implement the SGD update. The other hyperparameter is the cutoff which determines how many times you're willing to draw negative samples trying to get a wrong prediction before you give up and move on to the next user.\n",
    "\n",
    "This sampling approach causes WARP to run quickly when it starts training because you easily get predictions wrong with an untrained model. After training, though, WARP will run slower because it has to sample and predict many items until it gets a wrong prediction and can update. Sounds like a positive problem if it's hard to get your model to predict wrong, though.\n",
    "\n",
    "## LightFM\n",
    "\n",
    "Back to my Birchbox story. I originally implemented BPR with side information in pure numpy and scipy. This proved to be quite slow, and around that time the [LightFM](https://github.com/lyst/lightfm) package was open sourced by the people at Lyst. LightFM is written in Cython and is paralellized via HOGWILD SGD. This blew my code out of the water, and I happily switched over to LightFM.\n",
    "\n",
    "LightFM uses the same method as above to incorporate side information - it assumes that the total \"user vector\" is the sum of each of the user's relevant side information vectors (which it calls user \"features) and treats the items analogously. Above, we assumed that we had two types of latent vectors: $\\textbf{x}_{u}$ and $\\textbf{s}_{a}$. LightFM treats everything as side information, or features. If we want to have a specific user vector for user $u$, then we must one-hot-encode that as a single feature for that user.\n",
    "\n",
    "Let's go ahead and install LightFM, read in our good old Sketchfab \"likes\" data as well as the model tags, and see if we can get better results with LightFM than we did last post using classic ALS.\n",
    "\n",
    "### Installation\n",
    "\n",
    "LightFM is on pypi, so you can install simplest with pip:\n",
    "\n",
    "```bash\n",
    "pip install lightfm\n",
    "```\n",
    "\n",
    "If you are on a mac, then you will unfortunately not be able to run your code in parallel out of the box. If you would like to use parallelization, you must first make sure you have gcc which can be installed with ```brew```:\n",
    "\n",
    "```bash\n",
    "brew install gcc --without-multilib\n",
    "```\n",
    "Be careful, this takes like 30 minutes. The simplest way I've then found to building LightFM is to trick it. First clone the repository\n",
    "\n",
    "```bash\n",
    "git clone git@github.com:lyst/lightfm.git\n",
    "```\n",
    "\n",
    "Then, open ```setup.py``` go to where the variable ```use_openmp``` is defined, and hard set it to ```True```. Then, ```cd lightfm && pip install -e .```\n",
    "\n",
    "With all that done, let's write some code to train some models.\n",
    "\n",
    "### Data preprocessing\n",
    "\n",
    "I took a lot of the functions used last time for arranging the Sketchfab data into a matrix and placed them all in a ```helpers.py``` file in the rec-a-sketch repo."
   ]
  },
  {
   "cell_type": "code",
   "execution_count": 1,
   "metadata": {},
   "outputs": [],
   "source": [
    "%matplotlib inline\n",
    "import matplotlib.pyplot as plt\n",
    "import numpy as np\n",
    "import pandas as pd\n",
    "import scipy.sparse as sp\n",
    "from scipy.special import expit\n",
    "import pickle\n",
    "import csv\n",
    "import copy\n",
    "import itertools\n",
    "from lightfm import LightFM\n",
    "import lightfm.evaluation\n",
    "import sys\n",
    "sys.path.append('../')\n",
    "import helpers"
   ]
  },
  {
   "cell_type": "code",
   "execution_count": 2,
   "metadata": {},
   "outputs": [
    {
     "data": {
      "text/html": [
       "<div>\n",
       "<table border=\"1\" class=\"dataframe\">\n",
       "  <thead>\n",
       "    <tr style=\"text-align: right;\">\n",
       "      <th></th>\n",
       "      <th>modelname</th>\n",
       "      <th>mid</th>\n",
       "      <th>uid</th>\n",
       "    </tr>\n",
       "  </thead>\n",
       "  <tbody>\n",
       "    <tr>\n",
       "      <th>0</th>\n",
       "      <td>3D fanart Noel From Sora no Method</td>\n",
       "      <td>5dcebcfaedbd4e7b8a27bd1ae55f1ac3</td>\n",
       "      <td>7ac1b40648fff523d7220a5d07b04d9b</td>\n",
       "    </tr>\n",
       "    <tr>\n",
       "      <th>1</th>\n",
       "      <td>3D fanart Noel From Sora no Method</td>\n",
       "      <td>5dcebcfaedbd4e7b8a27bd1ae55f1ac3</td>\n",
       "      <td>2b4ad286afe3369d39f1bb7aa2528bc7</td>\n",
       "    </tr>\n",
       "    <tr>\n",
       "      <th>2</th>\n",
       "      <td>3D fanart Noel From Sora no Method</td>\n",
       "      <td>5dcebcfaedbd4e7b8a27bd1ae55f1ac3</td>\n",
       "      <td>1bf0993ebab175a896ac8003bed91b4b</td>\n",
       "    </tr>\n",
       "    <tr>\n",
       "      <th>3</th>\n",
       "      <td>3D fanart Noel From Sora no Method</td>\n",
       "      <td>5dcebcfaedbd4e7b8a27bd1ae55f1ac3</td>\n",
       "      <td>6484211de8b9a023a7d9ab1641d22e7c</td>\n",
       "    </tr>\n",
       "    <tr>\n",
       "      <th>4</th>\n",
       "      <td>3D fanart Noel From Sora no Method</td>\n",
       "      <td>5dcebcfaedbd4e7b8a27bd1ae55f1ac3</td>\n",
       "      <td>1109ee298494fbd192e27878432c718a</td>\n",
       "    </tr>\n",
       "  </tbody>\n",
       "</table>\n",
       "</div>"
      ],
      "text/plain": [
       "                            modelname                               mid  \\\n",
       "0  3D fanart Noel From Sora no Method  5dcebcfaedbd4e7b8a27bd1ae55f1ac3   \n",
       "1  3D fanart Noel From Sora no Method  5dcebcfaedbd4e7b8a27bd1ae55f1ac3   \n",
       "2  3D fanart Noel From Sora no Method  5dcebcfaedbd4e7b8a27bd1ae55f1ac3   \n",
       "3  3D fanart Noel From Sora no Method  5dcebcfaedbd4e7b8a27bd1ae55f1ac3   \n",
       "4  3D fanart Noel From Sora no Method  5dcebcfaedbd4e7b8a27bd1ae55f1ac3   \n",
       "\n",
       "                                uid  \n",
       "0  7ac1b40648fff523d7220a5d07b04d9b  \n",
       "1  2b4ad286afe3369d39f1bb7aa2528bc7  \n",
       "2  1bf0993ebab175a896ac8003bed91b4b  \n",
       "3  6484211de8b9a023a7d9ab1641d22e7c  \n",
       "4  1109ee298494fbd192e27878432c718a  "
      ]
     },
     "execution_count": 2,
     "metadata": {},
     "output_type": "execute_result"
    }
   ],
   "source": [
    "df = pd.read_csv('../data/model_likes_anon.psv',\n",
    "                 sep='|', quoting=csv.QUOTE_MINIMAL,\n",
    "                 quotechar='\\\\')\n",
    "df.drop_duplicates(inplace=True)\n",
    "df.head()"
   ]
  },
  {
   "cell_type": "code",
   "execution_count": 3,
   "metadata": {},
   "outputs": [
    {
     "name": "stdout",
     "output_type": "stream",
     "text": [
      "Starting interactions info\n",
      "Number of rows: 62583\n",
      "Number of cols: 28806\n",
      "Sparsity: 0.035%\n",
      "Ending interactions info\n",
      "Number of rows: 15274\n",
      "Number of columns: 25655\n",
      "Sparsity: 0.140%\n"
     ]
    }
   ],
   "source": [
    "# Threshold data to only include users and models with min 5 likes.\n",
    "df = helpers.threshold_interactions_df(df, 'uid', 'mid', 5, 5)"
   ]
  },
  {
   "cell_type": "code",
   "execution_count": 4,
   "metadata": {},
   "outputs": [
    {
     "data": {
      "text/plain": [
       "<15274x25655 sparse matrix of type '<class 'numpy.float64'>'\n",
       "\twith 547477 stored elements in Compressed Sparse Row format>"
      ]
     },
     "execution_count": 4,
     "metadata": {},
     "output_type": "execute_result"
    }
   ],
   "source": [
    "# Go from dataframe to likes matrix\n",
    "# Also, build index to ID mappers.\n",
    "likes, uid_to_idx, idx_to_uid,\\\n",
    "mid_to_idx, idx_to_mid = helpers.df_to_matrix(df, 'uid', 'mid')\n",
    "\n",
    "likes"
   ]
  },
  {
   "cell_type": "code",
   "execution_count": 5,
   "metadata": {
    "collapsed": true
   },
   "outputs": [],
   "source": [
    "train, test, user_index = helpers.train_test_split(likes, 5, fraction=0.2)"
   ]
  },
  {
   "cell_type": "markdown",
   "metadata": {},
   "source": [
    "The one odd thing that we must do which is different than last time is to copy the training data to only include users with data in the test set. This is due to using LightFM's built-in ```precision_at_k``` function as opposed to our hand-rolled one last time and is not particularly interesting."
   ]
  },
  {
   "cell_type": "code",
   "execution_count": 6,
   "metadata": {
    "collapsed": true
   },
   "outputs": [],
   "source": [
    "eval_train = train.copy()\n",
    "non_eval_users = list(set(range(train.shape[0])) - set(user_index))\n",
    "\n",
    "eval_train = eval_train.tolil()\n",
    "for u in non_eval_users:\n",
    "    eval_train[u, :] = 0.0\n",
    "eval_train = eval_train.tocsr()"
   ]
  },
  {
   "cell_type": "markdown",
   "metadata": {},
   "source": [
    "Now we want to one-hot-encode all of the side information that we have about the Sketchfab models. Recall that this information included categories and tags associated with each model. The simplest way I've found to go about encoding this information is to use scikit-learn's [DictVectorizer](http://scikit-learn.org/stable/modules/generated/sklearn.feature_extraction.DictVectorizer.html) class. The ```DictVectorizer``` takes in a list of dictionaries where the dictionaries contain features names as keys and weights as values. Here, we'll assume that each weight is 1, and we'll take the key to be the combination of the tag type and value."
   ]
  },
  {
   "cell_type": "code",
   "execution_count": 7,
   "metadata": {},
   "outputs": [
    {
     "data": {
      "text/html": [
       "<div>\n",
       "<table border=\"1\" class=\"dataframe\">\n",
       "  <thead>\n",
       "    <tr style=\"text-align: right;\">\n",
       "      <th></th>\n",
       "      <th>mid</th>\n",
       "      <th>type</th>\n",
       "      <th>value</th>\n",
       "    </tr>\n",
       "  </thead>\n",
       "  <tbody>\n",
       "    <tr>\n",
       "      <th>0</th>\n",
       "      <td>5dcebcfaedbd4e7b8a27bd1ae55f1ac3</td>\n",
       "      <td>category</td>\n",
       "      <td>Characters</td>\n",
       "    </tr>\n",
       "    <tr>\n",
       "      <th>1</th>\n",
       "      <td>5dcebcfaedbd4e7b8a27bd1ae55f1ac3</td>\n",
       "      <td>category</td>\n",
       "      <td>Gaming</td>\n",
       "    </tr>\n",
       "    <tr>\n",
       "      <th>2</th>\n",
       "      <td>5dcebcfaedbd4e7b8a27bd1ae55f1ac3</td>\n",
       "      <td>tag</td>\n",
       "      <td>3dsmax</td>\n",
       "    </tr>\n",
       "    <tr>\n",
       "      <th>3</th>\n",
       "      <td>5dcebcfaedbd4e7b8a27bd1ae55f1ac3</td>\n",
       "      <td>tag</td>\n",
       "      <td>noel</td>\n",
       "    </tr>\n",
       "    <tr>\n",
       "      <th>4</th>\n",
       "      <td>5dcebcfaedbd4e7b8a27bd1ae55f1ac3</td>\n",
       "      <td>tag</td>\n",
       "      <td>loli</td>\n",
       "    </tr>\n",
       "  </tbody>\n",
       "</table>\n",
       "</div>"
      ],
      "text/plain": [
       "                                mid      type       value\n",
       "0  5dcebcfaedbd4e7b8a27bd1ae55f1ac3  category  Characters\n",
       "1  5dcebcfaedbd4e7b8a27bd1ae55f1ac3  category      Gaming\n",
       "2  5dcebcfaedbd4e7b8a27bd1ae55f1ac3       tag      3dsmax\n",
       "3  5dcebcfaedbd4e7b8a27bd1ae55f1ac3       tag        noel\n",
       "4  5dcebcfaedbd4e7b8a27bd1ae55f1ac3       tag        loli"
      ]
     },
     "execution_count": 7,
     "metadata": {},
     "output_type": "execute_result"
    }
   ],
   "source": [
    "sideinfo = pd.read_csv('../data/model_feats.psv',\n",
    "                       sep='|', quoting=csv.QUOTE_MINIMAL,\n",
    "                       quotechar='\\\\')\n",
    "sideinfo.head()"
   ]
  },
  {
   "cell_type": "code",
   "execution_count": 8,
   "metadata": {},
   "outputs": [],
   "source": [
    "# There's probably a fancy pandas groupby way to do\n",
    "# this but I couldn't figure it out :(\n",
    "\n",
    "# Build list of dictionaries containing features \n",
    "# and weights in same order as idx_to_mid prescribes.\n",
    "feat_dlist = [{} for _ in idx_to_mid]\n",
    "for idx, row in sideinfo.iterrows():\n",
    "    feat_key = '{}_{}'.format(row.type, str(row.value).lower())\n",
    "    idx = mid_to_idx.get(row.mid)\n",
    "    if idx is not None:\n",
    "        feat_dlist[idx][feat_key] = 1"
   ]
  },
  {
   "cell_type": "code",
   "execution_count": 9,
   "metadata": {},
   "outputs": [
    {
     "data": {
      "text/plain": [
       "{'category_characters': 1,\n",
       " 'category_gaming': 1,\n",
       " 'tag_3d': 1,\n",
       " 'tag_3dcellshade': 1,\n",
       " 'tag_3dsmax': 1,\n",
       " 'tag_anime': 1,\n",
       " 'tag_girl': 1,\n",
       " 'tag_loli': 1,\n",
       " 'tag_noel': 1,\n",
       " 'tag_soranomethod': 1}"
      ]
     },
     "execution_count": 9,
     "metadata": {},
     "output_type": "execute_result"
    }
   ],
   "source": [
    "feat_dlist[0]"
   ]
  },
  {
   "cell_type": "code",
   "execution_count": 10,
   "metadata": {},
   "outputs": [],
   "source": [
    "from sklearn.feature_extraction import DictVectorizer"
   ]
  },
  {
   "cell_type": "code",
   "execution_count": 11,
   "metadata": {},
   "outputs": [],
   "source": [
    "dv = DictVectorizer()\n",
    "item_features = dv.fit_transform(feat_dlist)"
   ]
  },
  {
   "cell_type": "code",
   "execution_count": 12,
   "metadata": {},
   "outputs": [
    {
     "data": {
      "text/plain": [
       "<25655x20352 sparse matrix of type '<class 'numpy.float64'>'\n",
       "\twith 161510 stored elements in Compressed Sparse Row format>"
      ]
     },
     "execution_count": 12,
     "metadata": {},
     "output_type": "execute_result"
    }
   ],
   "source": [
    "item_features"
   ]
  },
  {
   "cell_type": "markdown",
   "metadata": {},
   "source": [
    "We are now left with an ```item_features``` matrix where each row is a unique item (in the same order as the columns of the ```likes``` matrix), and each column is a unique tag. It looks like there are 20352 unique tags!\n",
    "\n",
    "### Training\n",
    "\n",
    "Let's try a simple WARP run on LightFM using the default settings and ignoring the item features to start. I am only going to focus on WARP today, as I've never had much luck with BPR. I will create a small function to calculate the learning curve."
   ]
  },
  {
   "cell_type": "code",
   "execution_count": 13,
   "metadata": {
    "collapsed": true
   },
   "outputs": [],
   "source": [
    "def print_log(row, header=False, spacing=12):\n",
    "    top = ''\n",
    "    middle = ''\n",
    "    bottom = ''\n",
    "    for r in row:\n",
    "        top += '+{}'.format('-'*spacing)\n",
    "        if isinstance(r, str):\n",
    "            middle += '| {0:^{1}} '.format(r, spacing-2)\n",
    "        elif isinstance(r, int):\n",
    "            middle += '| {0:^{1}} '.format(r, spacing-2)\n",
    "        elif (isinstance(r, float)\n",
    "              or isinstance(r, np.float32)\n",
    "              or isinstance(r, np.float64)):\n",
    "            middle += '| {0:^{1}.5f} '.format(r, spacing-2)\n",
    "        bottom += '+{}'.format('='*spacing)\n",
    "    top += '+'\n",
    "    middle += '|'\n",
    "    bottom += '+'\n",
    "    if header:\n",
    "        print(top)\n",
    "        print(middle)\n",
    "        print(bottom)\n",
    "    else:\n",
    "        print(middle)\n",
    "        print(top)\n",
    "\n",
    "def patk_learning_curve(model, train, test, eval_train,\n",
    "                        iterarray, user_features=None,\n",
    "                        item_features=None, k=5,\n",
    "                        **fit_params):\n",
    "    old_epoch = 0\n",
    "    train_patk = []\n",
    "    test_patk = []\n",
    "    headers = ['Epoch', 'train p@5', 'test p@5']\n",
    "    print_log(headers, header=True)\n",
    "    for epoch in iterarray:\n",
    "        more = epoch - old_epoch\n",
    "        model.fit_partial(train, user_features=user_features,\n",
    "                          item_features=item_features,\n",
    "                          epochs=more, **fit_params)\n",
    "        this_test = lightfm.evaluation.precision_at_k(model, test, train_interactions=None, k=k)\n",
    "        this_train = lightfm.evaluation.precision_at_k(model, eval_train, train_interactions=None, k=k)\n",
    "\n",
    "        train_patk.append(np.mean(this_train))\n",
    "        test_patk.append(np.mean(this_test))\n",
    "        row = [epoch, train_patk[-1], test_patk[-1]]\n",
    "        print_log(row)\n",
    "    return model, train_patk, test_patk"
   ]
  },
  {
   "cell_type": "code",
   "execution_count": 14,
   "metadata": {},
   "outputs": [
    {
     "name": "stdout",
     "output_type": "stream",
     "text": [
      "+------------+------------+------------+\n",
      "|   Epoch    | train p@5  |  test p@5  |\n",
      "+============+============+============+\n",
      "|     10     |  0.14303   |  0.02541   |\n",
      "+------------+------------+------------+\n",
      "|     20     |  0.16267   |  0.02947   |\n",
      "+------------+------------+------------+\n",
      "|     30     |  0.16876   |  0.03183   |\n",
      "+------------+------------+------------+\n",
      "|     40     |  0.17282   |  0.03294   |\n",
      "+------------+------------+------------+\n",
      "|     50     |  0.17701   |  0.03333   |\n",
      "+------------+------------+------------+\n",
      "|     60     |  0.17872   |  0.03287   |\n",
      "+------------+------------+------------+\n",
      "|     70     |  0.17583   |  0.03333   |\n",
      "+------------+------------+------------+\n",
      "|     80     |  0.17793   |  0.03386   |\n",
      "+------------+------------+------------+\n",
      "|     90     |  0.17479   |  0.03392   |\n",
      "+------------+------------+------------+\n",
      "|    100     |  0.17656   |  0.03301   |\n",
      "+------------+------------+------------+\n"
     ]
    }
   ],
   "source": [
    "model = LightFM(loss='warp', random_state=2016)\n",
    "# Initialize model.\n",
    "model.fit(train, epochs=0);\n",
    "\n",
    "iterarray = range(10, 110, 10)\n",
    "\n",
    "model, train_patk, test_patk = patk_learning_curve(\n",
    "    model, train, test, eval_train, iterarray, k=5, **{'num_threads': 4}\n",
    ")"
   ]
  },
  {
   "cell_type": "code",
   "execution_count": 15,
   "metadata": {},
   "outputs": [
    {
     "data": {
      "image/png": "[encoded data removed]",
      "text/plain": [
       "<matplotlib.figure.Figure at 0x7f87f1bce278>"
      ]
     },
     "metadata": {},
     "output_type": "display_data"
    }
   ],
   "source": [
    "import seaborn as sns\n",
    "sns.set_style('white')\n",
    "\n",
    "def plot_patk(iterarray, patk,\n",
    "              title, k=5):\n",
    "    plt.plot(iterarray, patk);\n",
    "    plt.title(title, fontsize=20);\n",
    "    plt.xlabel('Epochs', fontsize=24);\n",
    "    plt.ylabel('p@{}'.format(k), fontsize=24);\n",
    "    plt.xticks(fontsize=14);\n",
    "    plt.yticks(fontsize=14);\n",
    "\n",
    "# Plot train on left\n",
    "ax = plt.subplot(1, 2, 1)\n",
    "fig = ax.get_figure();\n",
    "sns.despine(fig);\n",
    "plot_patk(iterarray, train_patk,\n",
    "         'Train', k=5)\n",
    "\n",
    "# Plot test on right\n",
    "ax = plt.subplot(1, 2, 2)\n",
    "fig = ax.get_figure();\n",
    "sns.despine(fig);\n",
    "plot_patk(iterarray, test_patk,\n",
    "         'Test', k=5)\n",
    "\n",
    "plt.tight_layout();"
   ]
  },
  {
   "cell_type": "markdown",
   "metadata": {},
   "source": [
    "## Optimizing Hyperparameters with ```scikit-optimize```\n",
    "\n",
    "Now that we have a baseline, we would like to find optimal hyperparameters to maximize our p@k. On a side note, I'm not sure if precision at k is the best metric to be using here when all of our interactions are binary, but let's just ignore that for now...\n",
    "\n",
    "Last post I ran a grid search over a bunch of hyperparameters, and it took forever. It's been shown that a randomized search is better than explicit grid search, but we can do even better. Using the [scikit-optimize](https://scikit-optimize.github.io/) (```skopt```) library, we can treat the hyperpameters as free parameters to search over while using a black box optimization algorithm to maximize p@k. There are a number of optimization algorithms to pick from, but I'll just stick with ```forest_minimize``` today.\n",
    "\n",
    "The setup is pretty simple. You must first define an objective function that you want to minimize. The objective receives the parameters that you want to solve for as the arguments and returns the objective value at those parameters. Thus, for our case, we pass in the hyperparameters, we train the ```LightFM``` model with those parameters, and then return the p@k evaluated after training. Importantly, we must return the negative of the p@k because the objective must be *minimized*, so maximizing p@k is the same as minimizing the negative of the p@k. The last thing to note is that one must make liberal use of global variables because one can only pass hyperparameters to the objective function."
   ]
  },
  {
   "cell_type": "code",
   "execution_count": 16,
   "metadata": {},
   "outputs": [],
   "source": [
    "from skopt import forest_minimize"
   ]
  },
  {
   "cell_type": "code",
   "execution_count": 17,
   "metadata": {},
   "outputs": [],
   "source": [
    "def objective(params):\n",
    "    # unpack\n",
    "    epochs, learning_rate,\\\n",
    "    no_components, alpha = params\n",
    "    \n",
    "    user_alpha = alpha\n",
    "    item_alpha = alpha\n",
    "    model = LightFM(loss='warp',\n",
    "                    random_state=2016,\n",
    "                    learning_rate=learning_rate,\n",
    "                    no_components=no_components,\n",
    "                    user_alpha=user_alpha,\n",
    "                    item_alpha=item_alpha)\n",
    "    model.fit(train, epochs=epochs,\n",
    "              num_threads=4, verbose=True)\n",
    "    \n",
    "    patks = lightfm.evaluation.precision_at_k(model, test,\n",
    "                                              train_interactions=None,\n",
    "                                              k=5, num_threads=4)\n",
    "    mapatk = np.mean(patks)\n",
    "    # Make negative because we want to _minimize_ objective\n",
    "    out = -mapatk\n",
    "    # Handle some weird numerical shit going on\n",
    "    if np.abs(out + 1) < 0.01 or out < -1.0:\n",
    "        return 0.0\n",
    "    else:\n",
    "        return out"
   ]
  },
  {
   "cell_type": "markdown",
   "metadata": {},
   "source": [
    "With the objective function defined, we can define ranges for our hyperparameters. These can either be simple max and mins or we can assume a distribution like below. With the ranges defined, we simple call ```forest_minimize``` and wait a pretty long time."
   ]
  },
  {
   "cell_type": "code",
   "execution_count": 18,
   "metadata": {},
   "outputs": [],
   "source": [
    "space = [(1, 260), # epochs\n",
    "         (10**-4, 1.0, 'log-uniform'), # learning_rate\n",
    "         (20, 200), # no_components\n",
    "         (10**-6, 10**-1, 'log-uniform'), # alpha\n",
    "        ]\n",
    "\n",
    "res_fm = forest_minimize(objective, space, n_calls=250,\n",
    "                     random_state=0,\n",
    "                     verbose=True)"
   ]
  },
  {
   "cell_type": "code",
   "execution_count": 19,
   "metadata": {},
   "outputs": [
    {
     "name": "stdout",
     "output_type": "stream",
     "text": [
      "Maximimum p@k found: 0.04781\n",
      "Optimal parameters:\n",
      "epochs: 168\n",
      "learning_rate: 0.09126423099690231\n",
      "no_components: 104\n",
      "alpha: 0.00023540795300720628\n"
     ]
    }
   ],
   "source": [
    "print('Maximimum p@k found: {:6.5f}'.format(-res_fm.fun))\n",
    "print('Optimal parameters:')\n",
    "params = ['epochs', 'learning_rate', 'no_components', 'alpha']\n",
    "for (p, x_) in zip(params, res_fm.x):\n",
    "    print('{}: {}'.format(p, x_))"
   ]
  },
  {
   "cell_type": "markdown",
   "metadata": {},
   "source": [
    "No too shabby! We started with a p@k of ~0.034 with base hyperparameters, and then increased it to 0.0478 by finding better ones. Let's see what happens if we add in our item features as side information to the matrix factorization model.\n",
    "\n",
    "## Learning to Rank + Side Information\n",
    "\n",
    "```LightFM``` makes certain subtle assumptions when you do or do not pass side information. When no ```user_features``` or ```item_features``` are explicitly included, then ```LightFM``` assumes that both feature matrices are in fact identity matrices of size (```num_users``` X ```num_users```) or (```num_items``` X ```num_items```) for user and item feature matrices, respectively. What this is effectively doing is one-hot-encoding each user and item ID as a single feature vector. In the case where you do pass an ```item_features``` matrix, then ```LightFM``` does not do any one-hot-encoding. Thus, each user and item ID does not get its own vector unless you explicitly define one. The easiest way to do this is to make your own identity matrix and stack it on the side of the ```item_features``` matrix that we already created. This way, each item is described by a single vector for its unique ID and then a set of vectors for each of its tags."
   ]
  },
  {
   "cell_type": "code",
   "execution_count": 20,
   "metadata": {
    "collapsed": true
   },
   "outputs": [],
   "source": [
    "# Need to hstack item_features\n",
    "eye = sp.eye(item_features.shape[0], item_features.shape[0]).tocsr()\n",
    "item_features_concat = sp.hstack((eye, item_features))\n",
    "item_features_concat = item_features_concat.tocsr().astype(np.float32)"
   ]
  },
  {
   "cell_type": "markdown",
   "metadata": {},
   "source": [
    "We now need to define a new objective function that incorporates the ```item_features```."
   ]
  },
  {
   "cell_type": "code",
   "execution_count": 21,
   "metadata": {
    "collapsed": true
   },
   "outputs": [],
   "source": [
    "def objective_wsideinfo(params):\n",
    "    # unpack\n",
    "    epochs, learning_rate,\\\n",
    "    no_components, item_alpha,\\\n",
    "    scale = params\n",
    "    \n",
    "    user_alpha = item_alpha * scale\n",
    "    model = LightFM(loss='warp',\n",
    "                    random_state=2016,\n",
    "                    learning_rate=learning_rate,\n",
    "                    no_components=no_components,\n",
    "                    user_alpha=user_alpha,\n",
    "                    item_alpha=item_alpha)\n",
    "    model.fit(train, epochs=epochs,\n",
    "              item_features=item_features_concat,\n",
    "              num_threads=4, verbose=True)\n",
    "    \n",
    "    patks = lightfm.evaluation.precision_at_k(model, test,\n",
    "                                              item_features=item_features_concat,\n",
    "                                              train_interactions=None,\n",
    "                                              k=5, num_threads=3)\n",
    "    mapatk = np.mean(patks)\n",
    "    # Make negative because we want to _minimize_ objective\n",
    "    out = -mapatk\n",
    "    # Weird shit going on\n",
    "    if np.abs(out + 1) < 0.01 or out < -1.0:\n",
    "        return 0.0\n",
    "    else:\n",
    "        return out"
   ]
  },
  {
   "cell_type": "markdown",
   "metadata": {},
   "source": [
    "With that defined, let's now run a new hyperparameter search. I will add an extra scaling parameter which will control the scaling between the user and item item regularization (alpha) terms. Because of all of the extra item features, we may want to regularize things differently. We'll also input an ```x0``` term to ```forest_minimization``` which will allow us to start our hyperparameter search at the optimal parameters from the previous run without side information. "
   ]
  },
  {
   "cell_type": "code",
   "execution_count": 22,
   "metadata": {},
   "outputs": [],
   "source": [
    "space = [(1, 260), # epochs\n",
    "         (10**-3, 1.0, 'log-uniform'), # learning_rate\n",
    "         (20, 200), # no_components\n",
    "         (10**-5, 10**-3, 'log-uniform'), # item_alpha\n",
    "         (0.001, 1., 'log-uniform') # user_scaling\n",
    "        ]\n",
    "x0 = res_fm.x.append(1.)\n",
    "# This typecast is required\n",
    "item_features = item_features.astype(np.float32)\n",
    "res_fm_itemfeat = forest_minimize(objective_wsideinfo, space, n_calls=50,\n",
    "                                  x0=x0,\n",
    "                                  random_state=0,\n",
    "                                  verbose=True)"
   ]
  },
  {
   "cell_type": "code",
   "execution_count": 23,
   "metadata": {},
   "outputs": [
    {
     "name": "stdout",
     "output_type": "stream",
     "text": [
      "Maximimum p@k found: 0.04610\n",
      "Optimal parameters:\n",
      "epochs: 192\n",
      "learning_rate: 0.06676184785227865\n",
      "no_components: 86\n",
      "item_alpha: 0.0005563892936299544\n",
      "scaling: 0.6960826359109953\n"
     ]
    }
   ],
   "source": [
    "print('Maximimum p@k found: {:6.5f}'.format(-res_fm_itemfeat.fun))\n",
    "print('Optimal parameters:')\n",
    "params = ['epochs', 'learning_rate', 'no_components', 'item_alpha', 'scaling']\n",
    "for (p, x_) in zip(params, res_fm_itemfeat.x):\n",
    "    print('{}: {}'.format(p, x_))"
   ]
  },
  {
   "cell_type": "markdown",
   "metadata": {},
   "source": [
    "Now, you might be thinking \"Ethan, we went through all that only to get *worse* p@k?!\", and, frankly, I share your frustration. I've actually seen this happen before - adding side information will sometimes reduce or at least not increase whatever metric you're looking for. In all fairness, I only ran the above optimization for 50 calls, as opposed to the original one with 250 calls. This was mainly due to the matrix factorization model running much slower due to scaling with the number of user and item features. \n",
    "\n",
    "Even so, there are other reasons that the results could be worse. Maybe user behavior is a much better signal than human-defined tags and categories. The tag information could be poor for some of the models. As well, one may need to scale the tags *differently* compared to the unique ID vectors using, say, separate regularization terms, in order to get better behavior. Maybe one should normalize the tag weights by the number of tags. Maybe tags should not be included unless they have been used on at least ```X``` models. Maybe tags should only be included on models with few user interactions because after that ponit the cold start problem is sufficiently null. Who knows?! These are experiments I'd love to run, but I'd be happy to hear from others' experience.\n",
    "\n",
    "## Fun with Feature Embeddings\n",
    "\n",
    "Regardless of all of this, there is still a benefit to incorporating the item features. Because they have vectors embedded in the same space as the users and items, we can play with different types of recommendations. We'll first retrain the model on the full dataset using the optimal parameters."
   ]
  },
  {
   "cell_type": "code",
   "execution_count": 24,
   "metadata": {},
   "outputs": [],
   "source": [
    "epochs, learning_rate,\\\n",
    "no_components, item_alpha,\\\n",
    "scale = res_fm_itemfeat.x\n",
    "\n",
    "user_alpha = item_alpha * scale\n",
    "model = LightFM(loss='warp',\n",
    "                random_state=2016,\n",
    "                learning_rate=learning_rate,\n",
    "                no_components=no_components,\n",
    "                user_alpha=user_alpha,\n",
    "                item_alpha=item_alpha)\n",
    "model.fit(likes, epochs=epochs,\n",
    "          item_features=item_features_concat,\n",
    "          num_threads=4)"
   ]
  },
  {
   "cell_type": "markdown",
   "metadata": {},
   "source": [
    "### Feature Sorting\n",
    "\n",
    "Imagine you're on Sketchfab and click the tag [tiltbrush](https://sketchfab.com/tags/tiltbrush) which would presumably correspond to models created with Google's [Tilt Brush](https://www.tiltbrush.com/) VR appliction. How should Sketchfab return the results to you? They currently return results based on the popularity of the items which is presumably not connected to the \"tiltbrushiness\" of the models. With the factorized tags, we can now return a list of products that are *most similar* to the tiltbrush tag sorted by that similarity. To do this, we must find the tiltbrush vector and measure the cosine similarity to every product.\n",
    "\n",
    "Recall that we tacked our identity matrix onto the left-hand side of the item_features matrix. This means that our ```DictVectorizer```, which mapped our item features to column indices of our ```item_features``` matrix, will have indices that are off by the number of items."
   ]
  },
  {
   "cell_type": "code",
   "execution_count": 25,
   "metadata": {},
   "outputs": [],
   "source": [
    "idx = dv.vocabulary_['tag_tiltbrush'] + item_features.shape[0]"
   ]
  },
  {
   "cell_type": "markdown",
   "metadata": {},
   "source": [
    "Next, we need to calculate the cosine similarity between the tiltbrush vector and all other item *representations* where each item's representation is the sum of its feature vectors. These feature vectors are stored as ```item_embeddings``` in the LightFM model. (*Note: there are technically bias terms in the LightFM model that we are simply ignoring for now*)."
   ]
  },
  {
   "cell_type": "code",
   "execution_count": 26,
   "metadata": {},
   "outputs": [],
   "source": [
    "def cosine_similarity(vec, mat):\n",
    "    sim = vec.dot(mat.T)\n",
    "    matnorm = np.linalg.norm(mat, axis=1)\n",
    "    vecnorm = np.linalg.norm(vec)\n",
    "    return np.squeeze(sim / matnorm / vecnorm)\n",
    "\n",
    "tilt_vec = model.item_embeddings[[idx], :]\n",
    "item_representations = item_features_concat.dot(model.item_embeddings)\n",
    "sims = cosine_similarity(tilt_vec, item_representations)"
   ]
  },
  {
   "cell_type": "markdown",
   "metadata": {},
   "source": [
    "Lastly, we can repurpose some code from the last blog post to visualize the top 5 Sketchfab model thumbnails that are most similar to the tiltbrush vector."
   ]
  },
  {
   "cell_type": "code",
   "execution_count": 27,
   "metadata": {
    "collapsed": true
   },
   "outputs": [],
   "source": [
    "import requests\n",
    "def get_thumbnails(row, idx_to_mid, N=10):\n",
    "    thumbs = []\n",
    "    mids = []\n",
    "    for x in np.argsort(-row)[:N]:\n",
    "        response = requests.get('https://sketchfab.com/i/models/{}'\\\n",
    "                                .format(idx_to_mid[x])).json()\n",
    "        thumb = [x['url'] for x in response['thumbnails']['images']\n",
    "                 if x['width'] == 200 and x['height']==200]\n",
    "        if not thumb:\n",
    "            print('no thumbnail')\n",
    "        else:\n",
    "            thumb = thumb[0]\n",
    "        thumbs.append(thumb)\n",
    "        mids.append(idx_to_mid[x])\n",
    "    return thumbs, mids"
   ]
  },
  {
   "cell_type": "code",
   "execution_count": 28,
   "metadata": {
    "collapsed": true
   },
   "outputs": [],
   "source": [
    "from IPython.display import display, HTML\n",
    "\n",
    "def display_thumbs(thumbs, mids, N=5):\n",
    "    thumb_html = \"<a href='{}' target='_blank'>\\\n",
    "                  <img style='width: 160px; margin: 0px; \\\n",
    "                  float: left; border: 1px solid black;' \\\n",
    "                  src='{}' /></a>\"\n",
    "    images = ''\n",
    "    for url, mid in zip(thumbs[0:N], mids[0:N]):\n",
    "        link = 'http://sketchfab.com/models/{}'.format(mid)\n",
    "        images += thumb_html.format(link, url)\n",
    "    display(HTML(images))"
   ]
  },
  {
   "cell_type": "code",
   "execution_count": 29,
   "metadata": {},
   "outputs": [
    {
     "data": {
      "text/html": [
       "<a href='http://sketchfab.com/models/62d12cbb47df40d2bb40e8f66012cc09' target='_blank'>                  <img style='width: 160px; margin: 0px;                   float: left; border: 1px solid black;'                   src='https://dg5bepmjyhz9h.cloudfront.net/urls/62d12cbb47df40d2bb40e8f66012cc09/dist/thumbnails/a5f50c4a3fea457ba69e988557d7786f/200x200.jpeg' /></a><a href='http://sketchfab.com/models/f09ebdff0e9d40379979c45e721d72c4' target='_blank'>                  <img style='width: 160px; margin: 0px;                   float: left; border: 1px solid black;'                   src='https://dg5bepmjyhz9h.cloudfront.net/urls/f09ebdff0e9d40379979c45e721d72c4/dist/thumbnails/3189939b3a6b4a8ca09e2e9add51996a/200x200.jpeg' /></a><a href='http://sketchfab.com/models/62415539695042b48ad62675bff74105' target='_blank'>                  <img style='width: 160px; margin: 0px;                   float: left; border: 1px solid black;'                   src='https://dg5bepmjyhz9h.cloudfront.net/urls/62415539695042b48ad62675bff74105/dist/thumbnails/0714f92895754617b20ce2f3539422ba/200x200.jpeg' /></a><a href='http://sketchfab.com/models/a28b3a0fa83443df97c98068f23d62e8' target='_blank'>                  <img style='width: 160px; margin: 0px;                   float: left; border: 1px solid black;'                   src='https://dg5bepmjyhz9h.cloudfront.net/urls/a28b3a0fa83443df97c98068f23d62e8/dist/thumbnails/cea404d90af94b70a68da475ed09fe82/200x200.jpeg' /></a><a href='http://sketchfab.com/models/b27ee46609814315b207bca92ffc767b' target='_blank'>                  <img style='width: 160px; margin: 0px;                   float: left; border: 1px solid black;'                   src='https://dg5bepmjyhz9h.cloudfront.net/urls/b27ee46609814315b207bca92ffc767b/dist/thumbnails/62b6fb7095384266a8321dcf7bc17d18/200x200.jpeg' /></a>"
      ],
      "text/plain": [
       "<IPython.core.display.HTML object>"
      ]
     },
     "metadata": {},
     "output_type": "display_data"
    }
   ],
   "source": [
    "display_thumbs(*get_thumbnails(sims, idx_to_mid))"
   ]
  },
  {
   "cell_type": "markdown",
   "metadata": {},
   "source": [
    "Pretty cool! Looks like each of these are made with Tiltbrush. Feel free to click the above images to check out each model on the Sketchfab website.\n",
    "\n",
    "What else can we do?\n",
    "\n",
    "### Tag Suggestions\n",
    "\n",
    "Let's say that Sketchfab would like to encourage people to use more tags. This is advantageous to the company because it get users to create structured data for them for free while engaging the user. Sketchfab could encourage this behavior by suggesting tags to go with an image. One way we could do this would be to take a model and suggest tags to go with it that are not currently there. This involves finding tag vectors that are most similar to the model and then filtering tags that are already present."
   ]
  },
  {
   "cell_type": "code",
   "execution_count": 30,
   "metadata": {},
   "outputs": [
    {
     "data": {
      "text/html": [
       "<a href='http://sketchfab.com/models/381cbf8a06f042b9b41932f1f7ada997' target='_blank'><img style='width: 200px; margin: 0px;               float: left; border: 1px solid black;' src='https://dg5bepmjyhz9h.cloudfront.net/urls/381cbf8a06f042b9b41932f1f7ada997/dist/thumbnails/5b486753baca47e9ad175a279a61eb11/200x200.jpeg' /></a>"
      ],
      "text/plain": [
       "<IPython.core.display.HTML object>"
      ]
     },
     "metadata": {},
     "output_type": "display_data"
    },
    {
     "name": "stdout",
     "output_type": "stream",
     "text": [
      "Tags:\n",
      "- category_architecture\n",
      "- category_characters\n",
      "- category_cultural heritage\n",
      "- category_products & technology\n",
      "- category_science, nature & education\n",
      "- tag_rock\n",
      "- tag_sculpture\n",
      "- tag_woman\n"
     ]
    }
   ],
   "source": [
    "idx = 900\n",
    "mid = idx_to_mid[idx]\n",
    "def display_single(mid):\n",
    "    \"\"\"Display thumbnail for a single model\"\"\"\n",
    "    response = requests.get('https://sketchfab.com/i/models/{}'\\\n",
    "                            .format(mid)).json()\n",
    "    thumb = [x['url'] for x in response['thumbnails']['images']\n",
    "             if x['width'] == 200 and x['height']==200][0]\n",
    "    thumb_html = \"<a href='{}' target='_blank'>\\\n",
    "                  <img style='width: 200px; margin: 0px; \\\n",
    "                  float: left; border: 1px solid black;' \\\n",
    "                  src='{}' /></a>\"\n",
    "    link = 'http://sketchfab.com/models/{}'.format(mid)\n",
    "    display(HTML(thumb_html.format(link, thumb)))\n",
    "\n",
    "display_single(mid)\n",
    "\n",
    "# Make mapper to map from from feature index to feature name\n",
    "idx_to_feat = {v: k for (k, v) in dv.vocabulary_.items()}\n",
    "print('Tags:')\n",
    "for i in item_features.getrow(idx).indices:\n",
    "    print('- {}'.format(idx_to_feat[i]))"
   ]
  },
  {
   "cell_type": "code",
   "execution_count": 31,
   "metadata": {},
   "outputs": [
    {
     "name": "stdout",
     "output_type": "stream",
     "text": [
      "Suggested Tags:\n",
      "- tag_greek\n",
      "- tag_castel\n",
      "- tag_santangelo\n",
      "- tag_eros\n",
      "- tag_humanti\n",
      "- tag_galleria\n",
      "- tag_batholith\n",
      "- tag_rome\n",
      "- tag_substanced880\n",
      "- tag_roman\n"
     ]
    }
   ],
   "source": [
    "# Indices of all tag vectors\n",
    "tag_indices = set(v for (k, v) in dv.vocabulary_.items()\n",
    "                  if k.startswith('tag_'))\n",
    "# Tags that are already present\n",
    "filter_tags = set(i for i in item_features.getrow(idx).indices)\n",
    "\n",
    "item_representation = item_features_concat[idx, :].dot(model.item_embeddings)\n",
    "sims = cosine_similarity(item_representation, model.item_embeddings)\n",
    "\n",
    "suggested_tags = []\n",
    "i = 0\n",
    "recs = np.argsort(-sims)\n",
    "n_items = item_features.shape[0]\n",
    "while len(suggested_tags) < 10:\n",
    "    offset_idx = recs[i] - n_items\n",
    "    if offset_idx in tag_indices\\\n",
    "       and offset_idx not in filter_tags:\n",
    "        suggested_tags.append(idx_to_feat[offset_idx])\n",
    "    i += 1\n",
    "print('Suggested Tags:')\n",
    "for t in suggested_tags:\n",
    "    print('- {}'.format(t))"
   ]
  },
  {
   "cell_type": "markdown",
   "metadata": {},
   "source": [
    "## Quick conclusion\n",
    "\n",
    "So this post was long. There was a lot to learn and a lot of parameters to optimize. I'd like to note that, in terms of out of the box performance, it's hard to beat the ALS model from last post. There's fewer parameters to optimize, and the model is much more \"forgiving\" of being a bit off in your hyperparameters. Contrastingly, if your learning rate is poor, then SGD will give you *nothing* in return. It is definitely possible to beat ALS in performance, though, if you spend enough time fiddling around. Moreover, the ability to incorporate side information is important for being able to make new types of recommendations and overcome the cold start problem, so it's good to have this in your toolbox."
   ]
  }
 ],
 "metadata": {
  "kernelspec": {
   "display_name": "Python 3",
   "language": "python",
   "name": "python3"
  },
  "language_info": {
   "codemirror_mode": {
    "name": "ipython",
    "version": 3
   },
   "file_extension": ".py",
   "mimetype": "text/x-python",
   "name": "python",
   "nbconvert_exporter": "python",
   "pygments_lexer": "ipython3",
   "version": "3.6.3"
  }
 },
 "nbformat": 4,
 "nbformat_minor": 1
}
